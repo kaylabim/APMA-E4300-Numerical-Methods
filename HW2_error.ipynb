{
 "cells": [
  {
   "cell_type": "code",
   "execution_count": null,
   "metadata": {},
   "outputs": [],
   "source": [
    "Name = \"Kayla Kim\"\n",
    "Collaborators = \"Ananya Gandhi, Natalia Forero\""
   ]
  },
  {
   "cell_type": "code",
   "execution_count": 69,
   "metadata": {
    "deletable": false,
    "editable": false,
    "nbgrader": {
     "cell_type": "code",
     "checksum": "ffc23a35c206d401ae8124ed9e6fce75",
     "grade": false,
     "grade_id": "cell-7531378247537850",
     "locked": true,
     "schema_version": 3,
     "solution": false
    }
   },
   "outputs": [],
   "source": [
    "%matplotlib inline\n",
    "import numpy\n",
    "import matplotlib.pyplot as plt"
   ]
  },
  {
   "cell_type": "markdown",
   "metadata": {
    "deletable": false,
    "editable": false,
    "nbgrader": {
     "cell_type": "markdown",
     "checksum": "393f92de724a9fc8bc23bfa2bf04479a",
     "grade": false,
     "grade_id": "cell-1045934248403058",
     "locked": true,
     "schema_version": 3,
     "solution": false
    }
   },
   "source": [
    "Before you turn this problem in, make sure everything runs as expected. First, restart the kernel (in the menubar, select Kernel $\\rightarrow$ Restart) and then run all cells (in the menubar, select Cell $\\rightarrow$ Run All).\n",
    "\n",
    "Make sure you fill in any place that says YOUR CODE HERE or \"YOUR ANSWER HERE\", as well as your name and collaborators below:"
   ]
  },
  {
   "cell_type": "markdown",
   "metadata": {
    "deletable": false,
    "editable": false,
    "nbgrader": {
     "cell_type": "markdown",
     "checksum": "1c047f8ea8a1ba5cc6d067a906fc8242",
     "grade": false,
     "grade_id": "cell-1055125360070174",
     "locked": true,
     "schema_version": 3,
     "solution": false
    }
   },
   "source": [
    "# HW 2:  Forms of Error\n",
    "\n"
   ]
  },
  {
   "cell_type": "markdown",
   "metadata": {
    "deletable": false,
    "editable": false,
    "nbgrader": {
     "cell_type": "markdown",
     "checksum": "a3b3f2adc00cb58a9f74005bb84b21c6",
     "grade": false,
     "grade_id": "cell-2726284965293730",
     "locked": true,
     "schema_version": 3,
     "solution": false
    }
   },
   "source": [
    "## Question 1\n",
    "\n",
    "Consider the expression\n",
    "$$\n",
    "    f(x) = \\frac{1}{x - 1}\n",
    "$$"
   ]
  },
  {
   "cell_type": "markdown",
   "metadata": {
    "deletable": false,
    "editable": false,
    "nbgrader": {
     "cell_type": "markdown",
     "checksum": "fd8e18618a8fcc2d1b60a7eb5cd50d3f",
     "grade": false,
     "grade_id": "cell-4842217051547422",
     "locked": true,
     "schema_version": 3,
     "solution": false
    }
   },
   "source": [
    "**(a)** [10] Expand $f(x)$ in a Taylor series representation about $x_0 = 0$."
   ]
  },
  {
   "cell_type": "markdown",
   "metadata": {
    "deletable": false,
    "nbgrader": {
     "cell_type": "markdown",
     "checksum": "41c9cc51088dd1f0e96d702834da38c5",
     "grade": true,
     "grade_id": "cell-5812202303798243",
     "locked": false,
     "points": 10,
     "schema_version": 3,
     "solution": true
    }
   },
   "source": [
    "YOUR ANSWER HERE\n",
    "\n",
    "The general formula for the Taylor Series expansion for f(x) about $x_0 = 0$ is given by:\n",
    "\n",
    "\\begin{equation}\n",
    "\\begin{split}\n",
    "    T_N (x) & = \\sum_{n=0} {\\infty} f^{(n)}(x_0) \\frac{(x-x_0)^n}{n!} \\\\\n",
    "    & = f(x_0) + xf'(x_0) + \\frac{x^2}{2!} f''(x_0) + ... + \\frac{x^N}{N!} f^{(N)}(x_0)\n",
    "\\end{split}\n",
    "\\end{equation}\n",
    "\n",
    "Since $f(x_0) = -1, f'(x_0) = -\\frac{1}{(x_0-1)^2} = -1, f''(x_0) = \\frac{2}{(x_0-1)^3} = -2, f'''(x_0) = -\\frac{3!}{(x_0-1)^4} = -3!, ..., f^{(N)}(x_0) = -N! $, we find that \n",
    "\n",
    "\\begin{equation}\n",
    "\\begin{split}\n",
    "    T_N (x) & = -1 - x - x^2 - x^3 - ... - x^N\n",
    "    & = - (1 + x + x^2 + ... + x^N)\n",
    "    \\end{split}\n",
    "\\end{equation}"
   ]
  },
  {
   "cell_type": "markdown",
   "metadata": {
    "deletable": false,
    "editable": false,
    "nbgrader": {
     "cell_type": "markdown",
     "checksum": "0862420ba8dfc5753780172c51596857",
     "grade": false,
     "grade_id": "cell-7289929271577925",
     "locked": true,
     "schema_version": 3,
     "solution": false
    }
   },
   "source": [
    "**(b)** [5] What is the expected operation count if we truncate the series to $N$ terms?  Simplify the power to multiplications rather than something more exotic.  Stating the answer in terms of big-O notation is fine."
   ]
  },
  {
   "cell_type": "markdown",
   "metadata": {
    "deletable": false,
    "nbgrader": {
     "cell_type": "markdown",
     "checksum": "573bd26e00cb263e8e98cd518380f3bf",
     "grade": true,
     "grade_id": "cell-9783535558625426",
     "locked": false,
     "points": 5,
     "schema_version": 3,
     "solution": true
    }
   },
   "source": [
    "YOUR ANSWER HERE\n",
    "\n",
    "The expected operation count for the series truncated to $N$ terms is $O(N^2)$ since \n",
    "there are N(N-1)/2 operations = O(N^2)\n",
    "Using Horner's method, this becomes O(N) "
   ]
  },
  {
   "cell_type": "markdown",
   "metadata": {
    "deletable": false,
    "editable": false,
    "nbgrader": {
     "cell_type": "markdown",
     "checksum": "cb5d5424b84a28650220f726241a2197",
     "grade": false,
     "grade_id": "cell-9523873765967580",
     "locked": true,
     "schema_version": 3,
     "solution": false
    }
   },
   "source": [
    "**(c)** [15] Make two plots of the relative error of the approximation vs. the true value of the function.  In the first pick a value to evaluate both functions at keeping $x_0 \\neq x$ but vary the number of terms you keep ($N$).  In the second fix $N$ and vary $x$.  Explain what you observe.  "
   ]
  },
  {
   "cell_type": "code",
   "execution_count": 135,
   "metadata": {
    "deletable": false,
    "nbgrader": {
     "cell_type": "code",
     "checksum": "080fbd33a24e515a0d78b34dcfb4949e",
     "grade": true,
     "grade_id": "cell-2037273928324716",
     "locked": false,
     "points": 10,
     "schema_version": 3,
     "solution": true
    }
   },
   "outputs": [],
   "source": [
    "#function to calc taylor\n",
    "def Tn(N, x):\n",
    "    sum = -1 \n",
    "    n = 1 \n",
    "    \n",
    "    while n < N:\n",
    "        sum = sum * x - 1\n",
    "        n += 1\n",
    "    \n",
    "    return sum "
   ]
  },
  {
   "cell_type": "code",
   "execution_count": 138,
   "metadata": {},
   "outputs": [
    {
     "data": {
      "image/png": "[encoded data removed]",
      "text/plain": [
       "<Figure size 432x288 with 1 Axes>"
      ]
     },
     "metadata": {
      "needs_background": "light"
     },
     "output_type": "display_data"
    }
   ],
   "source": [
    "# Plot 1: (fix x, vary N) \n",
    "\n",
    "x_0 = 0.1\n",
    "trueVal = 1 / (x_0 - 1)\n",
    "N = numpy.linspace(1, 100, 101)\n",
    "T_N = [Tn(number, x_0) for number in N]\n",
    "error = [abs(computed - trueVal)/abs(trueVal) for computed in T_N]\n",
    "actual = [trueVal]*len(N)\n",
    "\n",
    "plt.plot(N, error, label=\"Relative Error\")\n",
    "plt.xlabel(\"N\")\n",
    "plt.ylabel(\"Relative Error\")\n",
    "plt.title(\"Relative Error vs. Number of Terms (N)\")\n",
    "\n",
    "plt.legend()\n",
    "plt.show()\n",
    "# raise NotImplementedError()"
   ]
  },
  {
   "cell_type": "code",
   "execution_count": 139,
   "metadata": {},
   "outputs": [
    {
     "data": {
      "image/png": "[encoded data removed]",
      "text/plain": [
       "<Figure size 432x288 with 1 Axes>"
      ]
     },
     "metadata": {
      "needs_background": "light"
     },
     "output_type": "display_data"
    }
   ],
   "source": [
    "#Plot 2: (fix N, vary x) \n",
    "N = 10\n",
    "x = numpy.linspace(0, 2, 100)\n",
    "trueval = [(1 / (x_0 - 1)) for x_0 in x]\n",
    "T_N = [Tn(N, x_0) for x_0 in x]\n",
    "error = [abs(computed - actual)/abs(actual) for (computed, actual) in zip(T_N, trueval)]\n",
    "\n",
    "#plt.plot(x, T_N, label= \"Taylor Approximation\")\n",
    "plt.plot(x, error, label= \"Relative Error\")\n",
    "#plt.plot(x, trueval, label=\"Actual Value\")\n",
    "\n",
    "plt.xlabel(\"x\")\n",
    "plt.ylabel(\"Relative Error\")\n",
    "plt.title(\"Relative Error vs. x\")\n",
    "\n",
    "plt.legend()\n",
    "plt.show()"
   ]
  },
  {
   "cell_type": "markdown",
   "metadata": {
    "deletable": false,
    "nbgrader": {
     "cell_type": "markdown",
     "checksum": "6caddaf02072c95fbda508eb65d52f3c",
     "grade": true,
     "grade_id": "cell-6881618690209186",
     "locked": false,
     "points": 5,
     "schema_version": 3,
     "solution": true
    }
   },
   "source": [
    "YOUR ANSWER HERE"
   ]
  },
  {
   "cell_type": "markdown",
   "metadata": {
    "deletable": false,
    "editable": false,
    "nbgrader": {
     "cell_type": "markdown",
     "checksum": "3725fe126436831e65e1a5fbf40c7509",
     "grade": false,
     "grade_id": "cell-6980143175196213",
     "locked": true,
     "schema_version": 3,
     "solution": false
    }
   },
   "source": [
    "## Question 2\n",
    "\n",
    "**(a)** [5] Consider the following two equivalent sums:\n",
    "\n",
    "$$\n",
    "    \\sum^\\infty_{n=1} \\left [ \\frac{1}{n} - \\frac{1}{n+1} \\right ] = \\sum^\\infty_{n=1} \\frac{1}{n (n + 1)}\n",
    "$$\n",
    "\n",
    "Write two Python functions that compute each of these sums but to a finite number of terms $N$."
   ]
  },
  {
   "cell_type": "code",
   "execution_count": 30,
   "metadata": {
    "deletable": false,
    "nbgrader": {
     "cell_type": "code",
     "checksum": "ad12873909a015e7f252710079d98ae9",
     "grade": false,
     "grade_id": "cell-8697691190464640",
     "locked": false,
     "schema_version": 3,
     "solution": true
    }
   },
   "outputs": [],
   "source": [
    "def sum_1(N):\n",
    "    \"\"\"Compute the summation S_N defined as\n",
    "    \n",
    "    \\sum^N_{n=1} \\left [ \\frac{1}{n} - \\frac{1}{n+1} \\right ]\n",
    "    \n",
    "    :Input:\n",
    "     *N* (int) The upper bound on the summation.\n",
    "    \n",
    "    Returns Sn (float)\n",
    "    \"\"\"\n",
    "\n",
    "    Sn = 0\n",
    "    for n in range(1, N+1, 1):\n",
    "        Sn += 1/n - 1/(n+1)\n",
    "        \n",
    "    return Sn\n",
    "\n",
    "\n",
    "def sum_2(N):\n",
    "    \"\"\"Compute the summation S_N defined as\n",
    "    \n",
    "    \\sum^N_{n=1} \\frac{1}{n (n + 1)}\n",
    "    \n",
    "    :Input:\n",
    "     *N* (int) The upper bound on the summation.\n",
    "    \n",
    "    Returns Sn (float)\n",
    "    \"\"\"\n",
    "\n",
    "    Sn = 0\n",
    "    for n in range(1, N+1, 1):\n",
    "        Sn += 1/(n*(n+1))\n",
    "        \n",
    "    return Sn"
   ]
  },
  {
   "cell_type": "code",
   "execution_count": 31,
   "metadata": {
    "deletable": false,
    "editable": false,
    "nbgrader": {
     "cell_type": "code",
     "checksum": "417c4193bce636c3601d43a348184a57",
     "grade": true,
     "grade_id": "cell-4193597021505884",
     "locked": true,
     "points": 5,
     "schema_version": 3,
     "solution": false
    }
   },
   "outputs": [
    {
     "name": "stdout",
     "output_type": "stream",
     "text": [
      "Success!\n"
     ]
    }
   ],
   "source": [
    "for N in range(5, 21, 5):\n",
    "    numpy.testing.assert_allclose(sum_1(N), sum_2(N))\n",
    "print(\"Success!\")"
   ]
  },
  {
   "cell_type": "markdown",
   "metadata": {
    "deletable": false,
    "editable": false,
    "nbgrader": {
     "cell_type": "markdown",
     "checksum": "935f929039416b298b01866a5a9a4d44",
     "grade": false,
     "grade_id": "cell-9110689736182158",
     "locked": true,
     "schema_version": 3,
     "solution": false
    }
   },
   "source": [
    "**(b)** [5] Compute the absolute error between the two summation approaches."
   ]
  },
  {
   "cell_type": "code",
   "execution_count": 48,
   "metadata": {
    "deletable": false,
    "nbgrader": {
     "cell_type": "code",
     "checksum": "ff4d60c2d5415a56c79e9a18e7e7b1f1",
     "grade": false,
     "grade_id": "cell-2728436851289605",
     "locked": false,
     "schema_version": 3,
     "solution": true
    }
   },
   "outputs": [],
   "source": [
    "def abs_error(N):\n",
    "    \"\"\"Compute the absolute error of the two sums defined as\n",
    "    \n",
    "    \\sum^N_{n=1} \\left [ \\frac{1}{n} - \\frac{1}{n+1} \\right ]\n",
    "    \n",
    "    and \n",
    "    \n",
    "    \\sum^N_{n=1} \\frac{1}{n (n + 1)}\n",
    "    \n",
    "    respectively for the given N.\n",
    "    \n",
    "    :Input:\n",
    "     *N* (int) The upper bound on the summation.\n",
    "    \n",
    "    Returns *error* (float)\n",
    "    \"\"\"\n",
    "    \n",
    "    f = sum_1(N)\n",
    "    F = sum_2(N)\n",
    "    error = numpy.abs(f-F)\n",
    "    \n",
    "    return error"
   ]
  },
  {
   "cell_type": "code",
   "execution_count": 49,
   "metadata": {
    "deletable": false,
    "editable": false,
    "nbgrader": {
     "cell_type": "code",
     "checksum": "099597f788426a72f262445ad832bdeb",
     "grade": true,
     "grade_id": "cell-8085566637096152",
     "locked": true,
     "points": 5,
     "schema_version": 3,
     "solution": false
    }
   },
   "outputs": [
    {
     "name": "stdout",
     "output_type": "stream",
     "text": [
      "Success!\n"
     ]
    }
   ],
   "source": [
    "N = numpy.logspace(1, 7, 7, dtype=int)\n",
    "answer = numpy.zeros(N.shape)\n",
    "for (n, upper_bound) in enumerate(N):\n",
    "    answer[n] = abs_error(upper_bound)\n",
    "numpy.testing.assert_allclose(answer, numpy.zeros(answer.shape), atol=1e-10)\n",
    "print(\"Success!\")"
   ]
  },
  {
   "cell_type": "markdown",
   "metadata": {
    "deletable": false,
    "editable": false,
    "nbgrader": {
     "cell_type": "markdown",
     "checksum": "e594713f5c58a4e401858330c3f301c4",
     "grade": false,
     "grade_id": "cell-8453647864370181",
     "locked": true,
     "schema_version": 3,
     "solution": false
    }
   },
   "source": [
    "**(c)** [10] Plot the relative and absolute error versus $N$ up to large $N$ (above at least $10^4$).  Also plot a line where $\\epsilon_{\\text{machine}}$ should be.  Comment on what you see."
   ]
  },
  {
   "cell_type": "code",
   "execution_count": 140,
   "metadata": {
    "deletable": false,
    "nbgrader": {
     "cell_type": "code",
     "checksum": "828d4b32491c276fb4aacafb6c89f1ee",
     "grade": true,
     "grade_id": "cell-5088322155772002",
     "locked": false,
     "points": 10,
     "schema_version": 3,
     "solution": true
    }
   },
   "outputs": [
    {
     "data": {
      "image/png": "[encoded data removed]",
      "text/plain": [
       "<Figure size 864x288 with 1 Axes>"
      ]
     },
     "metadata": {
      "needs_background": "light"
     },
     "output_type": "display_data"
    }
   ],
   "source": [
    "fig = plt.figure()\n",
    "fig.set_figwidth(fig.get_figwidth() * 2)\n",
    "\n",
    "# HINT!  Use the plotting function semilogx to plot the errors\n",
    "#        Also, do not forget to label your plot\n",
    "\n",
    "N = numpy.logspace(1, 7, 7, dtype=int)\n",
    "abserr = [abs_error(n) for n in N]\n",
    "relerr = [err/sum_1(n) for (err, n) in zip(abserr, N)]\n",
    "epsilon = [numpy.finfo(float).eps for n in N]\n",
    "\n",
    "plt.semilogx(N, abserr, label=\"Absolute Error\")\n",
    "plt.semilogx(N, relerr, label=\"Relative Error\")\n",
    "plt.semilogx(N, epsilon, label=\"Machine Epsilon\")\n",
    "plt.legend()\n",
    "plt.grid()\n",
    "\n",
    "plt.show()"
   ]
  },
  {
   "cell_type": "markdown",
   "metadata": {
    "deletable": false,
    "editable": false,
    "nbgrader": {
     "cell_type": "markdown",
     "checksum": "2d109baa3e03345c0a605226e8feb891",
     "grade": false,
     "grade_id": "cell-6654906620112742",
     "locked": true,
     "schema_version": 3,
     "solution": false
    }
   },
   "source": [
    "**(d)** [5] Theorize what may have lead to the differences in answers."
   ]
  },
  {
   "cell_type": "markdown",
   "metadata": {
    "deletable": false,
    "nbgrader": {
     "cell_type": "markdown",
     "checksum": "9a8cd0061bb95b6cd5d7e1328fc68281",
     "grade": true,
     "grade_id": "cell-8407703834073311",
     "locked": false,
     "points": 5,
     "schema_version": 3,
     "solution": true
    }
   },
   "source": [
    "YOUR ANSWER HERE"
   ]
  },
  {
   "cell_type": "markdown",
   "metadata": {
    "deletable": false,
    "editable": false,
    "nbgrader": {
     "cell_type": "markdown",
     "checksum": "c1439ff58529b630b3a4383b0854b90d",
     "grade": false,
     "grade_id": "cell-5632471080286207",
     "locked": true,
     "schema_version": 3,
     "solution": false
    }
   },
   "source": [
    "## Question 3\n",
    "\n",
    "Following our discussion in lecture regarding approximating $e^x$ again consider the Taylor polynomial approximation:\n",
    "\n",
    "$$e^x \\approx T_n(x) = 1 + x + \\frac{x^2}{2!} + \\frac{x^3}{3!} + \\cdots + \\frac{x^n}{n!}$$"
   ]
  },
  {
   "cell_type": "markdown",
   "metadata": {
    "deletable": false,
    "editable": false,
    "nbgrader": {
     "cell_type": "markdown",
     "checksum": "a23337b3cdc51fce85e438ea1e80337b",
     "grade": false,
     "grade_id": "cell-8186992197557199",
     "locked": true,
     "schema_version": 3,
     "solution": false
    }
   },
   "source": [
    "**(a)** [10] Derive the upper bound on the *relative error* $r_n$ assuming that $0 < x$ and\n",
    "\n",
    "$$r_n = \\frac{|e^x - T_n(x)|}{|e^x|}$$\n",
    "\n",
    "is given by\n",
    "\n",
    "$$r_n \\leq \\left | \\frac{x^{n+1}}{(n + 1)!} \\right |$$"
   ]
  },
  {
   "cell_type": "markdown",
   "metadata": {
    "deletable": false,
    "nbgrader": {
     "cell_type": "markdown",
     "checksum": "665bc5076e8e0e0222b9c1298162ac13",
     "grade": true,
     "grade_id": "cell-2747685663052674",
     "locked": false,
     "points": 10,
     "schema_version": 3,
     "solution": true
    }
   },
   "source": [
    "YOUR ANSWER HERE\n",
    "\n",
    "By Taylor's inequality, for a positive real number $M$ (aka the upperbound) such that $|f^{(n+1)}(x)| ≤ M$ for all $x$ such that $|x-a|≤d$, then the residual is given by\n",
    "$$ r_n(x) ≤ \\frac{M}{(n+1)!}|x-a|^{n+1}$$\n",
    "\n",
    "In this case, the $(n+1)$ th derivative of $f(x) = e^x$, since $(f'(x) = 1 = f''(x) = ... = f^{(n)}(x) = f^{(n+1)}(x))$, and therefore the upper bound $M = 1$.\n",
    "\n",
    "In other words, for $e^x-T_n(x) = \\frac{e^cx^{n+1}}{(n+1)!}$, where $c \\in (0,x)$\n",
    "\\begin{equation}\n",
    "\\begin{split}\n",
    "    |e^x-T_n(x)| ≤ |e^x| \\left| \\frac{x^{n+1}}{(n+1)!} \\right| \\\\\n",
    "    r_n = \\frac{|e^x-T_n(x)|}{|e^x|} ≤ \\frac{x^{n+1}}{(n+1)!}\n",
    "\\end{split}\n",
    "\\end{equation}\n",
    "(Since x > 0, simplified by removing absolute value)"
   ]
  },
  {
   "cell_type": "markdown",
   "metadata": {
    "deletable": false,
    "editable": false,
    "nbgrader": {
     "cell_type": "markdown",
     "checksum": "c08c5aba0bf4027045b40cd8d1042fd4",
     "grade": false,
     "grade_id": "cell-4678254376542691",
     "locked": true,
     "schema_version": 3,
     "solution": false
    }
   },
   "source": [
    "**(b)** [10] Analytically show that for large $x$ and $n$, $r_n \\leq \\epsilon_{\\text{machine}}$ implies that we need at least $n > e \\cdot x$ terms in the series (where $e = \\text{exp}(1)$).\n",
    "\n",
    "*Hint* Use Stirling's approximation $log (n!) \\approx n~log~n - n$."
   ]
  },
  {
   "cell_type": "markdown",
   "metadata": {
    "deletable": false,
    "nbgrader": {
     "cell_type": "markdown",
     "checksum": "a8c46a136c32edd49359ec88e34e19fb",
     "grade": true,
     "grade_id": "cell-4305745011657702",
     "locked": false,
     "points": 10,
     "schema_version": 3,
     "solution": true
    }
   },
   "source": [
    "YOUR ANSWER HERE\n",
    "\n",
    "We are trying to show that for large x and n, $ \\frac{x^{n+1}}{(n+1)!} ≤ \\epsilon_{machine} \\rightarrow n > exp(1) \\cdot x$ where n is the number of terms in the series.\n",
    "$$x^{n+1} < (n+1)!$$\n",
    "(taking the log of both sides) \n",
    "\\begin{equation}\n",
    "\\begin{split}\n",
    "    (n+1) log(x) &< (n+1)log(n+1)-(n+1) \\\\\n",
    "    log(x) &< log(n+1) - 1 \\\\\n",
    "    log(x) + 1 &< log(n+1) \\\\\n",
    "    log(x) + log(e) &< log(n+1) \\\\\n",
    "\\end{split}\n",
    "\\end{equation}\n",
    "\n",
    "Using or large values of n, log(n+1) = log(n), so \n",
    "\\begin{equation}\n",
    "\\begin{split}\n",
    "    log(x) + log(e) &< log(n) \\\\\n",
    "    log(e \\cdot x) &< log(n) \\\\\n",
    "\\end{split}\n",
    "\\end{equation}\n",
    "\n",
    "So finally, $$n > e \\cdot x$$.\n",
    "\n",
    "\n",
    "<!-- Let m be a natural number such that (m-1) ≤ x < m. Then for n > m, \n",
    "\\begin{equation}\n",
    "\\begin{split}\n",
    "    \\frac{x^{n+1}}{(n+1)!} &= (\\frac{x}{1} \\cdot \\frac{x}{2} \\cdot ... \\cdot \\frac{x}{m-1} ) \\cdot \\frac{x}{m+1} ... \\frac{x}{n+1}\n",
    "    &= M(x) (\\frac{x}{m})^{n-m}\n",
    "\\end{split}\n",
    "\\end{equation}\n",
    "\n",
    "such that $M(x) = (\\frac{x}{1} \\cdot \\frac{x}{2} \\cdot ... \\cdot \\frac{x}{m-1} \\cdot \\frac{x}{m})$ and $s= \\frac{x}{m} < 1$\n",
    "\n",
    "Therefore, for $ \\lim_{n\\to\\infty} s^{n-m} = 0$, there exists natural number N such that $\\left| (\\frac{x}{m})^{n-m} \\right| < \\epsilon$ for all $n ≥ N$. -->"
   ]
  },
  {
   "cell_type": "markdown",
   "metadata": {
    "deletable": false,
    "editable": false,
    "nbgrader": {
     "cell_type": "markdown",
     "checksum": "e5bb763654f1893d309466c7d63a89e6",
     "grade": false,
     "grade_id": "cell-8048500717179941",
     "locked": true,
     "schema_version": 3,
     "solution": false
    }
   },
   "source": [
    "**(c)** [10] Write a Python function that accurately computes $T_n$ to the specified relative error tolerance and returns both the estimate on the range and the number of terms in the series needed over the interval $[-2, 2]$.  Note that the testing tolerance will be $8 \\cdot \\epsilon_{\\text{machine}}$.\n",
    "\n",
    "Make sure to document your code including expected inputs, outputs, and assumptions being made."
   ]
  },
  {
   "cell_type": "code",
   "execution_count": 126,
   "metadata": {
    "deletable": false,
    "nbgrader": {
     "cell_type": "code",
     "checksum": "0237c5851235dfe7e32fd04c379b847f",
     "grade": false,
     "grade_id": "cell-5914967225034965",
     "locked": false,
     "schema_version": 3,
     "solution": true
    }
   },
   "outputs": [],
   "source": [
    "# HINT: Think about how we evaluated polynomials efficiently in class\n",
    "\n",
    "import scipy.misc as misc\n",
    "\n",
    "def Tn_exp(x, tolerance=1e-3):\n",
    "\n",
    "    MAX_N = 100\n",
    "    \n",
    "    N = 0 \n",
    "    Tn = 0 \n",
    "    \n",
    "    for n in range(0, MAX_N):\n",
    "        result = numpy.ones(x.shape)\n",
    "        counter = 0\n",
    "        \n",
    "        while (counter < n):\n",
    "            result *= x\n",
    "            if (n > counter):\n",
    "                result /= (n - counter)\n",
    "            result += 1\n",
    "            counter += 1\n",
    "            \n",
    "        if(numpy.all(numpy.abs(result - numpy.exp(x)) / numpy.abs(numpy.exp(x)) < tolerance)):\n",
    "            N = n \n",
    "            Tn = result\n",
    "            break \n",
    "    \n",
    "    return Tn, N"
   ]
  },
  {
   "cell_type": "code",
   "execution_count": 127,
   "metadata": {
    "deletable": false,
    "editable": false,
    "nbgrader": {
     "cell_type": "code",
     "checksum": "6d993fb38ef99c1031cfe92f7a57aa42",
     "grade": true,
     "grade_id": "cell-9688375319882602",
     "locked": true,
     "points": 10,
     "schema_version": 3,
     "solution": false
    }
   },
   "outputs": [
    {
     "name": "stdout",
     "output_type": "stream",
     "text": [
      "Success!\n"
     ]
    }
   ],
   "source": [
    "x = numpy.linspace(-2, 2, 100)\n",
    "tolerance = 8.0 * numpy.finfo(float).eps\n",
    "answer, N = Tn_exp(x, tolerance=tolerance)\n",
    "assert(numpy.all(numpy.abs(answer - numpy.exp(x)) / numpy.abs(numpy.exp(x)) < tolerance))\n",
    "print(\"Success!\")"
   ]
  },
  {
   "cell_type": "markdown",
   "metadata": {
    "deletable": false,
    "editable": false,
    "nbgrader": {
     "cell_type": "markdown",
     "checksum": "a5cf3d3ff9267acab1292318e3b45513",
     "grade": false,
     "grade_id": "cell-6968179660613369",
     "locked": true,
     "schema_version": 3,
     "solution": false
    }
   },
   "source": [
    "## Question 4\n",
    "\n",
    "[5] Given the Taylor polynomial expansions\n",
    "\n",
    "$$\\frac{1}{1-\\Delta x} = 1 + \\Delta x + \\Delta x^2 + \\Delta x^3 + \\mathcal{O}(\\Delta x^4)$$\n",
    "\n",
    "and\n",
    "\n",
    "$$\\cosh \\Delta x = 1 + \\frac{\\Delta x^2}{2!} + \\frac{\\Delta x^4}{4!} + \\mathcal{O}(\\Delta x^6)$$\n",
    "\n",
    "determine the order of approximation for their sum and product (determine the exponent that belongs in the $\\mathcal{O}$).\n"
   ]
  },
  {
   "cell_type": "markdown",
   "metadata": {
    "deletable": false,
    "nbgrader": {
     "cell_type": "markdown",
     "checksum": "41db80ba6f3a35edaad0758800049870",
     "grade": true,
     "grade_id": "cell-8500724062567566",
     "locked": false,
     "points": 5,
     "schema_version": 3,
     "solution": true
    }
   },
   "source": [
    "YOUR ANSWER HERE\n",
    "\n",
    "Order of approximation for sum: $\\mathcal{O}(\\Delta x^4)$\n",
    "\\begin{equation}\n",
    "\\begin{split}\n",
    "    cosh \\Delta x + \\frac{1}{1-\\Delta x} &= 1 + \\Delta x + \\Delta x^2 + \\Delta x^3 + \\mathcal{O}(\\Delta x^4) + 1 + \\frac{\\Delta x^2}{2!} + \\frac{\\Delta x^4}{4!} + \\mathcal{O}(\\Delta x^6)\\\\\n",
    "    &= 2 + \\Delta x + \\frac{3}{2} \\Delta x^2 + \\Delta x^3 + \\mathcal{O}(\\Delta x^4)\n",
    "\\end{split}\n",
    "\\end{equation}\n",
    "\n",
    "Order of approximation for the product: $\\mathcal{O}(\\Delta x^4)$\n",
    "\\begin{equation}\n",
    "\\begin{split}\n",
    "     \\frac{cosh \\Delta x}{1-\\Delta x} &= (1 + \\Delta x + \\Delta x^2 + \\Delta x^3 + \\mathcal{O}(\\Delta x^4))(1 + \\frac{\\Delta x^2}{2!} + \\frac{\\Delta x^4}{4!} + \\mathcal{O}(\\Delta x^6)) \\\\\n",
    "     &= 1 + \\frac{\\Delta x^2}{2!} + \\frac{\\Delta x^4}{4!} + \\mathcal{O}(\\Delta x^6) + \\Delta x + \\frac{\\Delta x^3}{2!} + \\frac{\\Delta x^5}{4!} + \\Delta x \\mathcal{O}(\\Delta x^6) + \\Delta x^2 + \\frac{\\Delta x^4}{2!} + \\frac{\\Delta x^6}{4!} + \\Delta x^2 \\mathcal{O}(\\Delta x^6) \\\\\n",
    "     &  + \\Delta x^3 + \\frac{\\Delta x^5}{2!} + \\frac{\\Delta x^7}{4!} + \\Delta x^3 \\mathcal{O}(\\Delta x^6) + \\mathcal{O}(\\Delta x^4) + \\frac{\\Delta x^2}{2!} \\mathcal{O}(\\Delta x^4) + \\frac{\\Delta x^4}{4!} \\mathcal{O}(\\Delta x^4) + \\mathcal{O}(\\Delta x^4) \\mathcal{O}(\\Delta x^6) \\\\\n",
    "     &= 1 + \\frac{\\Delta x^2}{2!} + \\frac{\\Delta x^4}{4!} + \\mathcal{O}(\\Delta x^6) + \\Delta x + \\frac{\\Delta x^3}{2!} + \\frac{\\Delta x^5}{4!} + \\mathcal{O}(\\Delta x^7) + \\Delta x^2 + \\frac{\\Delta x^4}{2!} + \\frac{\\Delta x^6}{4!} + \\mathcal{O}(\\Delta x^8) \\\\\n",
    "     & + \\Delta x^3 + \\frac{\\Delta x^5}{2!} + \\frac{\\Delta x^7}{4!} + \\mathcal{O}(\\Delta x^9) + \\mathcal{O}(\\Delta x^4) + \\mathcal{O}(\\Delta x^6) + \\mathcal{O}(\\Delta x^8) + \\mathcal{O}(\\Delta x^4) \\\\\n",
    "\\end{split}\n",
    "\\end{equation}\n",
    "\n",
    "The sum of big O terms is the smallest of the exponents. So, finally, \n",
    "\n",
    "$$\n",
    "    \\frac{cosh \\Delta x}{1-\\Delta x} = 1 + \\Delta x + \\frac{3}{2} \\Delta x^2 + \\frac{3}{2} \\Delta x^3 + \\mathcal{O}(\\Delta x^4)\n",
    "$$"
   ]
  },
  {
   "cell_type": "markdown",
   "metadata": {
    "deletable": false,
    "editable": false,
    "nbgrader": {
     "cell_type": "markdown",
     "checksum": "466960198ea345f717d705526c307588",
     "grade": false,
     "grade_id": "cell-4316397622797027",
     "locked": true,
     "schema_version": 3,
     "solution": false
    }
   },
   "source": [
    "## Question 5\n",
    "\n",
    "Consider the operation\n",
    "$$\\begin{aligned}\n",
    "    f(x,y) = \\frac{1}{x + y}\n",
    "\\end{aligned}$$\n",
    "for the following questions."
   ]
  },
  {
   "cell_type": "markdown",
   "metadata": {
    "deletable": false,
    "editable": false,
    "nbgrader": {
     "cell_type": "markdown",
     "checksum": "8d9287a1bee19da47e43c093ee0030a0",
     "grade": false,
     "grade_id": "cell-2688842335639501",
     "locked": true,
     "schema_version": 3,
     "solution": false
    }
   },
   "source": [
    "**(a)** [5] Estimate the relative error due to floating point approximations to the representation of the numbers assuming exact operations."
   ]
  },
  {
   "cell_type": "markdown",
   "metadata": {
    "deletable": false,
    "nbgrader": {
     "cell_type": "markdown",
     "checksum": "2cc5548597c3b0d4a380885c640fb45a",
     "grade": true,
     "grade_id": "cell-8695910698498616",
     "locked": false,
     "points": 5,
     "schema_version": 3,
     "solution": true
    }
   },
   "source": [
    "YOUR ANSWER HERE\n",
    "\n",
    "Floating point error:\n",
    "\\begin{equation}\n",
    "\\begin{split}\n",
    "    fl(\\frac{1}{x+y}) &= \\dfrac{1}{x(1+\\delta_x)+y(1+\\delta_y)} \\\\\n",
    "    &= \\dfrac{1}{x+y+x\\delta_x+y\\delta_y} \\\\\n",
    "    &= \\dfrac{1}{(x+y)(1+\\dfrac{x\\delta_x+y\\delta_y}{x+y})} \\\\\n",
    "\\end{split}\n",
    "\\end{equation}\n",
    "\n",
    "Relative Error: \n",
    "\\begin{equation}\n",
    "\\begin{split}\n",
    "    \\dfrac{\\dfrac{1}{x+y} - \\dfrac{1}{(x+y)(1+\\dfrac{x\\delta_x+y\\delta_y}{x+y})}}{\\dfrac{1}{x+y}} \\\\\n",
    "    = 1 - \\dfrac{1}{(1+\\dfrac{x\\delta_x+y\\delta_y}{x+y})}\n",
    "\\end{split}\n",
    "\\end{equation}\n",
    "which simplifying becomes $$\\dfrac{x\\delta_x+y\\delta_y}{x+y+x\\delta_x+y\\delta_y}$$\n",
    "\n",
    "This is an example of catastrophic cancellation, since as it approaches 0 relative to the magnitudes of $x$ and $y$, the error becomes arbitrarily large. In other words, this is just $=\\delta$."
   ]
  },
  {
   "cell_type": "markdown",
   "metadata": {
    "deletable": false,
    "editable": false,
    "nbgrader": {
     "cell_type": "markdown",
     "checksum": "f99000c6b264a439e3ae6aa4c34c5c28",
     "grade": false,
     "grade_id": "cell-2661766713665152",
     "locked": true,
     "schema_version": 3,
     "solution": false
    }
   },
   "source": [
    "**(b)** [5] Demonstrate this behavior by plotting the relative error."
   ]
  },
  {
   "cell_type": "code",
   "execution_count": 62,
   "metadata": {},
   "outputs": [],
   "source": [
    "dx = numpy.array([10**(-n) for n in range(1, 16)])\n",
    "x = 1.0 + dx\n",
    "y = -numpy.ones(x.shape)\n",
    "error = numpy.abs(( 1 / (x+y) ) - dx) / (dx)"
   ]
  },
  {
   "cell_type": "code",
   "execution_count": 64,
   "metadata": {
    "deletable": false,
    "nbgrader": {
     "cell_type": "code",
     "checksum": "7caeac9733fc1aae5511d87d098e05c7",
     "grade": true,
     "grade_id": "cell-5777629198172956",
     "locked": false,
     "points": 5,
     "schema_version": 3,
     "solution": true
    }
   },
   "outputs": [
    {
     "data": {
      "image/png": "[encoded data removed]",
      "text/plain": [
       "<Figure size 864x288 with 1 Axes>"
      ]
     },
     "metadata": {
      "needs_background": "light"
     },
     "output_type": "display_data"
    }
   ],
   "source": [
    "fig = plt.figure()\n",
    "fig.set_figwidth(fig.get_figwidth() * 2)\n",
    "axes = fig.add_subplot(1, 2, 2)\n",
    "axes.loglog(dx, error, 'o-')\n",
    "axes.set_xlabel(\"$\\delta x$\")\n",
    "axes.set_ylabel(\"$| (1 / (x + y)) - \\delta x| / \\delta x$\")\n",
    "axes.set_title(\"Difference between $x$ and $y$ vs. Relative Error\")\n",
    "\n",
    "plt.show()"
   ]
  }
 ],
 "metadata": {
  "kernelspec": {
   "display_name": "Python 3",
   "language": "python",
   "name": "python3"
  },
  "language_info": {
   "codemirror_mode": {
    "name": "ipython",
    "version": 3
   },
   "file_extension": ".py",
   "mimetype": "text/x-python",
   "name": "python",
   "nbconvert_exporter": "python",
   "pygments_lexer": "ipython3",
   "version": "3.8.8"
  },
  "latex_envs": {
   "bibliofile": "biblio.bib",
   "cite_by": "apalike",
   "current_citInitial": 1,
   "eqLabelWithNumbers": true,
   "eqNumInitial": 0
  },
  "toc-autonumbering": false
 },
 "nbformat": 4,
 "nbformat_minor": 4
}
