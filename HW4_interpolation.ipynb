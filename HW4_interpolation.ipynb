{
 "cells": [
  {
   "cell_type": "markdown",
   "id": "3433b920",
   "metadata": {},
   "source": [
    "Before you turn this problem in, make sure everything runs as expected. First, restart the kernel (in the menubar, select Kernel $\\rightarrow$ Restart) and then run all cells (in the menubar, select Cell $\\rightarrow$ Run All).\n",
    "\n",
    "Make sure you fill in any place that says YOUR CODE HERE or \"YOUR ANSWER HERE\", as well as your name and collaborators below:\n",
    "\n",
    "Name: Kayla Kim \n",
    "\n",
    "Collaborators: Natalia Forero"
   ]
  },
  {
   "cell_type": "code",
   "execution_count": 37,
   "id": "3b7b4ff5",
   "metadata": {},
   "outputs": [],
   "source": [
    "%matplotlib inline\n",
    "import numpy\n",
    "import matplotlib.pyplot as plt"
   ]
  },
  {
   "cell_type": "markdown",
   "id": "9f728441",
   "metadata": {
    "deletable": false,
    "editable": false,
    "nbgrader": {
     "cell_type": "markdown",
     "checksum": "05a90bc96a8a096843e665eea1de53c4",
     "grade": false,
     "grade_id": "cell-5502088417300118",
     "locked": true,
     "schema_version": 3,
     "solution": false
    }
   },
   "source": [
    "# HW 4:  Interpolation"
   ]
  },
  {
   "cell_type": "markdown",
   "id": "b2f78c12",
   "metadata": {
    "deletable": false,
    "editable": false,
    "nbgrader": {
     "cell_type": "markdown",
     "checksum": "ef13a73e03d84a2e83f492465d334d05",
     "grade": false,
     "grade_id": "cell-6806070912155660",
     "locked": true,
     "schema_version": 3,
     "solution": false
    }
   },
   "source": [
    "## Question 1\n",
    "\n",
    "[10] The $n$th Chebyshev polynomial is characterized (up to a constant) by the identity\n",
    "\n",
    "$$T_n(\\cos \\theta) = \\cos (n \\theta)$$\n",
    "\n",
    "Use this identity to show that the Chebyshev polynomials are orthogonal on $x\\in[-1,1]$ with respect to the weight\n",
    "\n",
    "$$w(x) = \\frac{1}{\\sqrt{1 - x^2}}$$\n",
    "\n",
    "To do this you must prove that\n",
    "\n",
    "$$\\int^1_{-1} w(x) T_n(x) T_m(x) dx = \\left \\{ \\begin{aligned} \n",
    "a & ~ & m = n \\\\ \n",
    "0 & ~ & m \\neq n \n",
    "\\end{aligned} \\right .$$\n",
    "\n",
    "where $a$ is a finite constant (also find this coefficient).  Note that you may have multiple non-zero coefficients $a$.  Make sure to cover all these cases and list the conditions that you will find these values."
   ]
  },
  {
   "cell_type": "markdown",
   "id": "e218bdf3",
   "metadata": {
    "deletable": false,
    "nbgrader": {
     "cell_type": "markdown",
     "checksum": "8d2f4d1eaa3c4e62333153ce8ca3a636",
     "grade": true,
     "grade_id": "cell-8354694405440956",
     "locked": false,
     "points": 10,
     "schema_version": 3,
     "solution": true
    }
   },
   "source": [
    "YOUR ANSWER HERE\n",
    "\n",
    "\n",
    "We know the nth Chebyshev polynomial is given by $T_n(cos \\theta) = cos(n \\theta)$. \n",
    "\n",
    "So for $x = cos \\theta$, we have $w(x) = \\dfrac{1}{\\sqrt{1-x^2}} = \\dfrac{1}{\\sqrt{1-cos^2 \\theta}} = \\dfrac{1}{\\sqrt{sin^2 \\theta}} = \\dfrac{1}{sin \\theta}$, $T_n(x) = cos(n \\theta)$, $T_m(x) = cos(m \\theta)$, $dx = -sin \\theta$, and the bounds are given by $arccos(-1) = \\pi$ and $arccos(1) = 0$. \n",
    "\n",
    "So the integral becomes \n",
    "\n",
    "\\begin{equation}\n",
    "\\begin{split}\n",
    "    \\int_{-1}^{1} w(x)T_n(x)T_m(x)dx &= \\int_{\\pi}^{0} \\dfrac{1}{sin \\theta} cos(n \\theta) cos (m \\theta) (-sin\\theta) d \\theta \\\\\n",
    "    &= - \\int_{\\pi}^{0} cos(n \\theta) cos (m \\theta) d \\theta = \\int_{0}^{\\pi} cos(n \\theta) cos (m \\theta) d \\theta\n",
    "\\end{split}\n",
    "\\end{equation}\n",
    "\n",
    "$$\n",
    "    \\int_{0}^{L} cos(\\dfrac{n \\pi \\theta}{L}) cos(\\dfrac{m \\pi \\theta}{L}) d \\theta\n",
    "    = \\left \\{ \n",
    "    \\begin{aligned} \n",
    "        \\frac{L}{2} & ~ & m = n ≠ 0 \\\\ \n",
    "        L & ~ & m = n = 0 \\\\\n",
    "        0 & ~ & m \\neq n \n",
    "    \\end{aligned} \\right\n",
    ".$$\n",
    "\n",
    "In this case, $L = \\pi$, so \n",
    "$$\n",
    "    \\int_{0}^{ L = \\pi} cos(n \\theta) cos(m \\theta) d \\theta = \\int_{-1}^{1} w(x)T_n(x)T_m(x)dx\n",
    "    = \\left \\{ \n",
    "    \\begin{aligned} \n",
    "        \\frac{\\pi}{2} & ~ & m = n ≠ 0 \\\\ \n",
    "        \\pi & ~ & m = n = 0 \\\\\n",
    "        0 & ~ & m \\neq n \n",
    "    \\end{aligned} \\right \n",
    ".$$\n",
    "    \n"
   ]
  },
  {
   "cell_type": "markdown",
   "id": "c55aa988",
   "metadata": {
    "deletable": false,
    "editable": false,
    "nbgrader": {
     "cell_type": "markdown",
     "checksum": "9a9a7f391273ce9b258485119ab56d36",
     "grade": false,
     "grade_id": "cell-7819290100903685",
     "locked": true,
     "schema_version": 3,
     "solution": false
    }
   },
   "source": [
    "## Question 2\n",
    "\n",
    "We discussed in class that equally spaced points are not optimal and in fact the Lagrange interpolants can vary considerably from 1 near the ends.  For these questions consider the interval $x\\in[-1, 1]$."
   ]
  },
  {
   "cell_type": "markdown",
   "id": "4a7c3550",
   "metadata": {
    "deletable": false,
    "editable": false,
    "nbgrader": {
     "cell_type": "markdown",
     "checksum": "0225abd937243068e3888770aaed31bd",
     "grade": false,
     "grade_id": "cell-1974680948166026",
     "locked": true,
     "schema_version": 3,
     "solution": false
    }
   },
   "source": [
    "**(a)** [10] For $N = 4$ find the position and value of the maximum value on $[-1,1]$ of $|\\ell_k(x)|$ analytically for $\\ell_2(x)$ using equi-spaced points (extra credit for finding them for all analytically)."
   ]
  },
  {
   "cell_type": "markdown",
   "id": "28052c52",
   "metadata": {
    "deletable": false,
    "nbgrader": {
     "cell_type": "markdown",
     "checksum": "a5409198244fd43fdea050a72c99c441",
     "grade": true,
     "grade_id": "cell-1609100275099664",
     "locked": false,
     "points": 10,
     "schema_version": 3,
     "solution": true
    }
   },
   "source": [
    "YOUR ANSWER HERE\n",
    "\n",
    "We find $N+1$ equidistant points on $[-1, 1]$: $x_0 = -1, x_1 = -1/2, x_2 = 0, x_3 = 1/2, x_4 = 1$. \n",
    "\n",
    "Then the Lagrange basis for $\\ell_2(x)$ is \n",
    "\\begin{equation}\n",
    "\\begin{split}\n",
    "    \\ell_2(x) &= \\dfrac{x-x_0}{x_2-x_0} \\dfrac{x-x_1}{x_2-x_1} \\dfrac{x-x_3}{x_2-x_3} \\dfrac{x-x_4}{x_2-x_4} \\\\\n",
    "    &= \\left(\\dfrac{x+1}{1}\\right) \\left(\\dfrac{x+1/2}{1/2}\\right) \\left(\\dfrac{x-1/2}{-1/2}\\right) \\left(\\dfrac{x-1}{-1}\\right) \\\\\n",
    "    &= (x+1)(2x+1)(1-x)(1-2x) \\\\\n",
    "    &= 4x^4 - 5x^2 + 1\n",
    "\\end{split}\n",
    "\\end{equation}\n",
    "\n",
    "Which has maximum value $1$ at $x = 0$. (maximum calculated by finding where i.e. for which x the derivative = 0, then seeing which gives the biggest value)\n",
    "\n",
    "\n",
    "Extra Credit:\n",
    "\n",
    "For $\\ell_1(x)$:\n",
    "\n",
    "\\begin{equation}\n",
    "\\begin{split}\n",
    "    \\ell_1(x) &= \\dfrac{x-x_0}{x_1-x_0} \\dfrac{x-x_2}{x_1-x_2} \\dfrac{x-x_3}{x_1-x_3} \\dfrac{x-x_4}{x_1-x_4} \\\\\n",
    "    &= \\left(\\dfrac{x+1}{1/2}\\right) \\left(\\dfrac{x}{-1/2}\\right) \\left(\\dfrac{x-1/2}{-1}\\right) \\left(\\dfrac{x-1}{-3/2}\\right) \\\\\n",
    "    &= - \\dfrac{8}{3}x^4 + \\dfrac{4}{3}x^3 + \\dfrac{8}{3}x^2 - \\dfrac{4}{3}x \n",
    "\\end{split}\n",
    "\\end{equation}\n",
    "\n",
    "Which has maximum value of approx $1.152$ at $x \\approx -0.663$\n",
    "\n",
    "For $\\ell_3(x)$:\n",
    "\n",
    "\\begin{equation}\n",
    "\\begin{split}\n",
    "    \\ell_1(x) &= \\dfrac{x-x_0}{x_3-x_0} \\dfrac{x-x_1}{x_3-x_1} \\dfrac{x-x_2}{x_3-x_2} \\dfrac{x-x_4}{x_3-x_4} \\\\\n",
    "    &= \\left(\\dfrac{x+1}{3/2}\\right) \\left(\\dfrac{x+1/2}{1}\\right) \\left(\\dfrac{x}{1/2}\\right) \\left(\\dfrac{x-1}{-1/2}\\right) \\\\    \n",
    "    &= - \\dfrac{8}{3}x^4 - \\dfrac{4}{3}x^3 + \\dfrac{8}{3}x^2 + \\dfrac{4}{3}x \n",
    "\\end{split}\n",
    "\\end{equation}\n",
    "\n",
    "Which has maximum value of approx $1.152$ at $x \\approx 0.663$\n",
    "\n",
    "For $\\ell_4(x)$:\n",
    "\n",
    "\\begin{equation}\n",
    "\\begin{split}\n",
    "    \\ell_1(x) &= \\dfrac{x-x_0}{x_4-x_0} \\dfrac{x-x_1}{x_4-x_1} \\dfrac{x-x_2}{x_4-x_2} \\dfrac{x-x_3}{x_4-x_3} \\\\\n",
    "    &= \\left(\\dfrac{x+1}{2}\\right) \\left(\\dfrac{x+1/2}{3/2}\\right) \\left(\\dfrac{x}{1}\\right) \\left(\\dfrac{x-1/2}{1/2}\\right) \\\\    \n",
    "    &= \\dfrac{2}{3}x^4 + \\dfrac{2}{3}x^3 - \\dfrac{1}{6}x^2 - \\dfrac{1}{6}x \n",
    "\\end{split}\n",
    "\\end{equation}\n",
    "\n",
    "Which has maximum value of $1$ at $x=1$ "
   ]
  },
  {
   "cell_type": "markdown",
   "id": "599295f1",
   "metadata": {
    "deletable": false,
    "editable": false,
    "nbgrader": {
     "cell_type": "markdown",
     "checksum": "1cd90c315c5355518953932a284b7675",
     "grade": false,
     "grade_id": "cell-108742731508443",
     "locked": true,
     "schema_version": 3,
     "solution": false
    }
   },
   "source": [
    "**(b)** [10] Estimate $\\max |\\ell_k(x)|$ for $N > 2$ by writing a function that returns the maximum absolute value of all Lagrange basis functions for $N$ evenly spaced points.  Note that $N$ is the polynomial order, not the number of points.  Use\n",
    "```python\n",
    "x = numpy.linspace(-1, 1, 100)\n",
    "```\n",
    "to evaluate the polynomial.  Also it may be helpful to plot the basis and the maximum found to check your answer:\n",
    "```python\n",
    "fig = plt.figure()\n",
    "axes = fig.add_subplot(1, 1, 1)\n",
    "axes.plot(x, lagrange_basis)\n",
    "axes.plot(x_max, lagrange_basis_max, 'ko')\n",
    "```"
   ]
  },
  {
   "cell_type": "code",
   "execution_count": 35,
   "id": "8016c88f",
   "metadata": {
    "deletable": false,
    "nbgrader": {
     "cell_type": "code",
     "checksum": "883e97a0b1b92e5301143cafc8747ce8",
     "grade": false,
     "grade_id": "cell-1846687567556877",
     "locked": false,
     "schema_version": 3,
     "solution": true
    }
   },
   "outputs": [],
   "source": [
    "def max_equal_basis(N):\n",
    "    r\"\"\"Compute the maximum amplitude of the Lagrange\n",
    "    polynomial basis of degree *N*\n",
    "    \n",
    "    \"\"\"\n",
    "    x = numpy.linspace(-1, 1, 100)\n",
    "    \n",
    "    # YOUR CODE HERE\n",
    "    \"\"\"Compute Lagrange basis at x given data\"\"\"\n",
    "    maxvals = []\n",
    "    \n",
    "    x_data = numpy.array([0., 1., 2., 3.])\n",
    "    y_data = numpy.ones(x_data.shape)\n",
    "    data = numpy.array([x_data, y_data]).T\n",
    "    \n",
    "    basis = numpy.ones((data.shape[0], x.shape[0]))\n",
    "    for i in range(data.shape[0]):\n",
    "        for j in range(data.shape[0]):\n",
    "            if i != j:\n",
    "                basis[i, :] *= (x - data[j, 0]) / (data[i, 0] - data[j, 0])\n",
    "                                \n",
    "    P = numpy.zeros(x.shape[0])\n",
    "    for n in range(data.shape[0]):\n",
    "        P += basis[n, :] * data[n,1] \n",
    "    \n",
    "    maxvals.append(max(numpy.abs(P)))\n",
    "    return max(maxvals)\n"
   ]
  },
  {
   "cell_type": "code",
   "execution_count": 36,
   "id": "9c88ed9e",
   "metadata": {
    "deletable": false,
    "editable": false,
    "nbgrader": {
     "cell_type": "code",
     "checksum": "5297b1a663db6739291d9b220e0f2068",
     "grade": true,
     "grade_id": "cell-4790850008223281",
     "locked": true,
     "points": 10,
     "schema_version": 3,
     "solution": false
    }
   },
   "outputs": [
    {
     "ename": "AssertionError",
     "evalue": "\nNot equal to tolerance rtol=1e-07, atol=0\n\nMismatched elements: 8 / 9 (88.9%)\nMax absolute difference: 4.27506379e+08\nMax relative difference: 1.\n x: array([1., 1., 1., 1., 1., 1., 1., 1., 1.])\n y: array([1.000000e+00, 1.152045e+00, 1.362161e+00, 2.548899e+00,\n       6.506840e+00, 1.804074e+01, 1.797854e+03, 8.779128e+05,\n       4.275064e+08])",
     "output_type": "error",
     "traceback": [
      "\u001b[0;31m---------------------------------------------------------------------------\u001b[0m",
      "\u001b[0;31mAssertionError\u001b[0m                            Traceback (most recent call last)",
      "\u001b[0;32m<ipython-input-36-d745b7a6b63e>\u001b[0m in \u001b[0;36m<module>\u001b[0;34m\u001b[0m\n\u001b[1;32m      3\u001b[0m \u001b[0;32mfor\u001b[0m \u001b[0;34m(\u001b[0m\u001b[0mi\u001b[0m\u001b[0;34m,\u001b[0m \u001b[0mn\u001b[0m\u001b[0;34m)\u001b[0m \u001b[0;32min\u001b[0m \u001b[0menumerate\u001b[0m\u001b[0;34m(\u001b[0m\u001b[0mN\u001b[0m\u001b[0;34m)\u001b[0m\u001b[0;34m:\u001b[0m\u001b[0;34m\u001b[0m\u001b[0;34m\u001b[0m\u001b[0m\n\u001b[1;32m      4\u001b[0m     \u001b[0mmax_value\u001b[0m\u001b[0;34m[\u001b[0m\u001b[0mi\u001b[0m\u001b[0;34m]\u001b[0m \u001b[0;34m=\u001b[0m \u001b[0mmax_equal_basis\u001b[0m\u001b[0;34m(\u001b[0m\u001b[0mn\u001b[0m\u001b[0;34m)\u001b[0m\u001b[0;34m\u001b[0m\u001b[0;34m\u001b[0m\u001b[0m\n\u001b[0;32m----> 5\u001b[0;31m numpy.testing.assert_allclose(max_value, [1.00000000e+00, 1.15204532e+00, 1.36216139e+00, \n\u001b[0m\u001b[1;32m      6\u001b[0m                                           \u001b[0;36m2.54889859e+00\u001b[0m\u001b[0;34m,\u001b[0m \u001b[0;36m6.50684027e+00\u001b[0m\u001b[0;34m,\u001b[0m \u001b[0;36m1.80407350e+01\u001b[0m\u001b[0;34m,\u001b[0m\u001b[0;34m\u001b[0m\u001b[0;34m\u001b[0m\u001b[0m\n\u001b[1;32m      7\u001b[0m                                           1.79785431e+03, 8.77912809e+05, 4.27506380e+08])\n",
      "    \u001b[0;31m[... skipping hidden 1 frame]\u001b[0m\n",
      "\u001b[0;32m/opt/conda/lib/python3.8/site-packages/numpy/testing/_private/utils.py\u001b[0m in \u001b[0;36massert_array_compare\u001b[0;34m(comparison, x, y, err_msg, verbose, header, precision, equal_nan, equal_inf)\u001b[0m\n\u001b[1;32m    840\u001b[0m                                 \u001b[0mverbose\u001b[0m\u001b[0;34m=\u001b[0m\u001b[0mverbose\u001b[0m\u001b[0;34m,\u001b[0m \u001b[0mheader\u001b[0m\u001b[0;34m=\u001b[0m\u001b[0mheader\u001b[0m\u001b[0;34m,\u001b[0m\u001b[0;34m\u001b[0m\u001b[0;34m\u001b[0m\u001b[0m\n\u001b[1;32m    841\u001b[0m                                 names=('x', 'y'), precision=precision)\n\u001b[0;32m--> 842\u001b[0;31m             \u001b[0;32mraise\u001b[0m \u001b[0mAssertionError\u001b[0m\u001b[0;34m(\u001b[0m\u001b[0mmsg\u001b[0m\u001b[0;34m)\u001b[0m\u001b[0;34m\u001b[0m\u001b[0;34m\u001b[0m\u001b[0m\n\u001b[0m\u001b[1;32m    843\u001b[0m     \u001b[0;32mexcept\u001b[0m \u001b[0mValueError\u001b[0m\u001b[0;34m:\u001b[0m\u001b[0;34m\u001b[0m\u001b[0;34m\u001b[0m\u001b[0m\n\u001b[1;32m    844\u001b[0m         \u001b[0;32mimport\u001b[0m \u001b[0mtraceback\u001b[0m\u001b[0;34m\u001b[0m\u001b[0;34m\u001b[0m\u001b[0m\n",
      "\u001b[0;31mAssertionError\u001b[0m: \nNot equal to tolerance rtol=1e-07, atol=0\n\nMismatched elements: 8 / 9 (88.9%)\nMax absolute difference: 4.27506379e+08\nMax relative difference: 1.\n x: array([1., 1., 1., 1., 1., 1., 1., 1., 1.])\n y: array([1.000000e+00, 1.152045e+00, 1.362161e+00, 2.548899e+00,\n       6.506840e+00, 1.804074e+01, 1.797854e+03, 8.779128e+05,\n       4.275064e+08])"
     ]
    }
   ],
   "source": [
    "N = [2, 4, 6, 8, 10, 12, 20, 30, 40]\n",
    "max_value = numpy.empty(len(N))\n",
    "for (i, n) in enumerate(N):\n",
    "    max_value[i] = max_equal_basis(n)\n",
    "numpy.testing.assert_allclose(max_value, [1.00000000e+00, 1.15204532e+00, 1.36216139e+00, \n",
    "                                          2.54889859e+00, 6.50684027e+00, 1.80407350e+01, \n",
    "                                          1.79785431e+03, 8.77912809e+05, 4.27506380e+08])\n",
    "\n",
    "print(\"Success!\")"
   ]
  },
  {
   "cell_type": "markdown",
   "id": "b0a23134",
   "metadata": {
    "deletable": false,
    "editable": false,
    "nbgrader": {
     "cell_type": "markdown",
     "checksum": "7f42157667b4cd448b19fe57c102df9b",
     "grade": false,
     "grade_id": "cell-4319376963517508",
     "locked": true,
     "schema_version": 3,
     "solution": false
    }
   },
   "source": [
    "**(c)** [5] Repeat part **b** but with Chebyshev points.  Note that these are Lagrangian basis functions using Chebyshev points (or nodes) rather than the Chebyshev polynomial basis.  Again use the plotting code above if you need to debug."
   ]
  },
  {
   "cell_type": "code",
   "execution_count": 16,
   "id": "253b5e59",
   "metadata": {
    "deletable": false,
    "nbgrader": {
     "cell_type": "code",
     "checksum": "977042cecd36427e1284c95a5e93d762",
     "grade": false,
     "grade_id": "cell-7014398607882874",
     "locked": false,
     "schema_version": 3,
     "solution": true
    }
   },
   "outputs": [],
   "source": [
    "def max_chebyshev_basis(N):\n",
    "    \"\"\"Using Chebyshev nodes and the corresponding Lagrangian basis\n",
    "    compute the maximum amplitude of the basis function of degree *N*.\n",
    "    \"\"\"\n",
    "    x = numpy.linspace(-1, 1, 100)\n",
    "    # YOUR CODE HERE\n",
    "    maxvals = []\n",
    "    n = numpy.arange(1, N+2, 1)\n",
    "    nodes = numpy.cos(((2*n-1)*numpy.pi)/(2*N+2))\n",
    "    p = set(nodes)\n",
    "    for i in nodes:\n",
    "        evaluate = numpy.ones(len(x))\n",
    "        rest = p.difference({i})\n",
    "        for j in rest:\n",
    "            l_i = lambda y: (y-j) / (i-j)\n",
    "            values = l_i(x)\n",
    "            evaluate *= values\n",
    "        maxvals.append(max(numpy.abs(evaluate)))\n",
    "    return max(maxvals)"
   ]
  },
  {
   "cell_type": "code",
   "execution_count": 17,
   "id": "78466d10",
   "metadata": {
    "deletable": false,
    "editable": false,
    "nbgrader": {
     "cell_type": "code",
     "checksum": "15ffd63c8ff63e73eddff1559ce9c507",
     "grade": true,
     "grade_id": "cell-4966796702486256",
     "locked": true,
     "points": 5,
     "schema_version": 3,
     "solution": false
    }
   },
   "outputs": [
    {
     "name": "stdout",
     "output_type": "stream",
     "text": [
      "Success!\n"
     ]
    }
   ],
   "source": [
    "N = [2, 4, 6, 8, 10, 12, 20, 30, 40]\n",
    "max_value = numpy.empty(len(N))\n",
    "for (i, n) in enumerate(N):\n",
    "    max_value[i] = max_chebyshev_basis(n)\n",
    "\n",
    "numpy.testing.assert_allclose(max_value, [1.24401694, 1.2627503, 1.26789221, 1.27000581, \n",
    "                                          1.27107518, 1.27169006, 1.27264584, 1.27296711,\n",
    "                                          1.2730838])\n",
    "\n",
    "print(\"Success!\")"
   ]
  },
  {
   "cell_type": "markdown",
   "id": "565b452d",
   "metadata": {
    "deletable": false,
    "editable": false,
    "nbgrader": {
     "cell_type": "markdown",
     "checksum": "7068d4dc9465c15e46dd59f5b0b30274",
     "grade": false,
     "grade_id": "cell-2867612339147590",
     "locked": true,
     "schema_version": 3,
     "solution": false
    }
   },
   "source": [
    "**(d)** [5] Plot a comparison of the results (on the same plot) from part **b** and **c** using the same values of N.  Make sure to use a `semilogy` plot so that the values are vieable (at least for one of the series)."
   ]
  },
  {
   "cell_type": "code",
   "execution_count": null,
   "id": "781d5e60",
   "metadata": {
    "deletable": false,
    "nbgrader": {
     "cell_type": "code",
     "checksum": "093d9cf0591f8e5847b9bae28e94c68d",
     "grade": true,
     "grade_id": "cell-7707828088791371",
     "locked": false,
     "points": 5,
     "schema_version": 3,
     "solution": true
    }
   },
   "outputs": [],
   "source": [
    "# YOUR CODE HERE\n",
    "raise NotImplementedError()"
   ]
  },
  {
   "cell_type": "markdown",
   "id": "19053e62",
   "metadata": {
    "deletable": false,
    "editable": false,
    "nbgrader": {
     "cell_type": "markdown",
     "checksum": "6211acc2968389f2b9c915eb25a986ed",
     "grade": false,
     "grade_id": "cell-e4a09beea3442364",
     "locked": true,
     "schema_version": 3,
     "solution": false,
     "task": false
    }
   },
   "source": [
    "## Question 3\n",
    "\n",
    "Consider the Lebesgue function\n",
    "$$\n",
    "\\lambda_N(x)  = \\sum_{i=0}^N\\big{|}\\ell_i(x)\\big{|}\n",
    "$$\n",
    "where $\\ell_i(x)$ are Lagrange basis functions for a given set of $x_i$.  The maximum of the Lebesgue function is called $\\Lambda_n$ the Lebesgue constant and have a clear connection to Lagrangian interpolation as they provide a first estimate for the interpolation error.  Unfortunately, $\\Lambda_N$ is not uniformly bounded regardless of the nodes used as one can show that \n",
    "$$\n",
    "    \\Lambda_N > \\mathcal{O}(\\log N) ~~~\\text{as}~~~ N \\rightarrow \\infty\n",
    "$$\n",
    "\n",
    "Note, $\\Lambda_n$ is the infinite-norm of the linear operator mapping data to interpolant on the given grid and interval."
   ]
  },
  {
   "cell_type": "markdown",
   "id": "f8251f74",
   "metadata": {
    "deletable": false,
    "editable": false,
    "nbgrader": {
     "cell_type": "markdown",
     "checksum": "1d3fe3385eb6de35e12c1b3dbba5ae5b",
     "grade": false,
     "grade_id": "cell-776abdcd953b3800",
     "locked": true,
     "schema_version": 3,
     "solution": false,
     "task": false
    }
   },
   "source": [
    "**(a)** [5] What do you expect the Lebesgue function to look like?  Are there key points where we will know the function value exactly?"
   ]
  },
  {
   "cell_type": "markdown",
   "id": "80415412",
   "metadata": {
    "deletable": false,
    "nbgrader": {
     "cell_type": "markdown",
     "checksum": "be268da4210714781f969b8c5ad48eb0",
     "grade": true,
     "grade_id": "cell-8b13376ff99b9478",
     "locked": false,
     "points": 5,
     "schema_version": 3,
     "solution": true,
     "task": false
    }
   },
   "source": [
    "YOUR ANSWER HERE\n",
    "\n",
    "In the case of equidistant nodes, the Lebesgue constant grows exponentially. If Chebyshev nodes are used, the Lebesgue constant grows logarithmically. The key points at which we will know the function value exactly would be where the Lebesgue constant is minimized (i.e. the difference between the interpolant of the function and the best polynoial approximant of the function). "
   ]
  },
  {
   "cell_type": "markdown",
   "id": "1ee0aa4e",
   "metadata": {
    "deletable": false,
    "editable": false,
    "nbgrader": {
     "cell_type": "markdown",
     "checksum": "d99ac09622756b920dcb3c3f92f0ef49",
     "grade": false,
     "grade_id": "cell-038a24ac86e5f79b",
     "locked": true,
     "schema_version": 3,
     "solution": false,
     "task": false
    }
   },
   "source": [
    "**(b)** [10] Plot the Lebesgue function for $x\\in[-1, 1]$ for $N = 5, 10, 20$ with\n",
    "$$\n",
    "    x_i = -1 + \\frac{2 i}{N}, ~~~ i = 0, 1, \\ldots, N.\n",
    "$$\n",
    "For the case where $N = 20$ comment on what you see (you may need to use `semilogy` to see the results)."
   ]
  },
  {
   "cell_type": "code",
   "execution_count": 35,
   "id": "ab103714",
   "metadata": {
    "deletable": false,
    "nbgrader": {
     "cell_type": "code",
     "checksum": "74db041051326d0c4711da22b0c6b87a",
     "grade": true,
     "grade_id": "cell-2983e005a89bf619",
     "locked": false,
     "points": 7,
     "schema_version": 3,
     "solution": true,
     "task": false
    }
   },
   "outputs": [
    {
     "data": {
      "image/png": "[encoded data removed]",
      "text/plain": [
       "<Figure size 1152x432 with 2 Axes>"
      ]
     },
     "metadata": {
      "needs_background": "light"
     },
     "output_type": "display_data"
    }
   ],
   "source": [
    "# YOUR CODE HERE\n",
    "\n",
    "# ====================================================\n",
    "# Compute the Lagrange basis (\\ell_i(x))\n",
    "def lagrange_basis(x, data):\n",
    "    \"\"\"Compute Lagrange basis at x given data\"\"\"\n",
    "    basis = numpy.ones((data.shape[0], x.shape[0]))\n",
    "    for i in range(data.shape[0]):\n",
    "        for j in range(data.shape[0]):\n",
    "            if i != j:\n",
    "                basis[i, :] *= (x - data[j, 0]) / (data[i, 0] - data[j, 0])\n",
    "    return basis\n",
    "\n",
    "# ====================================================\n",
    "# Calculate full polynomial\n",
    "def poly_interpolant(x, data):\n",
    "    \"\"\"Compute polynomial interpolant of (x,y) using Lagrange basis\"\"\"\n",
    "    P = numpy.zeros(x.shape[0])\n",
    "    basis = lagrange_basis(x, data)\n",
    "    for n in range(data.shape[0]):\n",
    "        P += basis[n, :] * data[n, 1]\n",
    "    return P\n",
    "\n",
    "# ====================================================\n",
    "\n",
    "#num_points = 5\n",
    "# num_points = 10\n",
    "num_points = 20\n",
    "data = numpy.empty((num_points, 2))\n",
    "data[:, 0] = numpy.linspace(-1, 1, num_points)\n",
    "data[:, 1] = -1 + 2 * data[:,0] / num_points\n",
    "N = data.shape[0] - 1 # Degree of polynomial\n",
    "M = data.shape[0]\n",
    "x = numpy.linspace(-1.0, 1.0, 100)\n",
    "\n",
    "# ====================================================\n",
    "# Plot individual basis functions\n",
    "fig = plt.figure(figsize=(16,6))\n",
    "axes = fig.add_subplot(1, 2, 1)\n",
    "basis = lagrange_basis(x, data)\n",
    "for i in range(N + 1):\n",
    "    axes.plot(x, basis[i, :], label=\"$\\ell_{%s}(x)$\" % i)\n",
    "\n",
    "axes.set_title(\"Lagrange Basis $\\ell_i(x)$\")\n",
    "axes.set_xlabel(\"x\")\n",
    "axes.set_ylabel(\"$\\ell_i(x)$\")\n",
    "axes.legend(loc=1)\n",
    "axes.grid()\n",
    "\n",
    "# Plot full polynomial P_N(x)\n",
    "axes = fig.add_subplot(1, 2, 2)\n",
    "axes.plot(x, poly_interpolant(x, data), label=\"$P_{%s}(x)$\" % N)\n",
    "axes.plot(x, -1 + 2 * x / num_points, 'r--', label=\"True $f(x)$\")\n",
    "for point in data:\n",
    "    axes.plot(point[0], point[1], 'ko')\n",
    "axes.set_title(\"$P_N(x)$\")\n",
    "axes.set_xlabel(\"x\")\n",
    "axes.set_ylabel(\"$P_N(x)$\")\n",
    "axes.legend(loc=1)\n",
    "axes.grid()\n",
    "    \n",
    "plt.show()"
   ]
  },
  {
   "cell_type": "markdown",
   "id": "3f5c3efc",
   "metadata": {
    "deletable": false,
    "nbgrader": {
     "cell_type": "markdown",
     "checksum": "3092508c390d0c8641996f1b5082d593",
     "grade": true,
     "grade_id": "cell-d70170bc3968b2fb",
     "locked": false,
     "points": 3,
     "schema_version": 3,
     "solution": true,
     "task": false
    }
   },
   "source": [
    "YOUR ANSWER HERE\n",
    "\n",
    "It's a straight line. "
   ]
  },
  {
   "cell_type": "markdown",
   "id": "dd215dbf",
   "metadata": {
    "deletable": false,
    "editable": false,
    "nbgrader": {
     "cell_type": "markdown",
     "checksum": "2d12a8fa4220c0f12389af948a9bc410",
     "grade": false,
     "grade_id": "cell-a9205f0cd3d1aca8",
     "locked": true,
     "schema_version": 3,
     "solution": false,
     "task": false
    }
   },
   "source": [
    "**(c)** [5] Plot the Lebesgue function for $x\\in[-1, 1]$ for $N = 5, 10, 20$ with\n",
    "$$\n",
    "    x_i = \\cos\\left( \\frac{(2i - 1) \\pi}{2 N} \\right ) ~~~ i = 1, \\ldots, N.\n",
    "$$\n",
    "Again comment on what you see in the case $N = 20$."
   ]
  },
  {
   "cell_type": "markdown",
   "id": "1e0c1163",
   "metadata": {
    "deletable": false,
    "nbgrader": {
     "cell_type": "markdown",
     "checksum": "3092508c390d0c8641996f1b5082d593",
     "grade": true,
     "grade_id": "cell-d70170bc3968b2fb",
     "locked": false,
     "points": 3,
     "schema_version": 3,
     "solution": true,
     "task": false
    }
   },
   "source": [
    "YOUR ANSWER HERE\n",
    "\n",
    "For N = 20, we see that the difference is bell shaped."
   ]
  },
  {
   "cell_type": "code",
   "execution_count": 34,
   "id": "7b3a2437",
   "metadata": {
    "deletable": false,
    "nbgrader": {
     "cell_type": "code",
     "checksum": "6936caf99b1685b9f3480277bbcb0108",
     "grade": true,
     "grade_id": "cell-6b6cbb6081a6ec7a",
     "locked": false,
     "points": 5,
     "schema_version": 3,
     "solution": true,
     "task": false
    }
   },
   "outputs": [
    {
     "data": {
      "image/png": "[encoded data removed]",
      "text/plain": [
       "<Figure size 1152x432 with 2 Axes>"
      ]
     },
     "metadata": {
      "needs_background": "light"
     },
     "output_type": "display_data"
    }
   ],
   "source": [
    "# YOUR CODE HERE\n",
    "\n",
    "#num_points = 5\n",
    "# num_points = 10\n",
    "num_points = 20\n",
    "data = numpy.empty((num_points, 2))\n",
    "data[:, 0] = numpy.linspace(-1, 1, num_points)\n",
    "data[:, 1] = numpy.cos((2 * data[:,0] - 1)*numpy.pi / (2 * num_points))\n",
    "N = data.shape[0] - 1 # Degree of polynomial\n",
    "M = data.shape[0]\n",
    "x = numpy.linspace(-1.0, 1.0, 100)\n",
    "\n",
    "# ====================================================\n",
    "# Plot individual basis functions\n",
    "fig = plt.figure(figsize=(16,6))\n",
    "axes = fig.add_subplot(1, 2, 1)\n",
    "basis = lagrange_basis(x, data)\n",
    "for i in range(N + 1):\n",
    "    axes.plot(x, basis[i, :], label=\"$\\ell_{%s}(x)$\" % i)\n",
    "\n",
    "axes.set_title(\"Lagrange Basis $\\ell_i(x)$\")\n",
    "axes.set_xlabel(\"x\")\n",
    "axes.set_ylabel(\"$\\ell_i(x)$\")\n",
    "axes.legend(loc=1)\n",
    "axes.grid()\n",
    "\n",
    "# Plot full polynomial P_N(x)\n",
    "axes = fig.add_subplot(1, 2, 2)\n",
    "axes.plot(x, poly_interpolant(x, data), label=\"$P_{%s}(x)$\" % N)\n",
    "axes.plot(x, numpy.cos((2 * x - 1)*numpy.pi / (2 * num_points)), 'r--', label=\"True $f(x)$\")\n",
    "for point in data:\n",
    "    axes.plot(point[0], point[1], 'ko')\n",
    "axes.set_title(\"$P_N(x)$\")\n",
    "axes.set_xlabel(\"x\")\n",
    "axes.set_ylabel(\"$P_N(x)$\")\n",
    "axes.legend(loc=1)\n",
    "axes.grid()\n",
    "    \n",
    "plt.show()"
   ]
  },
  {
   "cell_type": "markdown",
   "id": "0260a92a",
   "metadata": {
    "deletable": false,
    "editable": false,
    "nbgrader": {
     "cell_type": "markdown",
     "checksum": "29f83c46d1e8271159865c5623a4d1d1",
     "grade": false,
     "grade_id": "cell-80777791bf52e9b4",
     "locked": true,
     "schema_version": 3,
     "solution": false,
     "task": false
    }
   },
   "source": [
    "**(d)** [5] What do you observe about the Lebesgue function for each of the distribution of points?"
   ]
  },
  {
   "cell_type": "markdown",
   "id": "a453ed2f",
   "metadata": {
    "deletable": false,
    "nbgrader": {
     "cell_type": "markdown",
     "checksum": "cbeee7b8148cc0b9c062ce391ca93cef",
     "grade": true,
     "grade_id": "cell-cb01d5c3e8fcb7b7",
     "locked": false,
     "points": 5,
     "schema_version": 3,
     "solution": true,
     "task": false
    }
   },
   "source": [
    "YOUR ANSWER HERE\n",
    "\n",
    "The shape of the graph of the Lebesgue function depends on the number of nodes and the equation for $x_i$."
   ]
  },
  {
   "cell_type": "markdown",
   "id": "6f8e7aad",
   "metadata": {
    "deletable": false,
    "editable": false,
    "nbgrader": {
     "cell_type": "markdown",
     "checksum": "89e9907db09d3a1de17bc36f6792ee51",
     "grade": false,
     "grade_id": "cell-cfd76f58616457e1",
     "locked": true,
     "schema_version": 3,
     "solution": false,
     "task": false
    }
   },
   "source": [
    "**(e)** [5] Using suitable values for $N$ plot the Lebesgue constants of each of the above cases.  Make sure to use a suitably large number of points to evaluate the function.  Graphically demonstrate that the constant grow with the predicted growth rate $\\mathcal{O}(\\log N)$ keeping in mind that there may be a constant out in front of the $\\log N$ term.  Describe what you observe."
   ]
  },
  {
   "cell_type": "code",
   "execution_count": null,
   "id": "5c03cd5c",
   "metadata": {
    "deletable": false,
    "nbgrader": {
     "cell_type": "code",
     "checksum": "dddfd9db3ab6cb7121d7458fd24d7bf5",
     "grade": true,
     "grade_id": "cell-10f1ad2a4851a350",
     "locked": false,
     "points": 3,
     "schema_version": 3,
     "solution": true,
     "task": false
    }
   },
   "outputs": [],
   "source": [
    "# YOUR CODE HERE\n",
    "raise NotImplementedError()"
   ]
  },
  {
   "cell_type": "markdown",
   "id": "7a7bb290",
   "metadata": {
    "deletable": false,
    "nbgrader": {
     "cell_type": "markdown",
     "checksum": "427a6dd45db93d316ba8f36ee88b5540",
     "grade": true,
     "grade_id": "cell-3dadda7f36443bfd",
     "locked": false,
     "points": 2,
     "schema_version": 3,
     "solution": true,
     "task": false
    }
   },
   "source": [
    "YOUR ANSWER HERE"
   ]
  },
  {
   "cell_type": "markdown",
   "id": "8335d407",
   "metadata": {
    "collapsed": true,
    "deletable": false,
    "editable": false,
    "nbgrader": {
     "cell_type": "markdown",
     "checksum": "dd78e6511500813405fee46f2fda4981",
     "grade": false,
     "grade_id": "cell-ae4184c87fbd7b7f",
     "locked": true,
     "schema_version": 3,
     "solution": false,
     "task": false
    }
   },
   "source": [
    "## Question 4\n",
    "\n",
    "In lecture we constructed the system of equations we need to solve for each interval if we wanted to use a piece-wise cubic function and have an interpolant that is $C^1$.  This questions addresses the details of that derivation."
   ]
  },
  {
   "cell_type": "markdown",
   "id": "dcb10c22",
   "metadata": {
    "collapsed": true,
    "deletable": false,
    "editable": false,
    "nbgrader": {
     "cell_type": "markdown",
     "checksum": "e49373f22d330f7b1c8d5597610625f7",
     "grade": false,
     "grade_id": "cell-0352462338c1e96d",
     "locked": true,
     "schema_version": 3,
     "solution": false,
     "task": false
    }
   },
   "source": [
    "**(a)** [5] Let $x \\in [x_k, x_{k+1}] = X$ and $s \\in [0, 1] = S$.  Write down the transformation we need to map the $X$ and $S$ to each other, i.e. $T:X \\rightarrow S$, along with its inverse $T^{-1}$."
   ]
  },
  {
   "cell_type": "markdown",
   "id": "6d0566ca",
   "metadata": {
    "deletable": false,
    "nbgrader": {
     "cell_type": "markdown",
     "checksum": "acec4da0387c7a730cb00859536775de",
     "grade": true,
     "grade_id": "cell-2de237b1ac9a175c",
     "locked": false,
     "points": 5,
     "schema_version": 3,
     "solution": true,
     "task": false
    }
   },
   "source": [
    "YOUR ANSWER HERE\n",
    "\n",
    "$$\n",
    "    T(x) = \\dfrac{x-x_k}{x_{k+1} - x_k}\n",
    "$$\n",
    "\n",
    "and  \n",
    "$$\n",
    "    T^{-1}(s) = -sx_k + x_k + sx_k+1 = s \\Delta x + x_k\n",
    "$$"
   ]
  },
  {
   "cell_type": "markdown",
   "id": "41619aa5",
   "metadata": {
    "collapsed": true,
    "deletable": false,
    "editable": false,
    "nbgrader": {
     "cell_type": "markdown",
     "checksum": "c294beb974f8fd1a979b61e5536491e6",
     "grade": false,
     "grade_id": "cell-79c34672a3164ab8",
     "locked": true,
     "schema_version": 3,
     "solution": false,
     "task": false
    }
   },
   "source": [
    "**(b)** [15] After making the transformation of the equations we found that the system of equations that result are\n",
    "$$\\begin{bmatrix}\n",
    "    1 & 0 & 0 & 0 \\\\\n",
    "    1 & 1 & 1 & 1 \\\\\n",
    "    0 & 1 & 0 & 0 \\\\\n",
    "    0 & 1 & 2 & 3\n",
    "\\end{bmatrix} \\begin{bmatrix}\n",
    "p_0 \\\\ p_1 \\\\ p_2 \\\\ p_3\n",
    "\\end{bmatrix} = \\begin{bmatrix}\n",
    "y_k \\\\ y_{k+1} \\\\ d_k \\\\ d_{k+1}\n",
    "\\end{bmatrix}$$\n",
    "Show that the solution is\n",
    "$$\n",
    "    \\mathcal{P}(s) = (1-s)^2 (1 + 2s) y_k + s^2 (3 - 2 s) y_{k+1} + s (1 - s)^2 d_k - s^2 (1 - s)d_{k+1}\n",
    "$$"
   ]
  },
  {
   "cell_type": "markdown",
   "id": "39823110",
   "metadata": {
    "deletable": false,
    "nbgrader": {
     "cell_type": "markdown",
     "checksum": "87689ad8d70be1f8ce933573a2438eed",
     "grade": true,
     "grade_id": "cell-aaa12b6bd8ff0c14",
     "locked": false,
     "points": 10,
     "schema_version": 3,
     "solution": true,
     "task": false
    }
   },
   "source": [
    "YOUR ANSWER HERE\n",
    "\n",
    "First, we transpose the matrix: \n",
    "$$\\begin{bmatrix}\n",
    "    1 & 1 & 0 & 0 \\\\\n",
    "    0 & 1 & 1 & 1 \\\\\n",
    "    0 & 1 & 0 & 2 \\\\\n",
    "    0 & 1 & 0 & 3\n",
    "\\end{bmatrix}$$\n",
    "\n",
    "Then we get the inverse:\n",
    "$$\\begin{bmatrix}\n",
    "    1 & 0 & -3 & 2 \\\\\n",
    "    0 & 0 & 3 & -2 \\\\\n",
    "    0 & 1 & -2 & 1 \\\\\n",
    "    0 & 0 & -1 & 1\n",
    "\\end{bmatrix}$$\n",
    "\n",
    "Then $P(s) = (2s^3-3s^2)y_k + (-2s^3 + 3s^2)y_{k+1} + (s^3 - 2s^2 + s)d_k + (s^3-s^2)d_{k+1}$\n",
    "\n",
    "Which $= (1-s)^2(1+2s)y_k+s^2(3-2s)y_{k+1}+s(1-s)^2d_k-s^2(1-s)d_{k+1}$"
   ]
  },
  {
   "cell_type": "code",
   "execution_count": null,
   "id": "740facef",
   "metadata": {
    "deletable": false,
    "nbgrader": {
     "cell_type": "code",
     "checksum": "156439ef2d67363e5145da5c615cdf3a",
     "grade": true,
     "grade_id": "cell-d0cff044e9da2438",
     "locked": false,
     "points": 5,
     "schema_version": 3,
     "solution": true,
     "task": false
    }
   },
   "outputs": [],
   "source": [
    "# YOUR CODE HERE\n",
    "raise NotImplementedError()"
   ]
  },
  {
   "cell_type": "markdown",
   "id": "bfef5fcf",
   "metadata": {
    "collapsed": true,
    "deletable": false,
    "editable": false,
    "nbgrader": {
     "cell_type": "markdown",
     "checksum": "314a2428827d3e9100fa280411723ce2",
     "grade": false,
     "grade_id": "cell-2408279fe31cf0ed",
     "locked": true,
     "schema_version": 3,
     "solution": false,
     "task": false
    }
   },
   "source": [
    "**(c)** [10] Use $T^{-1}$ to transform back to $X$ and write down the polynomial in terms of the original variable $x$."
   ]
  },
  {
   "cell_type": "markdown",
   "id": "32c28de4",
   "metadata": {
    "deletable": false,
    "nbgrader": {
     "cell_type": "markdown",
     "checksum": "c1b3c7f9277ec43aab7a6572475d19d2",
     "grade": true,
     "grade_id": "cell-0f4d5f70eb6c9c5f",
     "locked": false,
     "points": 10,
     "schema_version": 3,
     "solution": true,
     "task": false
    }
   },
   "source": [
    "YOUR ANSWER HERE\n",
    "\n",
    "From\n",
    "$$\n",
    "    T^{-1}(s) = -sx_k + x_k + sx_k+1 = s \\Delta x + x_k\n",
    "$$\n",
    "\n",
    "we get $P(s) = (1-x)^2(1+2x)y_k+x^2(3-2x)y_{k+1}+x(1-x)^2d_k-x^2(1-x)d_{k+1}$"
   ]
  },
  {
   "cell_type": "code",
   "execution_count": null,
   "id": "334e98d8",
   "metadata": {},
   "outputs": [],
   "source": []
  }
 ],
 "metadata": {
  "kernelspec": {
   "display_name": "Python 3",
   "language": "python",
   "name": "python3"
  },
  "language_info": {
   "codemirror_mode": {
    "name": "ipython",
    "version": 3
   },
   "file_extension": ".py",
   "mimetype": "text/x-python",
   "name": "python",
   "nbconvert_exporter": "python",
   "pygments_lexer": "ipython3",
   "version": "3.8.8"
  },
  "latex_envs": {
   "bibliofile": "biblio.bib",
   "cite_by": "apalike",
   "current_citInitial": 1,
   "eqLabelWithNumbers": true,
   "eqNumInitial": 0
  }
 },
 "nbformat": 4,
 "nbformat_minor": 5
}
