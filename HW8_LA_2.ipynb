{
 "cells": [
  {
   "cell_type": "markdown",
   "id": "3433b920",
   "metadata": {},
   "source": [
    "Before you turn this problem in, make sure everything runs as expected. First, restart the kernel (in the menubar, select Kernel $\\rightarrow$ Restart) and then run all cells (in the menubar, select Cell $\\rightarrow$ Run All).\n",
    "\n",
    "Make sure you fill in any place that says YOUR CODE HERE or \"YOUR ANSWER HERE\", as well as your name and collaborators below:\n",
    "\n",
    "Name: Kayla Kim "
   ]
  },
  {
   "cell_type": "code",
   "execution_count": 2,
   "id": "043ace7b",
   "metadata": {},
   "outputs": [],
   "source": [
    "%matplotlib inline\n",
    "%precision 16\n",
    "from __future__ import print_function\n",
    "import numpy\n",
    "import matplotlib.pyplot as plt"
   ]
  },
  {
   "cell_type": "markdown",
   "id": "333f3574",
   "metadata": {
    "deletable": false,
    "editable": false,
    "nbgrader": {
     "cell_type": "markdown",
     "checksum": "d35c6625014fbb846018270b27228a09",
     "grade": false,
     "grade_id": "cell-4300650499785885",
     "locked": true,
     "schema_version": 3,
     "solution": false
    }
   },
   "source": [
    "Before you turn this problem in, make sure everything runs as expected. First, restart the kernel (in the menubar, select Kernel $\\rightarrow$ Restart) and then run all cells (in the menubar, select Cell $\\rightarrow$ Run All).\n",
    "\n",
    "Make sure you fill in any place that says YOUR CODE HERE or \"YOUR ANSWER HERE\", as well as your name and collaborators below:"
   ]
  },
  {
   "cell_type": "markdown",
   "id": "239a671c",
   "metadata": {
    "deletable": false,
    "editable": false,
    "nbgrader": {
     "cell_type": "markdown",
     "checksum": "7244622507896c6af08b600df24c227d",
     "grade": false,
     "grade_id": "cell-9890560519145918",
     "locked": true,
     "schema_version": 3,
     "solution": false
    }
   },
   "source": [
    "# HW 8:  Linear Algebra Part 2"
   ]
  },
  {
   "cell_type": "markdown",
   "id": "5b439308",
   "metadata": {
    "deletable": false,
    "editable": false,
    "nbgrader": {
     "cell_type": "markdown",
     "checksum": "a3ba23f23192271f152881f6165d41b7",
     "grade": false,
     "grade_id": "cell-1367913990434646",
     "locked": true,
     "schema_version": 3,
     "solution": false
    }
   },
   "source": [
    "## Question 1\n",
    "\n",
    "We know that interpolation using equispaced points is not ideal but we can also show that it is ill-conditioned.  To illustrate this let $x_1, \\ldots, x_n$ and $y_1, \\ldots, y_m$ by $n$ and $m$ equispaced points from $-1$ to $1$ repectively."
   ]
  },
  {
   "cell_type": "markdown",
   "id": "b55192b4",
   "metadata": {
    "deletable": false,
    "editable": false,
    "nbgrader": {
     "cell_type": "markdown",
     "checksum": "cb3f03273f432ce984ed9f2de4d9f3f0",
     "grade": false,
     "grade_id": "cell-5262243890051762",
     "locked": true,
     "schema_version": 3,
     "solution": false
    }
   },
   "source": [
    "**(a)** [10] Derive a formula for the $m \\times n$ matrix $A$ that maps an $n$-vector of data at $\\{x_j\\}$ to an $m$-vector of sampled values $\\{\\mathcal{P}(y_j)\\}$, where $\\mathcal{P}$ is the degree $n-1$ polynomial interpolant of the data."
   ]
  },
  {
   "cell_type": "markdown",
   "id": "0ab27ba8",
   "metadata": {
    "deletable": false,
    "nbgrader": {
     "cell_type": "markdown",
     "checksum": "c7e49fbb53a94f40f6e6f666bdeb15b9",
     "grade": true,
     "grade_id": "cell-5990321097225371",
     "locked": false,
     "points": 10,
     "schema_version": 3,
     "solution": true
    }
   },
   "source": [
    "YOUR ANSWER HERE\n",
    "\n",
    "Based on Vandermonde Matrix example in lectures (https://github.com/mandli/intro-numerical-methods/blob/master/10_LA_intro.ipynb)\n",
    "\n",
    "We want to find the matrix $A$ that maps an $n$-vector of data into a $m$-vector polynomial of order $n-1$. \n",
    "\n",
    "Let the $n$-vector be given by $(x_i, k_i)$ such that \n",
    "\n",
    "$$\n",
    "    K = \\begin{bmatrix}\n",
    "        k_1 \\\\ k_2 \\\\ \\vdots \\\\ k_n\n",
    "    \\end{bmatrix}\n",
    "    = \\begin{bmatrix} \n",
    "        1 & x_1 & x_1^2 & \\cdots & x_1^{n-1} \\\\\n",
    "        1 & x_2 & x_2^2 & \\cdots & x_2^{n-1} \\\\\n",
    "        \\vdots \\\\\n",
    "        1 & x_n & x_n^2 & \\cdots & x_n^{n-1} \\\\\n",
    "    \\end{bmatrix}\n",
    "    \\begin{bmatrix}\n",
    "        c_0 \\\\ c_1 \\\\ \\vdots \\\\ c_{n-1}\n",
    "    \\end{bmatrix}\n",
    "$$\n",
    "\n",
    "In other words, we define $K=XC$. Then, let \n",
    "\n",
    "$$\n",
    "    Y = \\begin{bmatrix} \n",
    "        1 & y_1 & y_1^2 & \\cdots & y_1^{n-1} \\\\\n",
    "        1 & y_2 & y_2^2 & \\cdots & y_2^{n-1} \\\\\n",
    "        \\vdots \\\\\n",
    "        1 & y_m & y_m^2 & \\cdots & y_m^{n-1} \\\\\n",
    "    \\end{bmatrix}\n",
    "$$\n",
    "\n",
    "Then, $AK = A(XC) = YC$, so that $A = YX^{-1}$. in other words, \n",
    "$\n",
    "    A = \\begin{bmatrix} \n",
    "        1 & x_1 & x_1^2 & \\cdots & x_1^{n-1} \\\\\n",
    "        1 & x_2 & x_2^2 & \\cdots & x_2^{n-1} \\\\\n",
    "        \\vdots \\\\\n",
    "        1 & x_n & x_n^2 & \\cdots & x_n^{n-1} \\\\\n",
    "    \\end{bmatrix} \n",
    "    \\begin{bmatrix} \n",
    "        1 & y_1 & y_1^2 & \\cdots & y_1^{n-1} \\\\\n",
    "        1 & y_2 & y_2^2 & \\cdots & y_2^{n-1} \\\\\n",
    "        \\vdots \\\\\n",
    "        1 & y_m & y_m^2 & \\cdots & y_m^{n-1} \\\\\n",
    "    \\end{bmatrix} ^{-1}\n",
    "$"
   ]
  },
  {
   "cell_type": "markdown",
   "id": "bafd0794",
   "metadata": {
    "deletable": false,
    "editable": false,
    "nbgrader": {
     "cell_type": "markdown",
     "checksum": "f875b6a90379de08b64ae48b094b030d",
     "grade": false,
     "grade_id": "cell-7661416945339489",
     "locked": true,
     "schema_version": 3,
     "solution": false
    }
   },
   "source": [
    "**(b)** [5]) Write a program to calculate $A$ and plot $||A||_\\infty$ on a semilog scale for $n=1, 2, \\ldots, 30$, $m=2n-1$.  In the continuous limit $m \\rightarrow \\infty$, the numbers $||A||_\\infty$ are known as the Lebesgue constants for equispaced interpolation, which are asymptotic to $2^n / (e(n-1) \\log n)$ as $n \\rightarrow \\infty$."
   ]
  },
  {
   "cell_type": "code",
   "execution_count": 43,
   "id": "9ab7cbd7",
   "metadata": {
    "deletable": false,
    "nbgrader": {
     "cell_type": "code",
     "checksum": "00c37c798697ec9ea6860cd633423c89",
     "grade": true,
     "grade_id": "cell-8743053752448174",
     "locked": false,
     "points": 5,
     "schema_version": 3,
     "solution": true
    }
   },
   "outputs": [
    {
     "name": "stderr",
     "output_type": "stream",
     "text": [
      "<ipython-input-43-1d93bb30fbaa>:39: RuntimeWarning: divide by zero encountered in true_divide\n",
      "  f = lambda n: 2**n / (numpy.e*(n-1)*numpy.log(n))\n"
     ]
    },
    {
     "data": {
      "text/plain": [
       "Text(0.5, 1.0, 'Lebesgue constants for Equispaced Interpolation')"
      ]
     },
     "execution_count": 43,
     "metadata": {},
     "output_type": "execute_result"
    },
    {
     "data": {
      "image/png": "[encoded data removed]",
      "text/plain": [
       "<Figure size 432x288 with 1 Axes>"
      ]
     },
     "metadata": {
      "needs_background": "light"
     },
     "output_type": "display_data"
    }
   ],
   "source": [
    "# YOUR CODE HERE\n",
    "\n",
    "# function to calculate A\n",
    "def calculateA(n):\n",
    "    m = 2*n - 1\n",
    "    x = numpy.zeros((n,1))\n",
    "    y = numpy.zeros((m,1))\n",
    "    Y = numpy.zeros([m,n])\n",
    "    X = numpy.zeros([n,n])\n",
    "    \n",
    "    for i in range(0, n):\n",
    "        x[i] = -1 + 2/float(n-1) * (i)\n",
    "        \n",
    "    for i in range(0, m):\n",
    "        y[i] = -1 + 2/float(m-1) * (i)\n",
    "        \n",
    "    for i in range(0, n):\n",
    "        for j in range(0, n):\n",
    "            X[i,j] = x[i]**j\n",
    "            \n",
    "    for i in range(0, m):\n",
    "        for j in range(0, n):\n",
    "            Y[i,j] = y[i]**j\n",
    "    \n",
    "    invX = numpy.linalg.inv(X)\n",
    "    A = numpy.dot(Y, invX)\n",
    "    \n",
    "    return A\n",
    "\n",
    "# computing ||A||_inf\n",
    "n = numpy.linspace(1, 30, 30)\n",
    "norm = numpy.ones([30, 1])\n",
    "\n",
    "for i in range(2, 30):\n",
    "    A = calculateA(i)\n",
    "    norm[i] = numpy.linalg.norm(A, ord = numpy.inf)\n",
    "\n",
    "# Lebesgue constants \n",
    "f = lambda n: 2**n / (numpy.e*(n-1)*numpy.log(n))\n",
    "\n",
    "plt.semilogy(n, norm, 'o')\n",
    "plt.semilogy(n, f(n), 'r')\n",
    "plt.xlabel(\"n\")\n",
    "plt.ylabel(\"$||A||_\\infty$\")\n",
    "plt.title(\"Lebesgue constants for Equispaced Interpolation\")\n"
   ]
  },
  {
   "cell_type": "markdown",
   "id": "6b916c2d",
   "metadata": {
    "deletable": false,
    "editable": false,
    "nbgrader": {
     "cell_type": "markdown",
     "checksum": "5080c22188b9741b79cbffa82875a70f",
     "grade": false,
     "grade_id": "cell-4762438551096464",
     "locked": true,
     "schema_version": 3,
     "solution": false
    }
   },
   "source": [
    "**(c)** [10] Derive a general way to compute the $\\infty$-norm condition number $\\kappa$ of the problem of interpolating the function $f(x) = 1$.  Plot the result for $n=1,2,\\ldots,30$ and $m=2n-1$.  Hint:  Use the expression we found involving the Jacobian."
   ]
  },
  {
   "cell_type": "markdown",
   "id": "504bad16",
   "metadata": {
    "deletable": false,
    "nbgrader": {
     "cell_type": "markdown",
     "checksum": "c5075d8382ae190ab10fed623b890ca2",
     "grade": true,
     "grade_id": "cell-2240156659521813",
     "locked": false,
     "points": 7,
     "schema_version": 3,
     "solution": true
    }
   },
   "source": [
    "YOUR ANSWER HERE\n",
    "\n",
    "Based on lecture notes (https://github.com/mandli/intro-numerical-methods/blob/master/12_LA_conditioning_stability.ipynb)\n",
    "\n",
    "For the interpolating function $f(x) = 1$, $f(x) = A \\overrightarrow x = [1, 1, ..., 1]$. Since we found in part (a) that $A = YX^{-1}$, i.e. $Y = AX$, we can use the Jacobian expression to write: \n",
    "\n",
    "$$\n",
    "    |J(x)|_{ij} = \\frac{\\partial f_i}{\\partial x_j} (x)= A \\\\\n",
    "    \\kappa = \\frac{||J(x)||_\\infty}{||f(x)||_\\infty / ||x||\\infty} \\\\\n",
    "    = \\frac{||J(x)||_\\infty}{||Ax||_\\infty / ||x||\\infty} \\\\\n",
    "    = \\frac{||A||_\\infty}{1/1} = ||A||_\\infty\n",
    "$$\n",
    "\n",
    "So the $\\infty$-norm condition number $\\kappa = ||A||_\\infty$"
   ]
  },
  {
   "cell_type": "code",
   "execution_count": 13,
   "id": "91b3395f",
   "metadata": {
    "deletable": false,
    "nbgrader": {
     "cell_type": "code",
     "checksum": "1ff4358b354d82ed2efc1ddc9a68bc61",
     "grade": true,
     "grade_id": "cell-1916492016011003",
     "locked": false,
     "points": 3,
     "schema_version": 3,
     "solution": true
    }
   },
   "outputs": [
    {
     "data": {
      "image/png": "[encoded data removed]",
      "text/plain": [
       "<Figure size 432x288 with 1 Axes>"
      ]
     },
     "metadata": {
      "needs_background": "light"
     },
     "output_type": "display_data"
    }
   ],
   "source": [
    "# YOUR CODE HERE\n",
    "\n",
    "nums = []\n",
    "kappa = []\n",
    "for n in range(1, 31):\n",
    "    nums.append(n)\n",
    "    m = 2*n - 1\n",
    "    x = numpy.linspace(-1, 1, n)\n",
    "    y = numpy.linspace(-1, 1, m)\n",
    "    \n",
    "    Y = numpy.vander(y, N=n, increasing=True)\n",
    "    X = numpy.vander(x, increasing=True)\n",
    "    invX = numpy.linalg.inv(X)\n",
    "    A = numpy.dot(Y, invX)\n",
    "    \n",
    "    kappa.append(numpy.linalg.norm(A, numpy.inf))\n",
    "\n",
    "plt.semilogy(nums, kappa, 'o')\n",
    "plt.xlabel(\"n\")\n",
    "plt.ylabel(\"k\")\n",
    "plt.title(\"$\\infty$-norm $\\kappa$ vs. $n$\")\n",
    "plt.show()"
   ]
  },
  {
   "cell_type": "markdown",
   "id": "a9b20b62",
   "metadata": {
    "deletable": false,
    "editable": false,
    "nbgrader": {
     "cell_type": "markdown",
     "checksum": "1d91c54c53459dc691e1b93f99556f6b",
     "grade": false,
     "grade_id": "cell-4391815592086616",
     "locked": true,
     "schema_version": 3,
     "solution": false
    }
   },
   "source": [
    "## Question 2 - LU Factorization\n",
    "\n",
    "Gaussian elimination is usually one of the first operations students learn in linear algebra but we seemed to have skipped it in lecture!  Let us fix that here in the homework.  Make sure to read the lecture on Gaussian elimination when doing this question."
   ]
  },
  {
   "cell_type": "markdown",
   "id": "fda6879b",
   "metadata": {
    "deletable": false,
    "editable": false,
    "nbgrader": {
     "cell_type": "markdown",
     "checksum": "2ff23417ed175fe360fd2001560e24a7",
     "grade": false,
     "grade_id": "cell-4624805096432302",
     "locked": true,
     "schema_version": 3,
     "solution": false
    }
   },
   "source": [
    "**(a)** [10] By hand compute the $LU$ factorization of the matrix\n",
    "$$\n",
    "    A = \\begin{bmatrix}\n",
    "        4 & 8 & 1 \\\\\n",
    "        8 & 20 & 4 \\\\\n",
    "        16 & 36 & 7\n",
    "    \\end{bmatrix}.\n",
    "$$\n",
    "Make sure to compute all the way to the matrix $L$, not the components of the inverse.  You do not have to worry about pivoting."
   ]
  },
  {
   "cell_type": "markdown",
   "id": "1a99db1b",
   "metadata": {
    "deletable": false,
    "nbgrader": {
     "cell_type": "markdown",
     "checksum": "ad40ac7876d1da2e7e05c9640e5024e4",
     "grade": true,
     "grade_id": "cell-3409237533613078",
     "locked": false,
     "points": 5,
     "schema_version": 3,
     "solution": true
    }
   },
   "source": [
    "YOUR ANSWER HERE\n",
    "\n",
    "Given \n",
    "$\n",
    "    A = \\begin{bmatrix}\n",
    "        4 & 8 & 1 \\\\\n",
    "        8 & 20 & 4 \\\\\n",
    "        16 & 36 & 7\n",
    "    \\end{bmatrix}\n",
    "$, we start by setting \n",
    "\n",
    "$$\n",
    "    \\begin{bmatrix}\n",
    "        1 & 0 & 0 \\\\\n",
    "        0 & 1 & 0 \\\\\n",
    "        0 & 0 & 1 \n",
    "    \\end{bmatrix}\n",
    "    \\begin{bmatrix}\n",
    "        4 & 8 & 1 \\\\\n",
    "        8 & 20 & 4 \\\\\n",
    "        16 & 36 & 7\n",
    "    \\end{bmatrix}\n",
    "$$\n",
    "\n",
    "$R_2 - 2R_1$: \n",
    "\n",
    "$$\n",
    "    \\begin{bmatrix}\n",
    "        1 & 0 & 0 \\\\\n",
    "        2 & 1 & 0 \\\\\n",
    "        0 & 0 & 1 \n",
    "    \\end{bmatrix}\n",
    "    \\begin{bmatrix}\n",
    "        4 & 8 & 1 \\\\\n",
    "        0 & 4 & 2 \\\\\n",
    "        16 & 36 & 7\n",
    "    \\end{bmatrix}\n",
    "$$\n",
    "\n",
    "$R_3 - 4R_1$: \n",
    "\n",
    "$$\n",
    "    \\begin{bmatrix}\n",
    "        1 & 0 & 0 \\\\\n",
    "        2 & 1 & 0 \\\\\n",
    "        4 & 0 & 1 \n",
    "    \\end{bmatrix}\n",
    "    \\begin{bmatrix}\n",
    "        4 & 8 & 1 \\\\\n",
    "        0 & 4 & 2 \\\\\n",
    "        0 & 4 & 3\n",
    "    \\end{bmatrix}\n",
    "$$\n",
    "\n",
    "$R_3 - R_2$: \n",
    "\n",
    "$$\n",
    "    \\begin{bmatrix}\n",
    "        1 & 0 & 0 \\\\\n",
    "        2 & 1 & 0 \\\\\n",
    "        4 & 1 & 1 \n",
    "    \\end{bmatrix}\n",
    "    \\begin{bmatrix}\n",
    "        4 & 8 & 1 \\\\\n",
    "        0 & 4 & 2 \\\\\n",
    "        0 & 0 & 1\n",
    "    \\end{bmatrix}\n",
    "$$\n",
    "\n",
    "So $$\n",
    "    L = \\begin{bmatrix}\n",
    "        1 & 0 & 0 \\\\\n",
    "        2 & 1 & 0 \\\\\n",
    "        4 & 1 & 1 \n",
    "    \\end{bmatrix}\n",
    "$$ \n",
    "and \n",
    "$$\n",
    "    U = \\begin{bmatrix}\n",
    "        4 & 8 & 1 \\\\\n",
    "        0 & 4 & 2 \\\\\n",
    "        0 & 0 & 1\n",
    "    \\end{bmatrix}\n",
    "$$"
   ]
  },
  {
   "cell_type": "markdown",
   "id": "484d7ea3",
   "metadata": {
    "deletable": false,
    "editable": false,
    "nbgrader": {
     "cell_type": "markdown",
     "checksum": "68a708a0766774ae99539342a861b5e4",
     "grade": false,
     "grade_id": "cell-8575190023526182",
     "locked": true,
     "schema_version": 3,
     "solution": false
    }
   },
   "source": [
    "**(b)** [10] Write a function that computes the $LU$ factorization of a given matrix $A \\in \\mathbb R^{n \\times n}$ without using `numpy` or `scipy` packages.  Make sure to also return the pivoting matrix, i.e. compute the matrices $P$, $L$, and $U$ where\n",
    "$$\n",
    "    P A = L U.\n",
    "$$\n",
    "Note that the provided function `swap_rows` may be useful although you do not have to use it.  You may also want to use the example in the notes to test your basic algorithm with (i.e. `A = numpy.array([[2, 1, 1, 0], [4, 3, 3, 1], [8, 7, 9, 5], [6, 7, 9, 8]], dtype=float)` noting that the algorithm will complain without the casting to `float`)."
   ]
  },
  {
   "cell_type": "code",
   "execution_count": 19,
   "id": "f0e28404",
   "metadata": {
    "deletable": false,
    "nbgrader": {
     "cell_type": "code",
     "checksum": "b625e9fc9a9088ab645b250b412e40ef",
     "grade": false,
     "grade_id": "cell-3416177524508008",
     "locked": false,
     "schema_version": 3,
     "solution": true
    }
   },
   "outputs": [],
   "source": [
    "def swap_rows(i, j, A, column_indices=None):\n",
    "    r\"\"\"\n",
    "    Swap the ith and jth rows of the matrix A in place\n",
    "    \n",
    "    Optional argument column_indices is a tuple that controls \n",
    "    the columns being swapped.  Defaults to the entire row.\n",
    "    \"\"\"\n",
    "    if column_indices is None:\n",
    "        column_indices = (0, A.shape[0])\n",
    "    \n",
    "    pivot_row = A[i, column_indices[0]:column_indices[1]].copy()\n",
    "    A[i, column_indices[0]:column_indices[1]] = A[j, column_indices[0]:column_indices[1]]\n",
    "    A[j, column_indices[0]:column_indices[1]] = pivot_row\n",
    "\n",
    "    \n",
    "# Based on LU partial pivoting algorithm: \n",
    "# https://github.com/mandli/intro-numerical-methods/blob/master/15_LA_gaussian.ipynb \n",
    "\n",
    "def LU_factorization(A):\n",
    "    # YOUR CODE HERE\n",
    "    \n",
    "    m = A.shape[0]\n",
    "    U = A.copy()\n",
    "    L = numpy.identity(len(A))\n",
    "    P = numpy.identity(len(A))\n",
    "    for k in range(m):\n",
    "        i = numpy.argmax(numpy.abs(U[k:m, k]))\n",
    "        i += k\n",
    "        swap_rows(i, k, U, [k,m])\n",
    "        swap_rows(i, k, L, [0,k])\n",
    "        swap_rows(i, k, P)\n",
    "        for j in range(k+1, m):\n",
    "            L[j, k] = U[j, k] / U[k, k]\n",
    "            U[j, k:m] = U[j, k:m] - L[j, k] * U[k, k:m]\n",
    "    return P, L, U"
   ]
  },
  {
   "cell_type": "code",
   "execution_count": 20,
   "id": "3e79b51d",
   "metadata": {
    "deletable": false,
    "editable": false,
    "nbgrader": {
     "cell_type": "code",
     "checksum": "14b57bfa1deee8a6c0e6c5514a5fdadb",
     "grade": true,
     "grade_id": "cell-9410005352958010",
     "locked": true,
     "points": 10,
     "schema_version": 3,
     "solution": false
    }
   },
   "outputs": [
    {
     "name": "stdout",
     "output_type": "stream",
     "text": [
      "Success!\n"
     ]
    }
   ],
   "source": [
    "import scipy.linalg\n",
    "# A = numpy.array([[2, 1, 1, 0], [4, 3, 3, 1], [8, 7, 9, 5], [6, 7, 9, 8]], dtype=float)\n",
    "A = numpy.random.uniform(low=1.0, high=10.0, size=(25, 25))\n",
    "P, L, U = LU_factorization(A)\n",
    "P_s, L_s, U_s = scipy.linalg.lu(A)\n",
    "numpy.testing.assert_allclose(P, numpy.linalg.inv(P_s))\n",
    "numpy.testing.assert_allclose(L, L_s)\n",
    "numpy.testing.assert_allclose(U, U_s, atol=1e-8)\n",
    "print(\"Success!\")"
   ]
  },
  {
   "cell_type": "markdown",
   "id": "f033476f",
   "metadata": {
    "deletable": false,
    "editable": false,
    "nbgrader": {
     "cell_type": "markdown",
     "checksum": "8482bb4fe26eb5f0c27446ffbcc9f0b0",
     "grade": false,
     "grade_id": "cell-6331285623355538",
     "locked": true,
     "schema_version": 3,
     "solution": false
    }
   },
   "source": [
    "**(c)** [10] For this question write a function that solves the system $A x = b$ given an $A$ and $b$ using your $LU$ factorization function and the pivot matrix.  Again do not use any of the functions from `numpy` or `scipy` other than to check your solution."
   ]
  },
  {
   "cell_type": "markdown",
   "id": "d99ede7b",
   "metadata": {},
   "source": []
  },
  {
   "cell_type": "code",
   "execution_count": 21,
   "id": "5b4d89f0",
   "metadata": {
    "deletable": false,
    "nbgrader": {
     "cell_type": "code",
     "checksum": "44e941df853d799ed4341c7f51138f55",
     "grade": false,
     "grade_id": "cell-9695927972933496",
     "locked": false,
     "schema_version": 3,
     "solution": true
    }
   },
   "outputs": [],
   "source": [
    "# based on solving Ax=b: \n",
    "# https://github.com/mandli/intro-numerical-methods/blob/master/15_LA_gaussian.ipynb\n",
    "\n",
    "def solve(A, b):\n",
    "    # YOUR CODE HERE\n",
    "    P, L, U = LU_factorization(A)\n",
    "    m = len(A)\n",
    "    x = numpy.zeros(m)\n",
    "    y = numpy.zeros(m)\n",
    "    Pb = numpy.dot(P, b)\n",
    "\n",
    "    # forward substitution\n",
    "    for i in range(0, m):\n",
    "        Ly = 0\n",
    "        for j in range(0,i):\n",
    "            Ly += L[i,j] * y[j]  \n",
    "        y[i] = Pb[i]-Ly\n",
    " \n",
    "    # backward substitution\n",
    "    for i in range(1, m+1):  \n",
    "        Ux = 0        \n",
    "        for j in range(1,i):\n",
    "            Ux += U[m-i,m-j] * x[m-j]\n",
    "        y[m-i] -= Ux\n",
    "        x[m-i] = y[m-i] / U[m-i,m-i]\n",
    "        x[m-1] = y[m-1] / U[m-1,m-1]\n",
    "    \n",
    "    return x"
   ]
  },
  {
   "cell_type": "code",
   "execution_count": 22,
   "id": "1bbb78b9",
   "metadata": {
    "deletable": false,
    "editable": false,
    "nbgrader": {
     "cell_type": "code",
     "checksum": "1b3e93539cffda4b4e9d47fee4353eb3",
     "grade": true,
     "grade_id": "cell-9290228235952792",
     "locked": true,
     "points": 10,
     "schema_version": 3,
     "solution": false
    }
   },
   "outputs": [
    {
     "name": "stdout",
     "output_type": "stream",
     "text": [
      "Success!\n"
     ]
    }
   ],
   "source": [
    "m = 10\n",
    "A = numpy.random.uniform(size=(m, m))\n",
    "b = numpy.random.uniform(size=(m))\n",
    "x = solve(A, b)\n",
    "x_n = numpy.linalg.solve(A, b)\n",
    "numpy.testing.assert_allclose(x, x_n)\n",
    "print(\"Success!\")"
   ]
  },
  {
   "cell_type": "markdown",
   "id": "ed39df6b",
   "metadata": {
    "deletable": false,
    "editable": false,
    "nbgrader": {
     "cell_type": "markdown",
     "checksum": "e67a9a9500c0e3a9750039fb30c76172",
     "grade": false,
     "grade_id": "cell-481593993242207",
     "locked": true,
     "schema_version": 3,
     "solution": false
    }
   },
   "source": [
    "## Question 3\n",
    "\n",
    "Consider the system of equations $Ax = b$ defined by\n",
    "$$A = \\begin{bmatrix}\n",
    "        0.780 & 0.563 \\\\\n",
    "        0.913 & 0.659 \n",
    "    \\end{bmatrix}\n",
    "    \\quad \\text{and} \\quad \n",
    "    b = \\begin{bmatrix}\n",
    "        0.217 \\\\\n",
    "        0.254 \n",
    "    \\end{bmatrix}.\n",
    "$$\n",
    "The true solution of this system is $$x^T = [1, -1]$$.  Consider for the following questions the approximate solutions\n",
    "$$\n",
    "    x^T_1 = [0.999, -1.001] \\quad \\text{and} \\quad x^T_2 = [0.341, -0.087]\n",
    "$$\n",
    "and define the residual $r(y)$ as\n",
    "$$\n",
    "    r(y) = b - A y.\n",
    "$$"
   ]
  },
  {
   "cell_type": "markdown",
   "id": "9320bda9",
   "metadata": {
    "deletable": false,
    "editable": false,
    "nbgrader": {
     "cell_type": "markdown",
     "checksum": "059be8bfac0547bee6d1e4e03d122f55",
     "grade": false,
     "grade_id": "cell-890606747676466",
     "locked": true,
     "schema_version": 3,
     "solution": false
    }
   },
   "source": [
    "**(a)** [10] Compute the residuals (you may use `numpy`) $||r(x_1)||$ and $||r(x_2)||$ for the two approximate solutions using a couple of different norms.  Does the more accurate solution have a smaller residual?  Does it matter which norm you use?"
   ]
  },
  {
   "cell_type": "code",
   "execution_count": 25,
   "id": "d724af7e",
   "metadata": {
    "deletable": false,
    "nbgrader": {
     "cell_type": "code",
     "checksum": "ba25cea086694fe96ca70bc434b808a3",
     "grade": true,
     "grade_id": "cell-4148931275843056",
     "locked": false,
     "points": 10,
     "schema_version": 3,
     "solution": true
    }
   },
   "outputs": [
    {
     "name": "stdout",
     "output_type": "stream",
     "text": [
      "Computed r(x1) with 1-norm:   1.730133\n",
      "Computed r(x1) with 2-norm:   1.6216011428041541\n",
      "Computed r(x1) with inf-norm: 2.081572 \n",
      "\n",
      "Computed r(x2) with 1-norm:   0.38241100000000006\n",
      "Computed r(x2) with 2-norm:   0.4565738878802673\n",
      "Computed r(x2) with inf-norm: 0.6447640000000001\n"
     ]
    }
   ],
   "source": [
    "# constructing matrices \n",
    "A = numpy.array([[0.780, 0.563], [0.913, 0.659]])\n",
    "b = numpy.array([[0.217], [0.254]])\n",
    "x1 = numpy.array([[0.999], [-1.001]])\n",
    "x2 = numpy.array([[0.341], [-0.087]])\n",
    "\n",
    "# res\n",
    "rx1 = b - A*x1\n",
    "rx2 = b - A*x2 \n",
    "\n",
    "# 1, 2, inf norms \n",
    "rx1_1 = numpy.linalg.norm(rx1,ord=1)\n",
    "rx1_2 = numpy.linalg.norm(rx1,ord=2)\n",
    "rx1_inf = numpy.linalg.norm(rx1,ord=numpy.inf)\n",
    "\n",
    "rx2_1 = numpy.linalg.norm(rx2,ord=1)\n",
    "rx2_2 = numpy.linalg.norm(rx2,ord=2)\n",
    "rx2_inf = numpy.linalg.norm(rx2,ord=numpy.inf)\n",
    "\n",
    "print(\"Computed r(x1) with 1-norm:   %s\" % rx1_1)\n",
    "print(\"Computed r(x1) with 2-norm:   %s\" % rx1_2)\n",
    "print(\"Computed r(x1) with inf-norm: %s \\n\" % rx1_inf)\n",
    "\n",
    "print(\"Computed r(x2) with 1-norm:   %s\" % rx2_1)\n",
    "print(\"Computed r(x2) with 2-norm:   %s\" % rx2_2)\n",
    "print(\"Computed r(x2) with inf-norm: %s\" % rx2_inf)"
   ]
  },
  {
   "cell_type": "markdown",
   "id": "1bbf35fe",
   "metadata": {
    "deletable": false,
    "nbgrader": {
     "cell_type": "markdown",
     "checksum": "8bde75b6257de59d3f4d328ca2e205a3",
     "grade": true,
     "grade_id": "cell-369737136797174",
     "locked": false,
     "points": 0,
     "schema_version": 3,
     "solution": true
    }
   },
   "source": [
    "YOUR ANSWER HERE\n",
    "\n",
    "The more accurate solution, x1, has larger residuals than x2. The 2-norm for x1 has the lowest residual. "
   ]
  },
  {
   "cell_type": "markdown",
   "id": "133ea502",
   "metadata": {
    "deletable": false,
    "editable": false,
    "nbgrader": {
     "cell_type": "markdown",
     "checksum": "b5fb2f6dde6326184666f70ce8d7dc92",
     "grade": false,
     "grade_id": "cell-4807436545966871",
     "locked": true,
     "schema_version": 3,
     "solution": false
    }
   },
   "source": [
    "**(b)** [10] Compute $||A||$, $||A^{-1}||$ and the condition number $\\kappa(A)$ of the matrix using the $L_2$ and $L_\\infty$ norms.  Again you can use `numpy`."
   ]
  },
  {
   "cell_type": "code",
   "execution_count": 26,
   "id": "8f1bd511",
   "metadata": {
    "deletable": false,
    "nbgrader": {
     "cell_type": "code",
     "checksum": "02619631db1363e3745333ad365e2045",
     "grade": true,
     "grade_id": "cell-2984656588126720",
     "locked": false,
     "points": 10,
     "schema_version": 3,
     "solution": true
    }
   },
   "outputs": [
    {
     "name": "stdout",
     "output_type": "stream",
     "text": [
      "Computed ||A|| with 2-norm:   1.4809520586432041\n",
      "Computed ||A|| with inf-norm: 1.572 \n",
      "\n",
      "Computed ||A^{-1}|| with 2-norm:   1480952.0584615201\n",
      "Computed ||A^{-1}|| with inf-norm: 1692999.9997923018 \n",
      "\n",
      "Condition Number K(A) with 2-norm:   2193218.99965077\n",
      "Condition Number K(A) with inf-norm: 2661395.9996734983\n"
     ]
    }
   ],
   "source": [
    "A_2 = numpy.linalg.norm(A, ord=2)\n",
    "A_inf = numpy.linalg.norm(A, ord = numpy.inf)\n",
    "\n",
    "invA = numpy.linalg.inv(A)\n",
    "invA_2 = numpy.linalg.norm(invA, ord=2)\n",
    "invA_inf = numpy.linalg.norm(invA, ord = numpy.inf)\n",
    "\n",
    "KA_1 = numpy.linalg.cond(A, p=2)\n",
    "KA_inf = numpy.linalg.cond(A, p=numpy.inf)\n",
    "\n",
    "print(\"Computed ||A|| with 2-norm:   %s\" % A_2)\n",
    "print(\"Computed ||A|| with inf-norm: %s \\n\" % A_inf)\n",
    "\n",
    "print(\"Computed ||A^{-1}|| with 2-norm:   %s\" % invA_2)\n",
    "print(\"Computed ||A^{-1}|| with inf-norm: %s \\n\" % invA_inf)\n",
    "\n",
    "print(\"Condition Number K(A) with 2-norm:   %s\" % KA_1)\n",
    "print(\"Condition Number K(A) with inf-norm: %s\" % KA_inf)"
   ]
  },
  {
   "cell_type": "markdown",
   "id": "2c137052",
   "metadata": {
    "deletable": false,
    "editable": false,
    "nbgrader": {
     "cell_type": "markdown",
     "checksum": "bbaf3f142dd9ac7180bd709b89e2ebc7",
     "grade": false,
     "grade_id": "cell-3323809285287131",
     "locked": true,
     "schema_version": 3,
     "solution": false
    }
   },
   "source": [
    "**(c)** [15] Explain the behavior from part (a) using the results of part (b) discussing how condition numbers play a role in the problem above.  Hint:  Think about the problem where only the vector $x$ is perturbed by some small amount $\\delta x$"
   ]
  },
  {
   "cell_type": "markdown",
   "id": "5bda4783",
   "metadata": {
    "deletable": false,
    "nbgrader": {
     "cell_type": "markdown",
     "checksum": "fc79c68133e82e81e21979830d1efb42",
     "grade": true,
     "grade_id": "cell-7651467702406266",
     "locked": false,
     "points": 15,
     "schema_version": 3,
     "solution": true
    }
   },
   "source": [
    "YOUR ANSWER HERE\n",
    "\n",
    "We note that the condition numbers depend on the degree of the norm used. From part(b) we find that the larger the condition number (i.e. the more ill-conditioned the matrix is), then even relatively small $\\delta x$ on $b$ and the residual can lead to large errors and instability, which explains the behavior from part (a). \n",
    "\n"
   ]
  },
  {
   "cell_type": "code",
   "execution_count": null,
   "id": "bbbea76b",
   "metadata": {},
   "outputs": [],
   "source": []
  }
 ],
 "metadata": {
  "kernelspec": {
   "display_name": "Python 3",
   "language": "python",
   "name": "python3"
  },
  "language_info": {
   "codemirror_mode": {
    "name": "ipython",
    "version": 3
   },
   "file_extension": ".py",
   "mimetype": "text/x-python",
   "name": "python",
   "nbconvert_exporter": "python",
   "pygments_lexer": "ipython3",
   "version": "3.8.8"
  },
  "latex_envs": {
   "bibliofile": "biblio.bib",
   "cite_by": "apalike",
   "current_citInitial": 1,
   "eqLabelWithNumbers": true,
   "eqNumInitial": 0
  }
 },
 "nbformat": 4,
 "nbformat_minor": 5
}
