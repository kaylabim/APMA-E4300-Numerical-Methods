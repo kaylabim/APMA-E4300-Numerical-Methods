{
 "cells": [
  {
   "cell_type": "markdown",
   "id": "3433b920",
   "metadata": {},
   "source": [
    "Before you turn this problem in, make sure everything runs as expected. First, restart the kernel (in the menubar, select Kernel $\\rightarrow$ Restart) and then run all cells (in the menubar, select Cell $\\rightarrow$ Run All).\n",
    "\n",
    "Make sure you fill in any place that says YOUR CODE HERE or \"YOUR ANSWER HERE\", as well as your name and collaborators below:\n",
    "\n",
    "Name: Kayla Kim "
   ]
  },
  {
   "cell_type": "code",
   "execution_count": 72,
   "id": "28a9e167",
   "metadata": {},
   "outputs": [],
   "source": [
    "%matplotlib inline\n",
    "%precision 16\n",
    "from __future__ import print_function\n",
    "import numpy\n",
    "import scipy.special\n",
    "import matplotlib.pyplot as plt"
   ]
  },
  {
   "cell_type": "markdown",
   "id": "6f85b7e7",
   "metadata": {
    "deletable": false,
    "editable": false,
    "nbgrader": {
     "cell_type": "markdown",
     "checksum": "b0a9c4766b89c34985a1249a4e2c7fc4",
     "grade": false,
     "grade_id": "header_2",
     "locked": true,
     "schema_version": 3,
     "solution": false
    }
   },
   "source": [
    "# Midterm - Fall Semester 2022\n",
    "\n",
    "Guidelines:\n",
    "1. Use resources available to you from class and online.\n",
    "1. That being said this is an individual effort, do not work with others and cite what you do use.\n",
    "1. Copying is prohibited, write your own code and solutions.\n",
    "1. Do not use edstem for the duration of the exam, it will be frozen!  \n",
    "1. If you have a question please email the instructor and the TAs for maximal response possibilities.  We will answer questions that pertain only to clarification.  In particular this means we will not debug your code.\n",
    "1. Late turn in of the midterm will result in a 10% reduction every HOUR that it is late.  If you feel that there is a special circumstance that warrants consideration tells us as soon as possible (and more so before the exam starts).\n",
    "\n",
    "Good luck!"
   ]
  },
  {
   "cell_type": "markdown",
   "id": "3405351f",
   "metadata": {
    "deletable": false,
    "editable": false,
    "nbgrader": {
     "cell_type": "markdown",
     "checksum": "3dbad4d0858f2b7085b14a8757dbd920",
     "grade": false,
     "grade_id": "Q1",
     "locked": true,
     "schema_version": 3,
     "solution": false
    }
   },
   "source": [
    "## Question 1\n",
    "\n",
    "A farmer has a circular field, a pole, a rope and a goat.  She places the pole in the ground at the edge of the field and ties the rope to the pole and the goat such that the goat is able to eat the grass on exactly half the field."
   ]
  },
  {
   "cell_type": "markdown",
   "id": "2a2811d1",
   "metadata": {
    "deletable": false,
    "editable": false,
    "nbgrader": {
     "cell_type": "markdown",
     "checksum": "30f8b6fb5b858ad0ba4b3e52720d1147",
     "grade": false,
     "grade_id": "Q1-a",
     "locked": true,
     "schema_version": 3,
     "solution": false
    }
   },
   "source": [
    "**(a)** (15) Given the radius of the field, derive the equations that need to be solved to find the length of the rope needed.  Feel free to use resources on the web but make sure to fully justify what you are using and what the source of the information is."
   ]
  },
  {
   "cell_type": "markdown",
   "id": "80ea8094",
   "metadata": {
    "deletable": false,
    "nbgrader": {
     "cell_type": "markdown",
     "checksum": "58e91c89c016fd2c7dd6c5b579292dd8",
     "grade": true,
     "grade_id": "A1-a",
     "locked": false,
     "points": 15,
     "schema_version": 3,
     "solution": true
    }
   },
   "source": [
    "YOUR ANSWER HERE\n",
    "\n",
    "Using the equation of $\\href{https://mathworld.wolfram.com/Circle-CircleIntersection.html}{\\textrm{circle to circle intersection}}$, we can find the area of intersection between the field ($C_f$) and the circle in which the goat is allowed to eat the grass ($C_g$). \n",
    "\n",
    "The area of intersection $A_{intersection}$ is given by\n",
    "\n",
    "$$\n",
    "    A_{intersection} = r^2 cos^{-1}\\left(\\dfrac{d^2+r^2-R^2}{2dr}\\right) + R^2 cos^{-1}\\left(\\dfrac{d^2+R^2-r^2}{2dR}\\right)-\\dfrac{1}{2} \\sqrt{(-d+r+R)(d+r-R)(d-r+R)(d+r+R)}\n",
    "$$\n",
    "\n",
    "where $R$ is the radius of the circular field $C_f$, $r$ is the radius of the goat's circle ($C_g$), and $d$ is the distance between the center of $C_f$ and $C_g$. \n",
    "\n",
    "Since the pole that ties the goat lies on the edge of the field, we know $R=r$. As such, the area of intersection becomes \n",
    "\n",
    "$$\n",
    "    A_{intersection} = r^2 cos^{-1}\\left(\\dfrac{r}{2R}\\right) + R^2cos^{-1}\\left(\\dfrac{2R^2 - r^2}{2Rr}\\right) - \\dfrac{1}{2}\\sqrt{r^2(2R-r)(2R+r)}\n",
    "$$\n",
    "\n",
    "We want $A_{intersection} = \\dfrac{1}{2} A_{C_f} = \\dfrac{\\pi R^2}{2}$, so given the radius of $C_f$, $R$, we can find $r$ such that\n",
    "\n",
    "$$\n",
    "    \\dfrac{\\pi R^2}{2} = r^2 cos^{-1}\\left(\\dfrac{r}{2R}\\right) + R^2cos^{-1}\\left(\\dfrac{2R^2 - r^2}{2Rr}\\right) - \\dfrac{1}{2}\\sqrt{r^2(2R-r)(2R+r)} \n",
    "$$\n",
    "\n",
    "Equivalently, we can solve for the roots of the equation such that\n",
    "\n",
    "$$\n",
    "    r^2 cos^{-1}\\left(\\dfrac{r}{2R}\\right) + R^2cos^{-1}\\left(\\dfrac{2R^2 - r^2}{2r^2}\\right) - \\dfrac{1}{2}\\sqrt{r^2(2R-r)(2R+r)} -  \\dfrac{\\pi R^2}{2} = 0 \n",
    "$$\n",
    "using Newton's method: $\\href{https://github.com/mandli/intro-numerical-methods/blob/master/05_root_finding_optimization.ipynb}{\\textrm{Lecture Notes for Newton's}}$ "
   ]
  },
  {
   "cell_type": "markdown",
   "id": "045d78d0",
   "metadata": {
    "deletable": false,
    "editable": false,
    "nbgrader": {
     "cell_type": "markdown",
     "checksum": "e9ccece37990768bf3f12fa3cb6a4c07",
     "grade": false,
     "grade_id": "Q1-b",
     "locked": true,
     "schema_version": 3,
     "solution": false
    }
   },
   "source": [
    "**(b)** (10) Write a function that takes a radius and returns the length of rope.  Make sure to handle appropriate limiting conditions."
   ]
  },
  {
   "cell_type": "code",
   "execution_count": 121,
   "id": "7db29aed",
   "metadata": {
    "deletable": false,
    "nbgrader": {
     "cell_type": "code",
     "checksum": "bc40ac4f1c782d4f40155f8a6fdf7062",
     "grade": false,
     "grade_id": "A1-b",
     "locked": false,
     "schema_version": 3,
     "solution": true
    }
   },
   "outputs": [],
   "source": [
    "# Based on code for Newton's Method in Root-Finding/Optimization Lecture Notes\n",
    "\n",
    "def goat_leash(r):\n",
    "    \"\"\"Given the radius of the field compute the length of rope needed.\n",
    "    \n",
    "    :Input:\n",
    "     - *r* (float) Radius of field\n",
    "\n",
    "    :Output:\n",
    "     - (float) Length of rope\n",
    "    \"\"\"\n",
    "    # YOUR CODE HERE\n",
    "    MAX_STEPS = 1000 \n",
    "    tolerance = 1.e-7\n",
    "    \n",
    "    r = r\n",
    "    A = lambda L, r=r: L**2 * numpy.arccos(L / (2 * r)) + r**2 * numpy.arccos((2 * r**2 - L**2) / (2 * r**2)) - numpy.sqrt(L**2 * (2 * r - L) * (2 * r + L)) / 2 - (numpy.pi * r**2 / 2)\n",
    "    A_prime = lambda L, r=r: 2 * L * numpy.arccos(L / (2 * r)) - (L**2 / numpy.sqrt(4 * r**2 - L**2)) + ( r**2 * (2 * r**2 + L**2) ) / ( L * numpy.sqrt(-4 * r**4 + 8 * L**2 * r**2 - L**4)) - ( 2 * r**2 - L**2 ) / ( numpy.sqrt((2 * r - L) * (2 * r + L)) )\n",
    "#     A = lambda L, r=r: (r**2 * numpy.arccos((2*r**2 - L**2)/(2*r**2))) + (L**2 * numpy.arccos(L/2*r)) - 2 * r**2 * L**2 - (L**4 / 2)\n",
    "#     A_prime = lambda L, r=r: (2*r**2 - L**2)/(numpy.sqrt(4*r**2 - L**2)) + 2 * L * numpy.arccos(L / 2*r) - 4*L*r**3 - 2*L**3\n",
    "    \n",
    "#     n = 0    \n",
    "    if r > 0.0:\n",
    "        L0 = r\n",
    "        L = L0\n",
    "        L_array = [ L0 ]\n",
    "\n",
    "        for k in range(1, MAX_STEPS + 1):\n",
    "            L = L - A(L) / A_prime(L)\n",
    "            L_array.append(L)\n",
    "#             n += 1\n",
    "            if numpy.abs(A(L)) < tolerance:\n",
    "#                 n -= 1\n",
    "                break \n",
    "\n",
    "#         print(n)\n",
    "        if k == MAX_STEPS:\n",
    "            print('Maximum number of steps exceeded')\n",
    "    else:\n",
    "        L = r #since if r = 0, L = 0 \n",
    "\n",
    "    return L"
   ]
  },
  {
   "cell_type": "code",
   "execution_count": 9,
   "id": "ccc985c6",
   "metadata": {
    "deletable": false,
    "editable": false,
    "nbgrader": {
     "cell_type": "code",
     "checksum": "7b9ae079994da8fe0a8a7f3d8202b16f",
     "grade": true,
     "grade_id": "T1-b",
     "locked": true,
     "points": 10,
     "schema_version": 3,
     "solution": false
    }
   },
   "outputs": [
    {
     "name": "stdout",
     "output_type": "stream",
     "text": [
      "0.0 0.0\n",
      "1.0 1.1587284711955173\n",
      "4.0 4.634913884782069\n",
      "10.0 11.587284729611737\n",
      "20.0 23.174569459223473\n",
      "Success!\n"
     ]
    }
   ],
   "source": [
    "%precision 16\n",
    "L = numpy.zeros(5)\n",
    "for (i, r) in enumerate(numpy.array([0.0, 1.0, 4.0, 10.0, 20.0])):\n",
    "    L[i] = goat_leash(r)\n",
    "    print(r, L[i])\n",
    "numpy.testing.assert_allclose(L, [0.0, 1.1587284728884697, 4.6349138915538788, 11.5872847300488502, 23.1745694603887387])\n",
    "print(\"Success!\")"
   ]
  },
  {
   "cell_type": "markdown",
   "id": "5c7bd346",
   "metadata": {
    "deletable": false,
    "editable": false,
    "nbgrader": {
     "cell_type": "markdown",
     "checksum": "b250413ea48049b439bd5c961b73fcec",
     "grade": false,
     "grade_id": "Q1-c",
     "locked": true,
     "schema_version": 3,
     "solution": false
    }
   },
   "source": [
    "**(c)** (10) Confirm your result by plotting the relevant geometry (e.g. the field relative to the reach of the goat)."
   ]
  },
  {
   "cell_type": "code",
   "execution_count": 105,
   "id": "41d57a3f",
   "metadata": {
    "deletable": false,
    "nbgrader": {
     "cell_type": "code",
     "checksum": "7e8361eaace67e0fbe13402086618c06",
     "grade": true,
     "grade_id": "A1-c",
     "locked": false,
     "points": 10,
     "schema_version": 3,
     "solution": true
    }
   },
   "outputs": [
    {
     "data": {
      "image/png": "[encoded data removed]",
      "text/plain": [
       "<Figure size 1080x720 with 1 Axes>"
      ]
     },
     "metadata": {
      "needs_background": "light"
     },
     "output_type": "display_data"
    }
   ],
   "source": [
    "# YOUR CODE HERE\n",
    "# plot of field/goat circles, for radius of field = 1\n",
    "# field is centered at 0\n",
    "\n",
    "fig = plt.figure(figsize =(15,10))\n",
    "\n",
    "field = plt.Circle((0, 0), 1, color = 'g')\n",
    "goat = plt.Circle((1, 0), 1.1587284711955173, color = 'b', fill = False)\n",
    "\n",
    "axs = plt.gca()\n",
    "axs.cla()\n",
    "\n",
    "axs.set_xlabel(\"x\")\n",
    "axs.set_ylabel(\"y\")\n",
    "axs.set_title(\"Graph of the field and the goat's range\")\n",
    "\n",
    "axs.set_xlim([-1.25, 2.5])\n",
    "axs.set_ylim([-1.25, 1.25])\n",
    "\n",
    "axs.add_patch(field)\n",
    "axs.add_patch(goat)\n",
    "\n",
    "plt.axvline(x=0, c=\"black\", linestyle='--')\n",
    "plt.axhline(y=0, c=\"black\", linestyle='--')\n",
    "\n",
    "plt.plot((0,0), 'ro')\n",
    "\n",
    "plt.show()"
   ]
  },
  {
   "cell_type": "markdown",
   "id": "887774b3",
   "metadata": {
    "deletable": false,
    "editable": false,
    "nbgrader": {
     "cell_type": "markdown",
     "checksum": "fa54b4eab6e43d828d70eece9ce0dba2",
     "grade": false,
     "grade_id": "Q2",
     "locked": true,
     "schema_version": 3,
     "solution": false
    }
   },
   "source": [
    "## Question 2\n",
    "\n",
    "(25) Find the parameters $p$ that minimize\n",
    "$$\n",
    "    \\int^\\pi_0 \\sin x \\cos p x dx.\n",
    "$$\n",
    "Make sure to plot your result to check the validity of what you found and comment on what you find."
   ]
  },
  {
   "cell_type": "code",
   "execution_count": 70,
   "id": "7e2252cc",
   "metadata": {
    "deletable": false,
    "nbgrader": {
     "cell_type": "code",
     "checksum": "6d3767210825bc185f775600e67981f4",
     "grade": true,
     "grade_id": "A2",
     "locked": false,
     "points": 20,
     "schema_version": 3,
     "solution": true
    }
   },
   "outputs": [
    {
     "data": {
      "image/png": "[encoded data removed]",
      "text/plain": [
       "<Figure size 1080x720 with 1 Axes>"
      ]
     },
     "metadata": {
      "needs_background": "light"
     },
     "output_type": "display_data"
    }
   ],
   "source": [
    "# YOUR CODE HERE\n",
    "\n",
    "x = numpy.linspace(-24, 24, 1000)\n",
    "# print(x)\n",
    "y = -(numpy.cos(numpy.pi*x)+1)/(x**2-1)\n",
    "# print(y)\n",
    "fig = plt.figure(figsize =(15,10))\n",
    "axes = fig.add_subplot(1,1,1)\n",
    "\n",
    "axes.set_xlabel(\"x\", fontsize=16)\n",
    "axes.set_ylabel(\"y\", fontsize=16)\n",
    "axes.set_title(\"Plot of $\\int^\\pi_0 \\sin x \\cos p x dx$\")\n",
    "\n",
    "axes.set_xlim(-20, 20)\n",
    "axes.set_ylim(-1, 2.2)\n",
    "\n",
    "plt.axvline(x=0, c=\"black\", linestyle='--')\n",
    "plt.axhline(y=0, c=\"black\", linestyle='--')\n",
    "\n",
    "plt.plot([1.6521885, 3.8895484, 5.9299382, 7.9483050, 9.958947], [-0.844125, -0.137339, -0.0578347, -0.0319553, -0.020286], 'go', label='minima')\n",
    "plt.plot([-1.6521885, -3.8895484, -5.9299382, -7.9483050, -9.958947], [-0.844125, -0.137339, -0.0578347, -0.0319553, -0.020286], 'go')\n",
    "\n",
    "line, = plt.plot(x, y, 'r')\n",
    "line.set_label('f(x)')\n",
    "\n",
    "axes.legend()\n",
    "plt.show()"
   ]
  },
  {
   "cell_type": "markdown",
   "id": "e31c828b",
   "metadata": {
    "deletable": false,
    "nbgrader": {
     "cell_type": "markdown",
     "checksum": "d193d4214fa2756a4a9b0b045a9b880d",
     "grade": true,
     "grade_id": "2A-b",
     "locked": false,
     "points": 5,
     "schema_version": 3,
     "solution": true
    }
   },
   "source": [
    "YOUR ANSWER HERE\n",
    "\n",
    "Given $f(x) = \\int^\\pi_0 \\sin x \\cos p x dx$, first we calculate the integral keeping $p$ as a constant, which gives us \n",
    "\n",
    "\\begin{equation}\n",
    "\\begin{split}\n",
    "    f(x) &= \\frac{psin(x)sin(px) + cos(x)cos(px)}{p^2-1} \\\\\n",
    "    &= -\\frac{cos((p+1)x)}{2(p+1)} - \\frac{cos((1-p)x)}{2(1-p)} \\\\\n",
    "    &= -\\frac{cos(\\pi p) +1}{p^2 -1}\n",
    "\\end{split}\n",
    "\\end{equation}\n",
    "\n",
    "Then we find the derivative of $f(x)$ in terms of $p$ (i.e. $\\frac{df}{dp}$) in order to solve for the critical points:\n",
    "\n",
    "\\begin{equation}\n",
    "\\begin{split}\n",
    "    \\frac{df}{dp} &= \\dfrac{\\pi sin(\\pi p)(p^2 -1)-(-cos(\\pi p) -1)(2p)}{(p^2-1)^2} \\\\\n",
    "    &= \\frac{\\pi(p^2-1)sin(\\pi p) -2p(-cos(\\pi p) -1)}{(p^2-1)^2} \\\\\n",
    "    &= \\frac{\\pi sin(\\pi p)}{p^2-1} - \\dfrac{2p(-cos(\\pi p) -1)}{(p^2-1)^2} \\\\\n",
    "\\end{split}\n",
    "\\end{equation}\n",
    "\n",
    "Setting $\\dfrac{df}{dp} = 0$: \n",
    "\n",
    "$$\n",
    "    \\frac{df}{dp} = \\dfrac{\\pi sin(\\pi p)}{p^2-1} - \\dfrac{2p(-cos(\\pi p) -1)}{(p^2-1)^2} = 0\n",
    "$$\n",
    "\n",
    "we can find the local minima at\n",
    "\n",
    "$$\n",
    "    p \\approx \\pm 1.6521885 \\text{ where } f(x) = -0.844125, \\\\\n",
    "    p \\approx \\pm 3.8895484 \\text{ where } f(x) = -0.137339, \\\\\n",
    "    p \\approx \\pm 5.9299382 \\text{ where } f(x) = -0.0578347, \\\\\n",
    "    p \\approx \\pm 7.9483050 \\text{ where } f(x) = -0.0319553, \\\\\n",
    "    p \\approx \\pm 9.958947 \\text{ where } f(x) = -0.020286, \\\\\n",
    "$$\n",
    "and so on. This corresponds with the values for the local minima in the graph. "
   ]
  },
  {
   "cell_type": "code",
   "execution_count": null,
   "id": "2f8e7a3d",
   "metadata": {},
   "outputs": [],
   "source": []
  },
  {
   "cell_type": "markdown",
   "id": "268e530e",
   "metadata": {
    "deletable": false,
    "editable": false,
    "nbgrader": {
     "cell_type": "markdown",
     "checksum": "c4062cf64ef8b69a1adff21057d57b19",
     "grade": false,
     "grade_id": "Q6",
     "locked": true,
     "schema_version": 3,
     "solution": false
    }
   },
   "source": [
    "## Question 3\n",
    "\n",
    "The equation for an ellipse is $x^2/a^2 + y^2/b^2=1$.  The circumference of the ellipse can be computed using\n",
    "\n",
    "$$S = 2 \\int^a_{-a} \\sqrt{1 + (\\text{d}y/\\text{d}x)^2} dx.$$"
   ]
  },
  {
   "cell_type": "markdown",
   "id": "412f26ea",
   "metadata": {
    "deletable": false,
    "editable": false,
    "nbgrader": {
     "cell_type": "markdown",
     "checksum": "1fe0defdd2c0ca8397d061152a8564c7",
     "grade": false,
     "grade_id": "Q6-a",
     "locked": true,
     "schema_version": 3,
     "solution": false
    }
   },
   "source": [
    "**(a)** [10] One way to compute the circumference is to use a series due to Ivory and Bessel (you can find the original papers online which may be worth a look).  One way to write this series is\n",
    "\n",
    "$$S = \\pi (a + b) \\sum^{\\infty}_{n=0} \\left(\\begin{aligned} 0.5 \\\\ n~~ \\end{aligned} \\right)^2 h^n ~~~~~ \\text{with} ~~~~~~ h = \\frac{(a - b)^2}{(a+b)^2}$$\n",
    "\n",
    "where $\\left(\\begin{aligned} 0.5 \\\\ n~~ \\end{aligned} \\right)$ is the binomial coefficient which can be computed via a `scipy` function.  Write a function to compute this series to a point where the difference between the partial sums is less than $\\epsilon_{\\text{machine}}$."
   ]
  },
  {
   "cell_type": "code",
   "execution_count": 106,
   "id": "f77fb55f",
   "metadata": {
    "deletable": false,
    "nbgrader": {
     "cell_type": "code",
     "checksum": "bde794ce5c45dbce8206a64826e2ca92",
     "grade": false,
     "grade_id": "A6-a",
     "locked": false,
     "schema_version": 3,
     "solution": true
    }
   },
   "outputs": [],
   "source": [
    "def S_exact(a, b):\n",
    "    # YOUR CODE HERE\n",
    "    # https://www.imsc.res.in/~rao/ramanujan/CamUnivCpapers/Cpaper6/page1.htm\n",
    "    \n",
    "    h = (a - b)**2 / (a + b)**2 \n",
    "    sum = 0\n",
    "    for n in range(100):\n",
    "        sum1 = scipy.special.binom(0.5, n)**2 * h**n \n",
    "        sum += sum1\n",
    "        if(abs(numpy.pi * (a + b) * sum1) < numpy.finfo(float).eps):\n",
    "            break\n",
    "    S = numpy.pi * (a + b) * sum\n",
    "    \n",
    "    return S"
   ]
  },
  {
   "cell_type": "code",
   "execution_count": 107,
   "id": "e6a9d67c",
   "metadata": {
    "deletable": false,
    "editable": false,
    "nbgrader": {
     "cell_type": "code",
     "checksum": "aa48d64a8de1a719366ea71dbd1dc26a",
     "grade": true,
     "grade_id": "T6-a",
     "locked": true,
     "points": 10,
     "schema_version": 3,
     "solution": false
    }
   },
   "outputs": [
    {
     "name": "stdout",
     "output_type": "stream",
     "text": [
      "Success!\n"
     ]
    }
   ],
   "source": [
    "def S_approx(a, b):\n",
    "    \"\"\"Approximate the circumference of an ellipse specified by a and b\n",
    "    \n",
    "    This approximation is h^5 order accurate and based on the work of Ramanujan [1]\n",
    "    \n",
    "    1. Ramanujan, Srinivasa, (1914). \"Modular Equations and Approximations to \\pi\". Quart. J. Pure App. Math. 45: 350-372.\n",
    "    \"\"\"\n",
    "    h = (a - b)**2 / (a + b)**2\n",
    "    return numpy.pi * (a + b) * (1.0 + (3.0 * h)/ (10.0 + numpy.sqrt(4.0 - 3.0 * h)))\n",
    "\n",
    "\n",
    "a = 1.0\n",
    "b = 2.0\n",
    "numpy.testing.assert_allclose(S_exact(a, b), S_approx(a, b))\n",
    "print(\"Success!\")"
   ]
  },
  {
   "cell_type": "markdown",
   "id": "17597c82",
   "metadata": {
    "deletable": false,
    "editable": false,
    "nbgrader": {
     "cell_type": "markdown",
     "checksum": "c242468b4b36cc22f72d35527e31fba2",
     "grade": false,
     "grade_id": "Q6-b",
     "locked": true,
     "schema_version": 3,
     "solution": false
    }
   },
   "source": [
    "**(b)** [10] Derive an expression for the integrand, implicit differentiation may be useful."
   ]
  },
  {
   "cell_type": "markdown",
   "id": "7863cec3",
   "metadata": {
    "deletable": false,
    "nbgrader": {
     "cell_type": "markdown",
     "checksum": "f0b6438a4f29723e2790d60de0b7f0e7",
     "grade": true,
     "grade_id": "A6-b",
     "locked": false,
     "points": 10,
     "schema_version": 3,
     "solution": true
    }
   },
   "source": [
    "YOUR ANSWER HERE\n",
    "\n",
    "Starting with the equation $\\dfrac{x^2}{a^2} + \\dfrac{y^2}{b^2} = 1$, differentiating both sides gives us:\n",
    "\n",
    "\\begin{equation}\n",
    "\\begin{split}\n",
    "    \\frac{d(\\frac{x^2}{a^2})}{dx} + \\frac{d(\\frac{y^2}{b^2})}{dx} &= 0 \\\\\n",
    "    \\frac{2x}{a^2} + \\frac{(\\frac{y^2}{b^2})}{dy} \\frac{dy}{dx} &= 0 \\\\\n",
    "    \\frac{2x}{a^2} + \\frac{2y}{b^2} \\frac{dy}{dx} &= 0 \\\\\n",
    "    \\frac{dy}{dx} = \\frac{-xb^2}{ya^2} \\\\\n",
    "    dy = - \\frac{xb^2}{ya^2}dx \\\\\n",
    "\\end{split}\n",
    "\\end{equation}\n",
    "\n",
    "Since $y = \\pm \\sqrt{1 - \\dfrac{x^2}{a^2}} \\cdot b$, \n",
    "\n",
    "\\begin{equation}\n",
    "\\begin{split}\n",
    "    dy = \\pm \\frac{xb}{\\sqrt{a^2 - x^2} \\cdot a} dx \\\\\n",
    "\\end{split}\n",
    "\\end{equation}\n",
    "\n",
    "Plugging back into $S = 2 \\int^a_{-a} \\sqrt{1 + (\\text{d}y/\\text{d}x)^2} dx$, solving $S$ in terms of $a$ gives us  \n",
    "\n",
    "\\begin{equation}\n",
    "\\begin{split}\n",
    "    S = 2 \\int^a_{-a} \\sqrt{\\frac{a^4 - a^2x^2 + b^2x^2}{a^4 - a^2x^2}} dx\n",
    "\\end{split}\n",
    "\\end{equation}"
   ]
  },
  {
   "cell_type": "markdown",
   "id": "71d3a37b",
   "metadata": {
    "deletable": false,
    "editable": false,
    "nbgrader": {
     "cell_type": "markdown",
     "checksum": "9f12cf44e6a41f7e2694991a83046014",
     "grade": false,
     "grade_id": "Q6-c",
     "locked": true,
     "schema_version": 3,
     "solution": false
    }
   },
   "source": [
    "**(c)** [20] Finally, write a function that computes the integral to a given tolerance.  Note that this may converge very slowly so use a high enough order quadrature rule so that the computation takes less than a minute to do (this will result in an error otherwise).  If the integration does not succeed raise a `ValueError`."
   ]
  },
  {
   "cell_type": "code",
   "execution_count": 119,
   "id": "d2188504",
   "metadata": {
    "deletable": false,
    "nbgrader": {
     "cell_type": "code",
     "checksum": "b7efdccea4863c0fb69d01ef1bcacfdd",
     "grade": false,
     "grade_id": "A6-c",
     "locked": false,
     "schema_version": 3,
     "solution": true
    }
   },
   "outputs": [],
   "source": [
    "# Code based on examples from Quadrature Lecture Notes (Trapezoidal)\n",
    "# https://github.com/mandli/intro-numerical-methods/blob/master/08_quadrature.ipynb\n",
    "\n",
    "def ellipse_circumference(a, b, tolerance):\n",
    "    # YOUR CODE HERE\n",
    "    f = lambda x: numpy.sqrt(((a**4) * (1 - x**2) + (a**2) * (b**2) * (x**2)) / ((a**2) * (1 - x**2)))\n",
    "    S_exact = lambda a, b: 4 * a * scipy.special.ellipe(1 - b**2 / a**2)\n",
    "    \n",
    "    num_partitions = 800\n",
    "    x_hat = numpy.linspace(-1, 1, num_partitions + 1)\n",
    "    delta_x = x_hat[1] - x_hat[0]\n",
    "    \n",
    "    xi_map = lambda a, b, xi : (b - a) / 2.0 * xi + (a + b) / 2.0\n",
    "    xi0 = -numpy.sqrt(1.0 / 3.0)\n",
    "    xi1 =  numpy.sqrt(1.0 / 3.0)\n",
    "    \n",
    "    Qf = numpy.zeros(x_hat.shape)\n",
    "    Qf[0] = ( f(xi_map(x_hat[0], x_hat[1], xi0)) + f(xi_map(x_hat[0], x_hat[1], xi1)) ) * delta_x / 2.0\n",
    "    \n",
    "    for i in range(1, num_partitions):\n",
    "        Qf[i] = Qf[i - 1] + (f(xi_map(x_hat[i], x_hat[i+1], xi0)) + f(xi_map(x_hat[i], x_hat[i+1], xi1))) * delta_x / 2.0\n",
    "        if(numpy.abs(S_exact(a,b) - 2 * Qf[i]) < tolerance):\n",
    "            break\n",
    "    \n",
    "    S = 2 * Qf[i]\n",
    "    return S"
   ]
  },
  {
   "cell_type": "code",
   "execution_count": 120,
   "id": "ace13edb",
   "metadata": {
    "deletable": false,
    "editable": false,
    "nbgrader": {
     "cell_type": "code",
     "checksum": "d009cdae8913766421377b5b1b772a4f",
     "grade": true,
     "grade_id": "T6-c",
     "locked": true,
     "points": 20,
     "schema_version": 3,
     "solution": false
    }
   },
   "outputs": [
    {
     "name": "stdout",
     "output_type": "stream",
     "text": [
      "Success!\n"
     ]
    }
   ],
   "source": [
    "a = 1.0\n",
    "b = 2.0\n",
    "numpy.testing.assert_allclose(ellipse_circumference(a, b, 1e-1), S_approx(a, b), atol=1e-1)\n",
    "print(\"Success!\")"
   ]
  },
  {
   "cell_type": "code",
   "execution_count": null,
   "id": "217c377f",
   "metadata": {},
   "outputs": [],
   "source": []
  }
 ],
 "metadata": {
  "kernelspec": {
   "display_name": "Python 3",
   "language": "python",
   "name": "python3"
  },
  "language_info": {
   "codemirror_mode": {
    "name": "ipython",
    "version": 3
   },
   "file_extension": ".py",
   "mimetype": "text/x-python",
   "name": "python",
   "nbconvert_exporter": "python",
   "pygments_lexer": "ipython3",
   "version": "3.8.8"
  },
  "latex_envs": {
   "bibliofile": "biblio.bib",
   "cite_by": "apalike",
   "current_citInitial": 1,
   "eqLabelWithNumbers": true,
   "eqNumInitial": 0
  }
 },
 "nbformat": 4,
 "nbformat_minor": 5
}
