{
 "cells": [
  {
   "cell_type": "markdown",
   "id": "3433b920",
   "metadata": {},
   "source": [
    "Before you turn this problem in, make sure everything runs as expected. First, restart the kernel (in the menubar, select Kernel $\\rightarrow$ Restart) and then run all cells (in the menubar, select Cell $\\rightarrow$ Run All).\n",
    "\n",
    "Make sure you fill in any place that says YOUR CODE HERE or \"YOUR ANSWER HERE\", as well as your name and collaborators below:\n",
    "\n",
    "Name: Kayla Kim \n",
    "Collaborators: Natalia Forero, Ananya Gandhi "
   ]
  },
  {
   "cell_type": "code",
   "execution_count": 3,
   "id": "08917e43",
   "metadata": {},
   "outputs": [],
   "source": [
    "%matplotlib inline\n",
    "%precision 16\n",
    "import numpy\n",
    "import matplotlib.pyplot as plt"
   ]
  },
  {
   "cell_type": "markdown",
   "id": "3e253256",
   "metadata": {
    "deletable": false,
    "editable": false,
    "nbgrader": {
     "cell_type": "markdown",
     "checksum": "501a1c819b64d93a63daffcf5dd3d042",
     "grade": false,
     "grade_id": "cell-3336298175051145",
     "locked": true,
     "schema_version": 3,
     "solution": false
    }
   },
   "source": [
    "Before you turn this problem in, make sure everything runs as expected. First, restart the kernel (in the menubar, select Kernel $\\rightarrow$ Restart) and then run all cells (in the menubar, select Cell $\\rightarrow$ Run All).\n",
    "\n",
    "Make sure you fill in any place that says YOUR CODE HERE or \"YOUR ANSWER HERE\", as well as your name and collaborators below:"
   ]
  },
  {
   "cell_type": "markdown",
   "id": "ad6647ca",
   "metadata": {
    "deletable": false,
    "editable": false,
    "nbgrader": {
     "cell_type": "markdown",
     "checksum": "fcf3b2b91a8f7b24d4600bfa299d76bf",
     "grade": false,
     "grade_id": "cell-8922434501433849",
     "locked": true,
     "schema_version": 3,
     "solution": false
    }
   },
   "source": [
    "# HW 5:  Numerical Differentiation and Quadrature"
   ]
  },
  {
   "cell_type": "markdown",
   "id": "92140a0b",
   "metadata": {
    "deletable": false,
    "editable": false,
    "nbgrader": {
     "cell_type": "markdown",
     "checksum": "0cb80782496bbb377e600c508305acf4",
     "grade": false,
     "grade_id": "cell-3dd132bf19336aa2",
     "locked": true,
     "schema_version": 3,
     "solution": false
    }
   },
   "source": [
    "## Question 1 - Fundamental Theorem of Calculus"
   ]
  },
  {
   "cell_type": "markdown",
   "id": "ea15d039",
   "metadata": {
    "deletable": false,
    "editable": false,
    "nbgrader": {
     "cell_type": "markdown",
     "checksum": "213c66327c6e028d34375e660f60d191",
     "grade": false,
     "grade_id": "cell-4786948169516101",
     "locked": true,
     "schema_version": 3,
     "solution": false
    }
   },
   "source": [
    "**(a)** [10] Write a function that computes the integral of the derivative \n",
    "\n",
    "$$I[f] = \\int^x_0 f'(s) ds$$\n",
    "\n",
    "and returns the error from the expected calculation.  Use a second order accurate centered difference scheme and then a left-hand rule to compute the absolute error.  In this case the left-hand quadrature is\n",
    "\n",
    "$$Q[f] = f(x_i) \\Delta x$$\n",
    "\n",
    "The function should take in $x$ values and the function $f(x)$ and return a vector of the **errors** for each value $x$ given."
   ]
  },
  {
   "cell_type": "code",
   "execution_count": 6,
   "id": "3f038113",
   "metadata": {
    "deletable": false,
    "nbgrader": {
     "cell_type": "code",
     "checksum": "b1a168b01a26cea27781fe894d5391a9",
     "grade": false,
     "grade_id": "cell-491150310177092",
     "locked": false,
     "schema_version": 3,
     "solution": true
    }
   },
   "outputs": [],
   "source": [
    "def int_diff_error(x, f):\n",
    "    # YOUR CODE HERE\n",
    "    deltax = x[1] - x[0] \n",
    "    fprime = numpy.empty(x.shape)\n",
    "    fprime[1: -1] = ( f(x[2:]) - f(x[:-2]) ) / (2 * deltax)\n",
    "    fprime[0] = (f(x[1]) - f(x[0]) ) / deltax\n",
    "    fprime[-1] = (f(x[-1]) - f(x[-2]) ) / deltax\n",
    "    Qf = numpy.zeros(x.shape)\n",
    "    Qf[0] = fprime[0] * deltax\n",
    "    for i in range(1, numpy.size(x)):\n",
    "        Qf[i] = Qf[i-1] + fprime[i] * deltax\n",
    "    error = abs(Qf - (f(x) - 1.))\n",
    "    return error"
   ]
  },
  {
   "cell_type": "code",
   "execution_count": 7,
   "id": "cba5a18c",
   "metadata": {
    "deletable": false,
    "editable": false,
    "nbgrader": {
     "cell_type": "code",
     "checksum": "6d72bbf9029cbdf2ffdfce574e5d799b",
     "grade": true,
     "grade_id": "cell-5849927575491632",
     "locked": true,
     "points": 10,
     "schema_version": 3,
     "solution": false
    }
   },
   "outputs": [
    {
     "name": "stdout",
     "output_type": "stream",
     "text": [
      "0.006707859736810928\n",
      "Successful FTC evaluation.\n"
     ]
    }
   ],
   "source": [
    "f = lambda x: 1.0 / (1.0 + 100.0 * x**2)\n",
    "x = numpy.linspace(0.0, 1.0, 500)\n",
    "print(numpy.max(int_diff_error(x, f)))\n",
    "numpy.testing.assert_allclose(int_diff_error(x, f), numpy.zeros(500), atol=1e-2)\n",
    "print(\"Successful FTC evaluation.\")"
   ]
  },
  {
   "cell_type": "markdown",
   "id": "5003155f",
   "metadata": {
    "deletable": false,
    "editable": false,
    "nbgrader": {
     "cell_type": "markdown",
     "checksum": "f87a04a23dfceda35de3e2ea5d1eb3f4",
     "grade": false,
     "grade_id": "cell-398741922450368",
     "locked": true,
     "schema_version": 3,
     "solution": false
    }
   },
   "source": [
    "**(b)** [10] Compute the same as above except reverse the order of the operations, i.e.\n",
    "\n",
    "$$D[f] = \\frac{\\text{d}}{\\text{d}x} \\int^x_0 f(s) ds$$\n"
   ]
  },
  {
   "cell_type": "code",
   "execution_count": 10,
   "id": "a530433a",
   "metadata": {
    "deletable": false,
    "nbgrader": {
     "cell_type": "code",
     "checksum": "f404f7d6673d1bd3ae49398655146b98",
     "grade": false,
     "grade_id": "cell-2858462487069013",
     "locked": false,
     "schema_version": 3,
     "solution": true
    }
   },
   "outputs": [],
   "source": [
    "def diff_int_error(x, f):\n",
    "    # YOUR CODE HERE\n",
    "    Qf = numpy.zeros(x.shape)\n",
    "    deltax = x[1] - x[0]\n",
    "    Qf[0] = f(x[0]) * deltax \n",
    "    for i in range(1, numpy.size(x)):\n",
    "        Qf[i] = Qf[i-1] + f(x[i]) * deltax \n",
    "    fprime = numpy.empty(x.shape) \n",
    "    fprime[1:-1] = (Qf[2:] - Qf[:-2]) / (2 * deltax)\n",
    "    fprime[0] = (Qf[1] - Qf[0]) / deltax\n",
    "    fprime[-1] = (Qf[-1] - Qf[-2])/ deltax \n",
    "    error = abs(fprime-f(x))\n",
    "    return error"
   ]
  },
  {
   "cell_type": "code",
   "execution_count": 11,
   "id": "6e683216",
   "metadata": {
    "deletable": false,
    "editable": false,
    "nbgrader": {
     "cell_type": "code",
     "checksum": "b640afe1e89308c99ff448f7d088ea77",
     "grade": true,
     "grade_id": "cell-9269759256102392",
     "locked": true,
     "points": 10,
     "schema_version": 3,
     "solution": false
    }
   },
   "outputs": [
    {
     "name": "stdout",
     "output_type": "stream",
     "text": [
      "0.006507137941233254\n",
      "Successful FTC evaluation.\n"
     ]
    }
   ],
   "source": [
    "f = lambda x: 1.0 / (1.0 + 100.0 * x**2)\n",
    "x = numpy.linspace(0.0, 1.0, 500)\n",
    "print(numpy.max(diff_int_error(x, f)))\n",
    "numpy.testing.assert_allclose(diff_int_error(x, f), numpy.zeros(500), atol=1e-2)\n",
    "print(\"Successful FTC evaluation.\")"
   ]
  },
  {
   "cell_type": "markdown",
   "id": "a0ad02be",
   "metadata": {
    "deletable": false,
    "editable": false,
    "nbgrader": {
     "cell_type": "markdown",
     "checksum": "d5a6be351add52398f2ca8c0bd30b3ac",
     "grade": false,
     "grade_id": "cell-4823234321128257",
     "locked": true,
     "schema_version": 3,
     "solution": false
    }
   },
   "source": [
    "**(c)** [5] Plot the convergence rate for the number of partitions `N = [10,100,200,300,400,500]` on a `loglog` plot by computing the norm over the error given for each $N$ by using the `numpy.linalg.norm` command with `ord=numpy.infty` vs. the $\\Delta x$ used.  Theorize about what you observe regarding the order of convergence."
   ]
  },
  {
   "cell_type": "markdown",
   "id": "64e094bb",
   "metadata": {
    "deletable": false,
    "nbgrader": {
     "cell_type": "markdown",
     "checksum": "a85fe7f59c2387591e4923af032a9f9f",
     "grade": true,
     "grade_id": "cell-3078294713448626",
     "locked": false,
     "points": 1,
     "schema_version": 3,
     "solution": true
    }
   },
   "source": [
    "YOUR ANSWER HERE"
   ]
  },
  {
   "cell_type": "code",
   "execution_count": 17,
   "id": "0d66d849",
   "metadata": {
    "deletable": false,
    "nbgrader": {
     "cell_type": "code",
     "checksum": "3a70a655c05f0733252b89434fcf4627",
     "grade": true,
     "grade_id": "cell-3749304040102472",
     "locked": false,
     "points": 4,
     "schema_version": 3,
     "solution": true
    }
   },
   "outputs": [
    {
     "data": {
      "text/plain": [
       "<matplotlib.legend.Legend at 0x7f39a1fc7280>"
      ]
     },
     "execution_count": 17,
     "metadata": {},
     "output_type": "execute_result"
    },
    {
     "data": {
      "image/png": "[encoded data removed]",
      "text/plain": [
       "<Figure size 1152x720 with 1 Axes>"
      ]
     },
     "metadata": {
      "needs_background": "light"
     },
     "output_type": "display_data"
    }
   ],
   "source": [
    "# YOUR CODE HERE\n",
    "N = [10,100,200,300,400,500]\n",
    "f = lambda x: 1.0 / (1.0 + 100.0 * x**2)\n",
    "differror = []\n",
    "interror = []\n",
    "deltax = []\n",
    "\n",
    "for i in range(numpy.size(N)):\n",
    "    x = numpy.linspace(0., 1., N[i])\n",
    "    deltax.append(x[1] - x[0])\n",
    "    differror.append(numpy.linalg.norm(numpy.abs(diff_int_error(x, f)), ord=2))\n",
    "    interror.append(numpy.linalg.norm(numpy.abs(int_diff_error(x, f)), ord=2))\n",
    "\n",
    "differror = numpy.array(differror)\n",
    "interror = numpy.array(interror)\n",
    "\n",
    "fig = plt.figure(figsize = (16,10))\n",
    "plt.loglog(deltax,interror,\"bo\",label=\"Integeral Error\")\n",
    "plt.loglog(deltax,differror,\"ro\",label=\"Differentiation Error\")\n",
    "orderC = lambda deltax, differror, order: numpy.exp(numpy.log(differror) - order * numpy.log(deltax))\n",
    "plt.loglog(deltax, orderC(deltax[0], interror[0], 0.8) * numpy.power(deltax,0.8), 'b', label=\"0.8nd Order\")\n",
    "plt.loglog(deltax, orderC(deltax[0], differror[0], 0.65) * numpy.power(deltax,0.65), 'r', label=\"0.65st Order\")\n",
    "plt.xlabel(\"$\\Delta x$\")\n",
    "plt.title(\"Errors for $I_c$\")\n",
    "plt.legend(loc=4)"
   ]
  },
  {
   "cell_type": "markdown",
   "id": "6c725b8c",
   "metadata": {
    "deletable": false,
    "editable": false,
    "nbgrader": {
     "cell_type": "markdown",
     "checksum": "8585667a0ae57d0e5435ec44eaec137c",
     "grade": false,
     "grade_id": "cell-7913098871853593",
     "locked": true,
     "schema_version": 3,
     "solution": false
    }
   },
   "source": [
    "## Question 2 - Quadrature\n",
    "\n",
    "Consider the scaled Fresnel integrals\n",
    "\n",
    "$$I_c = \\int^1_0 \\frac{\\cos x}{\\sqrt{x}} dx~~~~\\text{and}~~~~I_s = \\int^1_0 \\frac{\\sin x}{\\sqrt{x}} dx$$\n",
    "\n",
    "which have values\n",
    "\n",
    "$$I_c = \\sqrt{2 \\pi} \\cdot C\\left(\\sqrt{\\frac{2}{\\pi}}\\right) \\approx 1.8090484758005438$$\n",
    "\n",
    "$$I_s = \\sqrt{2 \\pi} \\cdot S\\left(\\sqrt{\\frac{2}{\\pi}}\\right) \\approx 0.62053660344676231$$\n",
    "\n",
    "where the functions $C(x)$ and $S(x)$ can be evaluated by `scipy.special.fresnel`."
   ]
  },
  {
   "cell_type": "markdown",
   "id": "5173206b",
   "metadata": {
    "deletable": false,
    "editable": false,
    "nbgrader": {
     "cell_type": "markdown",
     "checksum": "222f7d5236736b8a0776cb02ca1df5b4",
     "grade": false,
     "grade_id": "cell-8ebcf647bbb397eb",
     "locked": true,
     "schema_version": 3,
     "solution": false
    }
   },
   "source": [
    "**(a)** [2] Where do you imagine the problematic points of the integrals will be?"
   ]
  },
  {
   "cell_type": "markdown",
   "id": "89b61165",
   "metadata": {
    "deletable": false,
    "nbgrader": {
     "cell_type": "markdown",
     "checksum": "43f6c40a1d1510407671a7fd52b23b89",
     "grade": true,
     "grade_id": "cell-52b455a70eeda752",
     "locked": false,
     "points": 2,
     "schema_version": 3,
     "solution": true
    }
   },
   "source": [
    "YOUR ANSWER HERE\n",
    "\n",
    "The problematic points would be when the integrals approach infinity, which is 0. Therefore the problematic points for both integrals would be 0. "
   ]
  },
  {
   "cell_type": "markdown",
   "id": "007d4898",
   "metadata": {
    "deletable": false,
    "editable": false,
    "nbgrader": {
     "cell_type": "markdown",
     "checksum": "e91477ff64d2281616f1f4fb941aa844",
     "grade": false,
     "grade_id": "cell-1280863455188854",
     "locked": true,
     "schema_version": 3,
     "solution": false
    }
   },
   "source": [
    "**(b)** [10] Write a function that computes both integrals using the  trapezoidal rule with N partitions of equal length \"ignoring\" the singularity at $x=0$ by setting integrands to 0."
   ]
  },
  {
   "cell_type": "code",
   "execution_count": 29,
   "id": "eb20b9b1",
   "metadata": {
    "deletable": false,
    "nbgrader": {
     "cell_type": "code",
     "checksum": "921348b4de8f2db107b9480d6d9e7072",
     "grade": false,
     "grade_id": "cell-5673490144983784",
     "locked": false,
     "schema_version": 3,
     "solution": true
    }
   },
   "outputs": [],
   "source": [
    "def trap_1(N):\n",
    "    # YOUR CODE HERE \n",
    "    x = numpy.linspace(0., 1., N+1)\n",
    "    deltax = x[1] - x[0] \n",
    "    \n",
    "    fs = lambda x: numpy.sin(x) / numpy.sqrt(x)\n",
    "    fc = lambda x: numpy.cos(x) / numpy.sqrt(x) \n",
    "    \n",
    "    Qs = numpy.zeros(N)\n",
    "    Qs[0] = fs(x[1]) * deltax / 2.\n",
    "    for i in range(1, N):\n",
    "        Qs[i] = Qs[i-1] + (fs(x[i+1]) + fs(x[i])) * deltax /2.\n",
    "    \n",
    "    Qc = numpy.zeros(N) \n",
    "    Qc[0] = fc(x[1]) * deltax / 2.\n",
    "    for i in range(1, N):\n",
    "        Qc[i] = Qc[i-1] + (fc(x[i+1]) + fc(x[i])) * deltax /2. \n",
    "    \n",
    "    Is = Qs[N-1]\n",
    "    Ic = Qc[N-1]\n",
    "    \n",
    "    return Is, Ic"
   ]
  },
  {
   "cell_type": "code",
   "execution_count": 30,
   "id": "c3b36100",
   "metadata": {
    "deletable": false,
    "editable": false,
    "nbgrader": {
     "cell_type": "code",
     "checksum": "2f5be43f80bfd1925375d176c460e044",
     "grade": true,
     "grade_id": "cell-4769111180699037",
     "locked": true,
     "points": 10,
     "schema_version": 3,
     "solution": false
    }
   },
   "outputs": [
    {
     "name": "stdout",
     "output_type": "stream",
     "text": [
      "Error: 7.324979502931761e-05\n",
      "Computed the integrals correctly using the trapezoidal rule only.\n"
     ]
    }
   ],
   "source": [
    "import scipy.special\n",
    "Is, Ic = scipy.special.fresnel(numpy.sqrt(2.0 / numpy.pi))\n",
    "Is *= numpy.sqrt(2.0 * numpy.pi)\n",
    "Ic *= numpy.sqrt(2.0 * numpy.pi)\n",
    "Is_hat, Ic_hat = trap_1(200)\n",
    "error = numpy.abs(Is_hat - Is)\n",
    "print(\"Error: %s\" % error)\n",
    "numpy.testing.assert_allclose(error, 0.0, atol=1e-4)\n",
    "print(\"Computed the integrals correctly using the trapezoidal rule only.\")"
   ]
  },
  {
   "cell_type": "markdown",
   "id": "45ae121d",
   "metadata": {
    "deletable": false,
    "editable": false,
    "nbgrader": {
     "cell_type": "markdown",
     "checksum": "52c28c7b0c5b19816662713d3fa7af41",
     "grade": false,
     "grade_id": "cell-4978686228436492",
     "locked": true,
     "schema_version": 3,
     "solution": false
    }
   },
   "source": [
    "**(c)** [10] A weighted Newton-Cotes quadrature rule is a modification of our version of Newton-Cotes quadrature except that we also multiply by a weighting function.  This can be useful in situations such as the one we have found ourselves in.  Consider the integral\n",
    "$$\n",
    "    \\int^{x_{i+1}}_{x_i} \\frac{f(x)}{\\sqrt{x}} dx\n",
    "$$\n",
    "where here the weighting function is $x^{-1/2}$.  Say we wanted to approximate this integral by approximating $f(x)$ as a linear polynomial interpolant.  Find the resulting quadrature rule for approximating the weighted integral."
   ]
  },
  {
   "cell_type": "markdown",
   "id": "359e9419",
   "metadata": {
    "deletable": false,
    "nbgrader": {
     "cell_type": "markdown",
     "checksum": "df6b70e9c2472708ae4ab7c0ec488e90",
     "grade": true,
     "grade_id": "cell-497868628436492",
     "locked": false,
     "points": 0,
     "schema_version": 3,
     "solution": true
    }
   },
   "source": [
    "YOUR ANSWER HERE\n",
    "\n",
    "Reference: 08_quadrature notes \n",
    "\n",
    "The coefficients of the polynomial in each interval are \n",
    "$$p_0 = f(x_i) \\quad \\quad p_1 = \\frac{f(x_{i+1}) - f(x_i)}{x_{i+1} - x_i}$$\n",
    "\n",
    "which gives the interpolating polynomial\n",
    "\n",
    "$$p_1(x) = \\frac{f(x_{i+1}) - f(x_i)}{x_{i+1} - x_i} ( x- x_i) + f(x_i)$$\n",
    "\n",
    "\n",
    "Integrating this polynomial we have\n",
    "\n",
    "$$I_N[f] = \\int^{x_{i+1}}_{x_i} x^{-1/2}(p_0 + p_1 (x - x_i)) dx \\\\\n",
    "= 2 p_0 x^{1/2} + \\dfrac{2}{3}p_1 x^{3/2} - 2p_1x_ix^{1/2} dx |^{x_{i+1}}_{x_i} $$\n",
    "\n",
    "plugging in $p_o = f(x_i), p_i = \\dfrac{f(x_{i+1} - f(x_i)}{x_{i+1}-x_{i}}, and solving, we find that we get \n",
    "\n",
    "$$\n",
    "    \\int^{x_{i+1}}_{x_i} \\frac{f(x)}{\\sqrt{x}} dx \\approx \\dfrac{2}{3}(2f(x_i) + f(x_{i+1}))\n",
    "$$"
   ]
  },
  {
   "cell_type": "markdown",
   "id": "9d59ee68",
   "metadata": {
    "deletable": false,
    "editable": false,
    "nbgrader": {
     "cell_type": "markdown",
     "checksum": "61965e714ca91f2b79d176fa039b9a82",
     "grade": false,
     "grade_id": "cell-cf6b9a94eb0b6a5f",
     "locked": true,
     "schema_version": 3,
     "solution": false
    }
   },
   "source": [
    "**(d)** Use part (c) and evaluate only the first partition $[0, \\Delta x]$ using that quadrature and use trapezoid rule for the rest of the partitions."
   ]
  },
  {
   "cell_type": "code",
   "execution_count": 31,
   "id": "4f2f7509",
   "metadata": {
    "deletable": false,
    "nbgrader": {
     "cell_type": "code",
     "checksum": "dad716e1fca86631fdd8fd9df34de6af",
     "grade": false,
     "grade_id": "cell-3325603703235502",
     "locked": false,
     "schema_version": 3,
     "solution": true
    }
   },
   "outputs": [],
   "source": [
    "def trap_wnc(N):\n",
    "    # YOUR CODE HERE\n",
    "    x = numpy.linspace(0., 1., N+1)\n",
    "    deltax = x[1] - x[0] \n",
    "    \n",
    "    fs = lambda x: numpy.sin(x) / numpy.sqrt(x) \n",
    "    fc = lambda x: numpy.cos(x) / numpy.sqrt(x) \n",
    "    \n",
    "    Qs = numpy.zeros(N)\n",
    "    Qs[0] = fs(x[1]) * deltax * 2 / 3\n",
    "    for i in range(1, N):\n",
    "        Qs[i] = Qs[i-1] + (fs(x[i+1]) + fs(x[i])) * deltax / 2.\n",
    "        \n",
    "    Qc = numpy.zeros(N) \n",
    "    Qc[0] = fc(x[1]) * deltax * 2 / 3\n",
    "    for i in range(1, N):\n",
    "        Qc[i] = Qc[i-1] + (fc(x[i+1]) + fc(x[i])) * deltax / 2. \n",
    "    \n",
    "    Is = Qs[N-1]\n",
    "    Ic = Qc[N-1]\n",
    "    \n",
    "    return Is, Ic"
   ]
  },
  {
   "cell_type": "code",
   "execution_count": 32,
   "id": "051672a7",
   "metadata": {
    "deletable": false,
    "editable": false,
    "nbgrader": {
     "cell_type": "code",
     "checksum": "b17a01c91fbf750f5531305b29842a98",
     "grade": true,
     "grade_id": "cell-226151874510702",
     "locked": true,
     "points": 10,
     "schema_version": 3,
     "solution": false
    }
   },
   "outputs": [
    {
     "name": "stdout",
     "output_type": "stream",
     "text": [
      "Error: 1.4324475453353358e-05\n",
      "Computed the integrals correctly using the trapezoidal and Newton-Cotes rules.\n"
     ]
    }
   ],
   "source": [
    "import scipy.special\n",
    "Is, Ic = scipy.special.fresnel(numpy.sqrt(2.0 / numpy.pi))\n",
    "Is *= numpy.sqrt(2.0 * numpy.pi)\n",
    "Ic *= numpy.sqrt(2.0 * numpy.pi)\n",
    "Is_hat, Ic_hat = trap_wnc(200)\n",
    "error = numpy.abs(Is_hat - Is)\n",
    "print(\"Error: %s\" % error)\n",
    "numpy.testing.assert_allclose(error, 0.0, atol=1e-4)\n",
    "print(\"Computed the integrals correctly using the trapezoidal and Newton-Cotes rules.\")"
   ]
  },
  {
   "cell_type": "markdown",
   "id": "7107bcbf",
   "metadata": {
    "deletable": false,
    "editable": false,
    "nbgrader": {
     "cell_type": "markdown",
     "checksum": "05036761682cd126ee464690fcf8a6b3",
     "grade": false,
     "grade_id": "cell-8870847314167314",
     "locked": true,
     "schema_version": 3,
     "solution": false
    }
   },
   "source": [
    "**(e)** [5] Do a change of variables $x = t^2$ and evaluate each integral using the trapezoidal rule for the entire domain."
   ]
  },
  {
   "cell_type": "code",
   "execution_count": 35,
   "id": "fecfcc6a",
   "metadata": {
    "deletable": false,
    "nbgrader": {
     "cell_type": "code",
     "checksum": "137f55ec0119ab1ea534fa717eb0f673",
     "grade": false,
     "grade_id": "cell-7736129930158757",
     "locked": false,
     "schema_version": 3,
     "solution": true
    }
   },
   "outputs": [],
   "source": [
    "def trap_transformed(N):\n",
    "    # YOUR CODE HERE\n",
    "    t = numpy.linspace(0., 1., N+1)\n",
    "    deltax = t[1] - t[0] \n",
    "        \n",
    "    fs = lambda t: 2 * numpy.sin(t*t)\n",
    "    fc = lambda t: 2 * numpy.cos(t*t)\n",
    "    \n",
    "    Qs = numpy.zeros(N)\n",
    "    Qs[0] = (fs(t[1]) + fs(t[0])) * deltax / 2.\n",
    "    for i in range(1, N):\n",
    "        Qs[i] = Qs[i-1] + (fs(t[i+1]) + fs(t[i])) * deltax / 2.\n",
    "    \n",
    "    Qc = numpy.zeros(N)\n",
    "    Qc[0] = (fc(t[1]) + fc(t[0])) * deltax / 2.\n",
    "    for i in range(1, N):\n",
    "        Qc[i] = Qc[i-1] + (fc(t[i+1]) + fc(t[i])) * deltax / 2.\n",
    "    \n",
    "    Is = Qs[N-1]\n",
    "    Ic = Qc[N-1]\n",
    "    \n",
    "    return Is, Ic"
   ]
  },
  {
   "cell_type": "code",
   "execution_count": 36,
   "id": "7fe9cc2c",
   "metadata": {
    "deletable": false,
    "editable": false,
    "nbgrader": {
     "cell_type": "code",
     "checksum": "a6fc2b55b128c08eb7456d37ca5ce2f8",
     "grade": true,
     "grade_id": "cell-3154020715657228",
     "locked": true,
     "points": 5,
     "schema_version": 3,
     "solution": false
    }
   },
   "outputs": [
    {
     "name": "stdout",
     "output_type": "stream",
     "text": [
      "Error: 4.502544250550855e-06\n",
      "Computed the integrals correctly using the trapezoidal rule.\n"
     ]
    }
   ],
   "source": [
    "import scipy.special\n",
    "Is, Ic = scipy.special.fresnel(numpy.sqrt(2.0 / numpy.pi))\n",
    "Is *= numpy.sqrt(2.0 * numpy.pi)\n",
    "Ic *= numpy.sqrt(2.0 * numpy.pi)\n",
    "Is_hat, Ic_hat = trap_transformed(200)\n",
    "error = numpy.abs(Is_hat - Is)\n",
    "print(\"Error: %s\" % error)\n",
    "numpy.testing.assert_allclose(error, 0.0, atol=1e-5)\n",
    "print(\"Computed the integrals correctly using the trapezoidal rule.\")"
   ]
  },
  {
   "cell_type": "markdown",
   "id": "23c032d2",
   "metadata": {
    "deletable": false,
    "editable": false,
    "nbgrader": {
     "cell_type": "markdown",
     "checksum": "0bda5ba7744648084f5b2d902c0fa0d7",
     "grade": false,
     "grade_id": "cell-6494212708282626",
     "locked": true,
     "schema_version": 3,
     "solution": false
    }
   },
   "source": [
    "**(f)** [5] Do the same as in part (e) again using the transformation $x=t^2$ but use 3-point Gauss-Legendre quadrature for the approximation to the integral."
   ]
  },
  {
   "cell_type": "code",
   "execution_count": 50,
   "id": "80d0aafa",
   "metadata": {
    "deletable": false,
    "nbgrader": {
     "cell_type": "code",
     "checksum": "32ec8c214868f6a534bc62a4ec084de5",
     "grade": false,
     "grade_id": "cell-5621529377713954",
     "locked": false,
     "schema_version": 3,
     "solution": true
    }
   },
   "outputs": [],
   "source": [
    "def gauss_legendre_3(N):\n",
    "    # YOUR CODE HERE\n",
    "    \n",
    "    x = numpy.linspace(0., 1., N+1)\n",
    "    deltax = x[1] - x[0] \n",
    "        \n",
    "    fs = lambda x: 2 * numpy.sin(x*x)\n",
    "    fc = lambda x: 2 * numpy.cos(x*x)\n",
    "    \n",
    "    ximap = lambda a, b, xi: (b - a) / 2. * xi + (a + b) / 2.\n",
    "    xi = [-numpy.sqrt(3 / 5), 0, numpy.sqrt(3 / 5)]\n",
    "    w = [5 / 9, 8 / 9, 5 / 9]\n",
    "    \n",
    "    Qs = 0\n",
    "    for i in range(0, N):\n",
    "        for k in range(len(xi)):\n",
    "            Qs += fs(ximap(x[i], x[i+1], xi[k])) * w[k]\n",
    "    Qs *= deltax / 2\n",
    "    \n",
    "    Qc = 0\n",
    "    for i in range(0, N):\n",
    "        for k in range(len(xi)):\n",
    "            Qc += fc(ximap(x[i], x[i+1], xi[k])) * w[k]\n",
    "    Qc *= deltax / 2\n",
    "    \n",
    "    Is = Qs\n",
    "    Ic = Qc\n",
    "    \n",
    "    return Is, Ic"
   ]
  },
  {
   "cell_type": "code",
   "execution_count": 51,
   "id": "4600ac3a",
   "metadata": {
    "deletable": false,
    "editable": false,
    "nbgrader": {
     "cell_type": "code",
     "checksum": "04ac21769af6ce2affbccd4aeb8bcbaa",
     "grade": true,
     "grade_id": "cell-1113773998085106",
     "locked": true,
     "points": 5,
     "schema_version": 3,
     "solution": false
    }
   },
   "outputs": [
    {
     "name": "stdout",
     "output_type": "stream",
     "text": [
      "Error: 8.57062198988956e-11\n",
      "Computed the integrals correctly using the trapezoidal and Newton-Cotes rules.\n"
     ]
    }
   ],
   "source": [
    "import scipy.special\n",
    "Is, Ic = scipy.special.fresnel(numpy.sqrt(2.0 / numpy.pi))\n",
    "Is *= numpy.sqrt(2.0 * numpy.pi)\n",
    "Ic *= numpy.sqrt(2.0 * numpy.pi)\n",
    "Is_hat, Ic_hat = gauss_legendre_3(10)\n",
    "error = numpy.abs(Is_hat - Is)\n",
    "print(\"Error: %s\" % error)\n",
    "numpy.testing.assert_allclose(error, 0.0, atol=1e-10)\n",
    "print(\"Computed the integrals correctly using the trapezoidal and Newton-Cotes rules.\")"
   ]
  },
  {
   "cell_type": "markdown",
   "id": "166831be",
   "metadata": {
    "deletable": false,
    "editable": false,
    "nbgrader": {
     "cell_type": "markdown",
     "checksum": "b64ac0e3f74e31b99309b6f314f3e037",
     "grade": false,
     "grade_id": "cell-6575269031232667",
     "locked": true,
     "schema_version": 3,
     "solution": false
    }
   },
   "source": [
    "**(g)** [5] Check the order of accuracy for each of the methods above and plot these on a `loglog` plot with appropriate reference lines to indicate the order of each."
   ]
  },
  {
   "cell_type": "code",
   "execution_count": 92,
   "id": "68627028",
   "metadata": {},
   "outputs": [
    {
     "data": {
      "image/png": "[encoded data removed]",
      "text/plain": [
       "<Figure size 432x288 with 1 Axes>"
      ]
     },
     "metadata": {
      "needs_background": "light"
     },
     "output_type": "display_data"
    },
    {
     "data": {
      "image/png": "[encoded data removed]",
      "text/plain": [
       "<Figure size 432x288 with 1 Axes>"
      ]
     },
     "metadata": {
      "needs_background": "light"
     },
     "output_type": "display_data"
    }
   ],
   "source": [
    "# YOUR CODE HERE\n",
    "import scipy.special\n",
    "\n",
    "# Methods: trap, trap newton-cotes, trap transformed, 3 point gauss-legendre \n",
    "\n",
    "num_partitions = range(50, 1000, 50)\n",
    "delta_x = numpy.empty(len(num_partitions))\n",
    "\n",
    "error_trap_1_s = numpy.empty(len(num_partitions))\n",
    "error_trap_1_c = numpy.empty(len(num_partitions))\n",
    "\n",
    "error_trap_wnc_s = numpy.empty(len(num_partitions))\n",
    "error_trap_wnc_c = numpy.empty(len(num_partitions))\n",
    "\n",
    "error_trap_transformed_s = numpy.empty(len(num_partitions))\n",
    "error_trap_transformed_c = numpy.empty(len(num_partitions))\n",
    "\n",
    "error_gauss_legendre_3_s = numpy.empty(len(num_partitions))\n",
    "error_gauss_legendre_3_c = numpy.empty(len(num_partitions))\n",
    "\n",
    "Is, Ic = scipy.special.fresnel(numpy.sqrt(2 / numpy.pi))\n",
    "Is *= numpy.sqrt(2 * numpy.pi)\n",
    "Ic *= numpy.sqrt(2 * numpy.pi) \n",
    "\n",
    "for (j, N) in enumerate(num_partitions):\n",
    "    x_hat = numpy.linspace(0.0, 1.0, N + 1)\n",
    "    delta_x[j] = x_hat[1] - x_hat[0]\n",
    "    \n",
    "    # Compute trapezoidal \n",
    "    error_trap_1_s[j], error_trap_1_c[j] = trap_1(num_partitions[j])\n",
    "    error_trap_1_s[j] = abs(error_trap_1_s[j] - Is)\n",
    "    error_trap_1_c[j] = abs(error_trap_1_c[j] - Is)\n",
    "    \n",
    "    # Compute trapezoidal with newton cotes\n",
    "    error_trap_wnc_s[j], error_trap_wnc_c[j] = trap_wnc(num_partitions[j])\n",
    "    error_trap_wnc_s[j] = abs(error_trap_wnc_s[j] - Is)\n",
    "    error_trap_wnc_c[j] = abs(error_trap_wnc_c[j] - Is)\n",
    "\n",
    "    # Compute trapezoidal for transformed \n",
    "    error_trap_transformed_s[j], error_trap_transformed_c[j] = trap_transformed(num_partitions[j])\n",
    "    error_trap_transformed_s[j] = abs(error_trap_transformed_s[j] - Is)\n",
    "    error_trap_transformed_c[j] = abs(error_trap_transformed_c[j] - Is)\n",
    "    \n",
    "    # Compute Gauss-Legendre Quadrature 3-point \n",
    "    error_gauss_legendre_3_s[j], error_gauss_legendre_3_c[j] = gauss_legendre_3(num_partitions[j])\n",
    "    error_gauss_legendre_3_s[j] = abs(error_gauss_legendre_3_s[j] - Is)\n",
    "    error_gauss_legendre_3_c[j] = abs(error_gauss_legendre_3_c[j] - Is)\n",
    "    \n",
    "#PLOTS\n",
    "\n",
    "order_C = lambda delta_x, error, order: numpy.exp(numpy.log(error) - order * numpy.log(delta_x))\n",
    "\n",
    "# for Is:\n",
    "fig = plt.figure()\n",
    "axes = fig.add_subplot(1, 1, 1)\n",
    "plt.title(\"Errors for $I_s$\")\n",
    "\n",
    "axes.loglog(delta_x, error_trap_1_s, 'ro', label=\"Trapezoid\")\n",
    "axes.loglog(delta_x, error_trap_wnc_s, 'bo', label=\"Trapezoid with Newton-Cotes\")\n",
    "axes.loglog(delta_x, error_trap_transformed_s, 'go', label=\"Trapezoid for Transformed\")\n",
    "axes.loglog(delta_x, error_gauss_legendre_3_s, 'mo', label=\"3-point Gauss Legendre\")\n",
    "\n",
    "axes.loglog(delta_x, order_C(delta_x[0], error_trap_1_s[0], 1.5) * delta_x**1.5, 'r--', label=\"1.5th Order\")\n",
    "axes.loglog(delta_x, order_C(delta_x[0], error_trap_wnc_s[0], 1.5) * delta_x**1.5, 'b--', label=\"1.5th Order\")\n",
    "axes.loglog(delta_x, order_C(delta_x[0], error_trap_transformed_s[0], 2.0) * delta_x**2.0, 'g--', label=\"2nd Order\")\n",
    "\n",
    "axes.legend(loc=4)\n",
    "\n",
    "# for Ic:\n",
    "fig = plt.figure()\n",
    "axes = fig.add_subplot(1, 1, 1)\n",
    "plt.title(\"Errors for $I_c$\")\n",
    "\n",
    "axes.loglog(delta_x, error_trap_1_c, 'ro', label=\"Trapezoid\")\n",
    "axes.loglog(delta_x, error_trap_wnc_c, 'bo', label=\"Trapezoid with Newton-Cotes\")\n",
    "axes.loglog(delta_x, error_trap_transformed_c, 'go', label=\"Trapezoid for Transformed\")\n",
    "axes.loglog(delta_x, error_gauss_legendre_3_c, 'mo', label=\"3-point Gauss Legendre\")\n",
    "\n",
    "axes.loglog(delta_x, order_C(delta_x[0], error_trap_1_c[0], 0.5) * delta_x**0.5, 'r--', label=\"0.5th Order\")\n",
    "axes.loglog(delta_x, order_C(delta_x[0], error_trap_wnc_c[0], 0.5) * delta_x**0.5, 'b--', label=\"0.5th Order\")\n",
    "axes.loglog(delta_x, order_C(delta_x[0], error_trap_transformed_c[0], 2.0) * delta_x**2.0, 'g--', label=\"2nd Order\")\n",
    "\n",
    "axes.legend(loc=4)\n",
    "\n",
    "plt.show()"
   ]
  },
  {
   "cell_type": "raw",
   "id": "d38c9914",
   "metadata": {
    "deletable": false,
    "nbgrader": {
     "cell_type": "code",
     "checksum": "4f917f94562abcab094e913a8c5f50ec",
     "grade": true,
     "grade_id": "cell-395406051759804",
     "locked": false,
     "points": 5,
     "schema_version": 3,
     "solution": true
    }
   },
   "source": []
  },
  {
   "cell_type": "markdown",
   "id": "ed9d17ab",
   "metadata": {
    "deletable": false,
    "editable": false,
    "nbgrader": {
     "cell_type": "markdown",
     "checksum": "055c6e348ffcd39546e0d17583e502d8",
     "grade": false,
     "grade_id": "cell-1553923981662412",
     "locked": true,
     "schema_version": 3,
     "solution": false
    }
   },
   "source": [
    "**(h)** [3] Comment on the results of this question and the vast differences in convergence rates even between the two integrations (why is $I_c$ less accurate than $I_s$)."
   ]
  },
  {
   "cell_type": "markdown",
   "id": "6472c88c",
   "metadata": {
    "deletable": false,
    "nbgrader": {
     "cell_type": "markdown",
     "checksum": "329ffa12d392d78f0bd4c33a4c942e42",
     "grade": true,
     "grade_id": "cell-7860584774817940",
     "locked": false,
     "points": 3,
     "schema_version": 3,
     "solution": true
    }
   },
   "source": [
    "YOUR ANSWER HERE\n",
    "\n",
    "The order of accuracy from least to most accurate is the Trapezoidal method (trap_1), Trapezoidal with Newton-Cotes (trap_wnc), transformed Trapezoidal (trap_transformed), and finally the 3-point Gauss-Legendre quadrature (gauss_legendre_3). \n",
    "\n",
    "These vast differences in convergence rates is because of the order of convergence for each: the trap rule and trap_wnc are 1st order, while the transformed is 2nd order. The gauss-legendre quadrature does not have a convergence line, and has very small error in the beginning. \n",
    "\n",
    "$I_c$ is less accurate than $I_s$, because when x approaches 0, the value for $I_c$ is much bigger than $I_s$. (i.e. the limit is greater)"
   ]
  },
  {
   "cell_type": "markdown",
   "id": "9755e3b9",
   "metadata": {
    "deletable": false,
    "editable": false,
    "nbgrader": {
     "cell_type": "markdown",
     "checksum": "79f633727305ca87d03db986b7d050d5",
     "grade": false,
     "grade_id": "cell-3224734890563854",
     "locked": true,
     "schema_version": 3,
     "solution": false
    }
   },
   "source": [
    "## Question 3\n",
    "\n",
    "We can often reformulate finite difference approximations as matrix-vector products.  For the following assume that the data considered are equi-spaced points $(x_i, y_i)$, i.e. $\\Delta x$ is uniform."
   ]
  },
  {
   "cell_type": "markdown",
   "id": "5b7e01db",
   "metadata": {
    "deletable": false,
    "editable": false,
    "nbgrader": {
     "cell_type": "markdown",
     "checksum": "9ec108b356e66a3e16ee9b41e0ccac53",
     "grade": false,
     "grade_id": "cell-5c735e9080300d72",
     "locked": true,
     "schema_version": 3,
     "solution": false
    }
   },
   "source": [
    "**(a)** [10] Derive the forward and backward second order finite difference approximations to the second derivative using the method of your choice."
   ]
  },
  {
   "cell_type": "markdown",
   "id": "7f1ee1b7",
   "metadata": {
    "deletable": false,
    "nbgrader": {
     "cell_type": "markdown",
     "checksum": "57199decbaf43c32a17f1c759881727a",
     "grade": true,
     "grade_id": "cell-88d2d6f7dba4237d",
     "locked": false,
     "points": 10,
     "schema_version": 3,
     "solution": true
    }
   },
   "source": [
    "YOUR ANSWER HERE\n",
    "\n",
    "Reference: https://ocw.snu.ac.kr/sites/default/files/NOTE/Lecture%2008_0.pdf\n",
    "https://www.dam.brown.edu/people/alcyew/handouts/numdiff.pdf\n",
    "\n",
    "Forward second order finite difference approximation:\n",
    "\n",
    "Take the taylor polynomial for $f(x_{i+1}), f(x_{i+2})$ for $x_i, x_{i+1}, x_{i+2}$ with uniform space, and $h = x_{i+2} - x_{i+1} = x_{i+1} - x_i$:\n",
    "\n",
    "$$\n",
    "    f(x_{i+1}) = f(x_i) + f'(x_i)h + \\dfrac{f''(x_i)}{2!}h^2 + \\dfrac{f'''(\\mathscr{E}_1)}{3!}h^3 \\\\\n",
    "    f(x_{i+2}) = f(x_i) + f'(x_i)2h + \\dfrac{f''(x_i)}{2!}(2h)^2 + \\dfrac{f'''(\\mathscr{E}_2)}{3!}(2h)^3\n",
    "$$\n",
    "\n",
    "where $x_i ≤ \\mathscr{E}_1 ≤ x_{i+1}$ and $x_{i-1} ≤ \\mathscr{E}_2 ≤ x_i$. Using these equations, we can find the three-point forward difference formula for the second derivative for the truncation error $\\mathcal{O}(h)$ by combining $f(x_{i+1})$ and $f(x_{i+2})$:\n",
    "$$    \n",
    "    f''(x_i) = \\dfrac{f(x_i) - 2f(x_{i+1}) + f(x_{i+2})}{h^2}\n",
    "$$\n",
    "\n",
    "Similarly for the backward second order finite difference approximation, we take:\n",
    "$$\n",
    "    f(x_{i-1}) = f(x_i) - f'(x_i)h + \\dfrac{f''(x_i)}{2!}h^2 - \\dfrac{f'''(\\mathscr{E}_1)}{3!}h^3 \\\\\n",
    "    f(x_{i-2}) = f(x_i) - f'(x_i)2h + \\dfrac{f''(x_i)}{2!}(2h)^2 - \\dfrac{f'''(\\mathscr{E}_2)}{3!}(2h)^3\n",
    "$$\n",
    "From this, we can find that the backward second order finite difference approximation for truncation error $\\mathcal{O}(h)$ is\n",
    "$$\n",
    "    f''(x_i) = \\dfrac{f(x_{i-2}) - 2f(x_{i-1}) + f(x_i)}{h^2}\n",
    "$$"
   ]
  },
  {
   "cell_type": "markdown",
   "id": "aea0edf0",
   "metadata": {
    "deletable": false,
    "editable": false,
    "nbgrader": {
     "cell_type": "markdown",
     "checksum": "93a21c535b283619d231255341d37ad2",
     "grade": false,
     "grade_id": "cell-7885120873385504",
     "locked": true,
     "schema_version": 3,
     "solution": false
    }
   },
   "source": [
    "**(b)** [10] Using a second order centered finite difference approximation to the second derivative and the appropriate second order forward and backward difference schemes at the edges of the domain find the matrix $D$ such that multiplying a vector of $y$ values would lead to a second order approximation of the derivative for the given data.  In other words for $y_i = f(x_i)$\n",
    "$$\n",
    "    f''(x) \\approx D y.\n",
    "$$"
   ]
  },
  {
   "cell_type": "markdown",
   "id": "10239ee8",
   "metadata": {
    "deletable": false,
    "nbgrader": {
     "cell_type": "markdown",
     "checksum": "67a3ffd50bc7cfb020a04991ff5467d7",
     "grade": true,
     "grade_id": "cell-2125755949784286",
     "locked": false,
     "points": 10,
     "schema_version": 3,
     "solution": true
    }
   },
   "source": [
    "YOUR ANSWER HERE\n",
    "\n",
    "By adding the equations for the taylor series for $f(x_{i+1}), f(x_{i-1})$ from part 3.a, we can define the second order center finite difference approximation for the second derivative: \n",
    "\n",
    "\\begin{equation}\n",
    "\\begin{split}\n",
    "    f(x_{i+1}) &= f(x_i) + f'(x_i)h + \\dfrac{f''(x_i)}{2!}h^2 + \\dfrac{f'''(\\mathscr{E}_1)}{3!}h^3 \\\\\n",
    "    f(x_{i-1}) &= f(x_i) - f'(x_i)h + \\dfrac{f''(x_i)}{2!}h^2 - \\dfrac{f'''(\\mathscr{E}_1)}{3!}h^3 \\\\\n",
    "    f(x_{i+1}) + f(x_{i-1}) &= 2f(x_i) + f''(x_i)h^2 + \\mathcal{O}(h^4) \\\\ \n",
    "    f''(x) &= \\dfrac{f(x_{i-1}) - 2f(x_i)+ f(x_{i+1})}{h^2} + \\mathcal{O}(h^2)\n",
    "\\end{split}\n",
    "\\end{equation}\n",
    "\n",
    "for truncation error $\\mathcal{O}(h^2)$\n",
    "\n",
    "Using this second order forward and backward difference scheme at the edges of the domain, we can find matrix $D$ such that multiplying a vector of $y$ values would lead to a second order approximation of the derivative, by obtaining all the coefficients on the calls to $f$: \n",
    "\n",
    "$$\n",
    "    D = \\dfrac{1}{h^2} \n",
    "    \\begin{bmatrix}\n",
    "    1 & -2 & 1 & 0 & 0 & 0 & ... & 0 \\\\\n",
    "    0 & 1 & -2 & 1 & 0 & 0 & ... & 0 \\\\\n",
    "    0 & 0 & 1 & -2 & 1 & 0 & ... & 0 \\\\\n",
    "    ... & ... & ... & ... &... & ... & ... & ... \\\\\n",
    "    0 & 0 & 0 & 0 & 0 &1 & -2 & 1 \\\\\n",
    "    \\end{bmatrix}\n",
    "$$"
   ]
  },
  {
   "cell_type": "markdown",
   "id": "2c2efdf8",
   "metadata": {
    "deletable": false,
    "editable": false,
    "nbgrader": {
     "cell_type": "markdown",
     "checksum": "11d83390ba12aae06db91362c35dccbc",
     "grade": false,
     "grade_id": "cell-8815784455777695",
     "locked": true,
     "schema_version": 3,
     "solution": false
    }
   },
   "source": [
    "**(c)** [10] Write a function that takes in the number of data points $N$ and returns the matrix $D$.  Here assume we are on the interval $[-1, 1]$.  Note that inside your function \n",
    "$$\n",
    "    \\Delta x = \\frac{2}{N - 1}\n",
    "$$\n",
    "to match the `linspace` command.\n",
    "\n",
    "Beyond being convenient (once you construct the matrix you can apply it to any set of data) this operation is much faster than using loops.  *Hint:* The command `numpy.diag` may be extremely helpful."
   ]
  },
  {
   "cell_type": "code",
   "execution_count": 86,
   "id": "dd95ed80",
   "metadata": {
    "deletable": false,
    "nbgrader": {
     "cell_type": "code",
     "checksum": "08cef2157f573181b72e409343a13c87",
     "grade": false,
     "grade_id": "cell-5516025382221234",
     "locked": false,
     "schema_version": 3,
     "solution": true
    }
   },
   "outputs": [],
   "source": [
    "def diff_matrix(N):\n",
    "    # YOUR CODE HERE\n",
    "    deltax = 2 / (N - 1)\n",
    "    \n",
    "    D = numpy.zeros((N, N))\n",
    "    D += numpy.diag(-2 * numpy.ones(N), 0) + numpy.diag(numpy.ones(N - 1), 1) + numpy.diag(numpy.ones(N - 1), -1)\n",
    "    D[0,:4] = [2, -5, 4, -1] \n",
    "    D[-1,-4:] = [-1, 4, -5, 2]\n",
    "\n",
    "    D *= 1 / (deltax**2)    \n",
    "    return D"
   ]
  },
  {
   "cell_type": "code",
   "execution_count": 87,
   "id": "515a77e3",
   "metadata": {
    "deletable": false,
    "editable": false,
    "nbgrader": {
     "cell_type": "code",
     "checksum": "0cd8e56a3e5745bcf3fff5e30cff6fb4",
     "grade": true,
     "grade_id": "cell-7511846809958937",
     "locked": true,
     "points": 10,
     "schema_version": 3,
     "solution": false
    }
   },
   "outputs": [
    {
     "name": "stdout",
     "output_type": "stream",
     "text": [
      "Success!\n"
     ]
    }
   ],
   "source": [
    "N = 200\n",
    "x = numpy.linspace(-1, 1, N)\n",
    "y = numpy.sin(x) * numpy.cos(x)\n",
    "numpy.testing.assert_allclose(numpy.dot(diff_matrix(N), y), -4.0 * numpy.sin(x) * numpy.cos(x), rtol=1e-2)\n",
    "print(\"Success!\")"
   ]
  },
  {
   "cell_type": "markdown",
   "id": "bbaf4bdd",
   "metadata": {
    "deletable": false,
    "editable": false,
    "nbgrader": {
     "cell_type": "markdown",
     "checksum": "86e0dec917e91613054276eaca16dc9b",
     "grade": false,
     "grade_id": "cell-1283048126092389",
     "locked": true,
     "schema_version": 3,
     "solution": false
    }
   },
   "source": [
    "**(c)** [5] Suppose instead that we did not know the vector $f(x_i) = y_i$ but instead knew the value of second derivative at these points.  If we wanted to find the vector $y$ what kind of problem would we have to solve?  What is the continuous analog of this problem and what additional information would we need?"
   ]
  },
  {
   "cell_type": "markdown",
   "id": "d780159a",
   "metadata": {
    "deletable": false,
    "nbgrader": {
     "cell_type": "markdown",
     "checksum": "4b523be5a5ee66ce478e9f9c59feaf56",
     "grade": true,
     "grade_id": "cell-3816704844311840",
     "locked": false,
     "points": 5,
     "schema_version": 3,
     "solution": true
    }
   },
   "source": [
    "YOUR ANSWER HERE\n",
    "\n",
    "We would just need to solve backwards, using the matrix to solve for the vector $y$. This would be based on the assumption that we know the matrix $D$ and that it is invertible, which "
   ]
  },
  {
   "cell_type": "code",
   "execution_count": null,
   "id": "971df7ee",
   "metadata": {},
   "outputs": [],
   "source": []
  }
 ],
 "metadata": {
  "kernelspec": {
   "display_name": "Python 3",
   "language": "python",
   "name": "python3"
  },
  "language_info": {
   "codemirror_mode": {
    "name": "ipython",
    "version": 3
   },
   "file_extension": ".py",
   "mimetype": "text/x-python",
   "name": "python",
   "nbconvert_exporter": "python",
   "pygments_lexer": "ipython3",
   "version": "3.8.8"
  }
 },
 "nbformat": 4,
 "nbformat_minor": 5
}
