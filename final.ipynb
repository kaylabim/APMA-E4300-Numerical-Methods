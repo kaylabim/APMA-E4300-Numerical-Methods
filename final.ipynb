{
 "cells": [
  {
   "cell_type": "markdown",
   "id": "0b0e0e11",
   "metadata": {},
   "source": [
    "Before you turn this problem in, make sure everything runs as expected. First, restart the kernel (in the menubar, select Kernel $\\rightarrow$ Restart) and then run all cells (in the menubar, select Cell $\\rightarrow$ Run All).\n",
    "\n",
    "Make sure you fill in any place that says YOUR CODE HERE or \"YOUR ANSWER HERE\", as well as your name and collaborators below:"
   ]
  },
  {
   "cell_type": "code",
   "execution_count": 2,
   "id": "29843b1b",
   "metadata": {},
   "outputs": [],
   "source": [
    "%matplotlib inline\n",
    "%precision 16\n",
    "from __future__ import print_function\n",
    "import numpy\n",
    "import matplotlib.pyplot as plt"
   ]
  },
  {
   "cell_type": "markdown",
   "id": "07816c79",
   "metadata": {
    "deletable": false,
    "editable": false,
    "nbgrader": {
     "cell_type": "markdown",
     "checksum": "e7d4f676e912240d816ed4854077ce55",
     "grade": false,
     "grade_id": "H1",
     "locked": true,
     "schema_version": 3,
     "solution": false
    }
   },
   "source": [
    "Before you turn this problem in, make sure everything runs as expected. First, restart the kernel (in the menubar, select Kernel $\\rightarrow$ Restart) and then run all cells (in the menubar, select Cell $\\rightarrow$ Run All).\n",
    "\n",
    "Make sure you fill in any place that says YOUR CODE HERE or \"YOUR ANSWER HERE\", as well as your name and collaborators below:"
   ]
  },
  {
   "cell_type": "markdown",
   "id": "ec478a52",
   "metadata": {},
   "source": [
    "Name: Kayla Kim "
   ]
  },
  {
   "cell_type": "markdown",
   "id": "578cfe37",
   "metadata": {
    "deletable": false,
    "editable": false,
    "nbgrader": {
     "cell_type": "markdown",
     "checksum": "1fcd5500a3b8217ccbbb1bdf826ca6b9",
     "grade": false,
     "grade_id": "H2",
     "locked": true,
     "schema_version": 3,
     "solution": false
    }
   },
   "source": [
    "# Final - Fall Semester 2022\n",
    "\n",
    "Guidelines for the final exam:\n",
    "1. Use resources available to you from class and online.\n",
    "1. That being said this is an individual effort, do not work with others and cite what you do use.\n",
    "1. Copying is prohibited, write your own code and solutions.\n",
    "1. Only use ed-stem to ask private questions.  If you instead email please email me and the TAs. We will answer questions that pertain only to clarification.  In particular this means we will not debug your code.\n",
    "1. Late turn in of the final will result in a 10% reduction every HOUR that it is late.  If you feel that there is a special circumstance that warrants consideration tells us BEFORE the due date (and more so before the exam starts).\n",
    "\n",
    "Good luck!"
   ]
  },
  {
   "cell_type": "markdown",
   "id": "468ac00a",
   "metadata": {
    "deletable": false,
    "editable": false,
    "nbgrader": {
     "cell_type": "markdown",
     "checksum": "ff63be74d22d17830ed0a4d70021b417",
     "grade": false,
     "grade_id": "Q3",
     "locked": true,
     "schema_version": 3,
     "solution": false
    }
   },
   "source": [
    "## Question 1\n",
    "\n",
    "The partial differential equation of motion of an axially vibrating bar in the figure is\n",
    "$$\n",
    "    \\frac{\\partial^2 u}{\\partial x^2} = \\frac{\\rho}{E} \\frac{\\partial^2 u}{\\partial t^2}\n",
    "$$\n",
    "where $u(x,t)$ is the axial displacement (movement in the x-direction), $\\rho$ the mass density, and $E$ the modulus of elasticity.  The boundary conditions for the beam depicted are $u(0, t) = u_x(L, t) = 0$.\n",
    "\n",
    "![stuff](./beam_diagram.png)"
   ]
  },
  {
   "cell_type": "markdown",
   "id": "2398f324",
   "metadata": {
    "deletable": false,
    "editable": false,
    "nbgrader": {
     "cell_type": "markdown",
     "checksum": "c402ef9e8888ce2d714d117ed1c84a7a",
     "grade": false,
     "grade_id": "Q3-a",
     "locked": true,
     "schema_version": 3,
     "solution": false
    }
   },
   "source": [
    "**(a)** [10] If we want to find the linear vibrational modes in the lateral direction we can plug in a plane wave of the form $u(x, t) = y(x) \\sin (\\omega t)$.  Show that the equivalent ODE boundary value problem is\n",
    "$$\n",
    "    y'' = -\\omega^2\\frac{\\rho}{E} y \\quad \\text{with} \\quad y(0) = y'(L) = 0.\n",
    "$$"
   ]
  },
  {
   "cell_type": "markdown",
   "id": "ff37ffca",
   "metadata": {
    "deletable": false,
    "nbgrader": {
     "cell_type": "markdown",
     "checksum": "4781d68c5b3ce74b2ecb6a123221a47f",
     "grade": true,
     "grade_id": "A3-a",
     "locked": false,
     "points": 10,
     "schema_version": 3,
     "solution": true
    }
   },
   "source": [
    "YOUR ANSWER HERE\n",
    "\n",
    "Given that we can plug in $u(x,t) = y(x)sin(\\omega t)$ to find the linear vibrational modes in the lateral directions, \n",
    "\n",
    "$$\n",
    "    u_x = y'(x)sin(\\omega t) \\\\ \n",
    "    u_{xx} = y''(x) sin(\\omega t) \\\\ \n",
    "    u_t = y(x) cos(\\omega t) \\omega \\\\ \n",
    "    u_{tt} = - \\omega ^2 y(x) sin(\\omega t) \\\\ \n",
    "$$\n",
    "\n",
    "Plugging into the original PDE, we get the equivalent ODE BVP: \n",
    "\n",
    "$$\n",
    "    y''(x)sin(\\omega t) = \\frac{\\rho}{E}(-\\omega ^2 y(x) sin(\\omega t) \\\\\n",
    "    y''(x) = \\frac{\\rho}{E}(-\\omega ^2 y(x)) \n",
    "$$\n",
    "\n",
    "Since the boundary conditions were given by changes in $x$, we can also express the boundary conditions as $y(0) = y'(L) = 0$. "
   ]
  },
  {
   "cell_type": "markdown",
   "id": "8b3122dd",
   "metadata": {
    "deletable": false,
    "editable": false,
    "nbgrader": {
     "cell_type": "markdown",
     "checksum": "ddb55e68dc41a2f6d48c5ce6e575ecae",
     "grade": false,
     "grade_id": "Q3-b",
     "locked": true,
     "schema_version": 3,
     "solution": false
    }
   },
   "source": [
    "**(b)** [15] Using second order finite difference discretizations of the cantilever beam starting at the wall and ending at the free end (see the figure) write a system of equations that would express the ODE from part (a) as an eigenvalue problem while identifying the $\\lambda$.  For the right boundary condition use the expression from the discretized, second order accurate, centered difference to find an expression for $Y_{N+1}$ and plug it in to the expression for equation centered at $x_N$.  Note that $Y_0 = 0$ by the boundary conditions."
   ]
  },
  {
   "cell_type": "markdown",
   "id": "a2a17c43",
   "metadata": {
    "deletable": false,
    "nbgrader": {
     "cell_type": "markdown",
     "checksum": "84c755ad39597e9393553935c3820430",
     "grade": true,
     "grade_id": "A3-b",
     "locked": false,
     "points": 15,
     "schema_version": 3,
     "solution": true
    }
   },
   "source": [
    "YOUR ANSWER HERE\n",
    "\n",
    "Reference: Lecture Note 16 ODE BVP (Linear System Approach) and Leveque Finite Diff (https://edisciplinas.usp.br/pluginfile.php/41896/mod_resource/content/1/LeVeque%20Finite%20Diff.pdf)\n",
    "\n",
    "Write a system of equations that expresses $y'' = - \\omega ^2 \\frac{\\rho}{E}y$ with boundary conditions $y(0) = y'(L) = 0$ as a system of equations/eigenvalue problem. identify $\\lambda$. \n",
    "\n",
    "The unknown boundary values that we are solving for are \n",
    "\n",
    "$$\n",
    "    Y = \\begin{bmatrix} \n",
    "        Y_1 \\\\ \n",
    "        \\vdots \\\\ \n",
    "        Y_N \n",
    "    \\end{bmatrix}\n",
    "$$\n",
    "\n",
    "From lecture notes 16, the discretized 2nd order accurate centered different approximation for the 2nd derivative is given by: \n",
    "\n",
    "$$\n",
    "    y_{xx} = \\frac{Y_{N-1} - 2Y_N + Y_{N+1}}{\\Delta x^2}\n",
    "$$\n",
    "\n",
    "We know from the given boundary conditions that $Y_0 = 0$ and $Y'_L = 0$. From the left boundary $Y_0 = 0$ we can solve for $Y_1$:\n",
    "\n",
    "$$\n",
    "    Y_1 = \\frac{Y_{0} - 2Y_1 + Y_{2}}{\\Delta x^2} = \\frac{-2Y_1 + Y_2}{\\Delta x^2} \n",
    "$$\n",
    "\n",
    "which gives us the matrix $A$:\n",
    "$$ \n",
    "    A = \\frac{1}{\\Delta x^2} \\begin{bmatrix}\n",
    "        -2 & 1 &    &    &    &    &    \\\\\n",
    "        1 & -2 &  1 &    &    &    &    \\\\\n",
    "          & 1 & -2 &  1 &    &    & \\\\\n",
    "    & & \\ddots & \\ddots & \\ddots\n",
    "    \\end{bmatrix} \n",
    "$$\n",
    "\n",
    "To solve for the right boundary, $Y_N$, since we are given a Neumann boundary conditions, we need to use the 2nd order backward finite difference approximation for the 1st derivative (again from lecture note 16), to find an expression for $Y_{N+1}$\n",
    "\n",
    "$$ \\begin{aligned}\n",
    "    y_x(L) \\approx \\frac{3Y_{N+1} - 4Y_N + Y_{N-1}}{2\\Delta x} &= 0 \\\\ \n",
    "    3Y_{N+1} - 4Y_N + Y_{N-1} &= 0 \\\\\n",
    "    Y_{N+1} &= \\frac{4Y_N + Y_{N-1}}{3}\n",
    "\\end{aligned}\n",
    "$$\n",
    "\n",
    "Substituting this expression into the expression for the equation centered at $x_N$, we get: \n",
    "\n",
    "$$ \\begin{aligned}\n",
    "    Y_N &= \\frac{Y_{N-1} - 2Y_N + Y_{N+1}}{\\Delta x^2} \\\\\n",
    "    &= \\frac{Y_{N-1} - 2Y_N + \\frac{4Y_N - Y_{N-2}}{3}}{\\Delta x^2} \\\\\n",
    "    &= \\frac{(1 - \\frac{1}{3})Y_{N-1} + Y_N (-2 + \\frac{4}{3})}{\\Delta x^2} \\\\\n",
    "    Y_N &= \\frac{\\frac{2}{3}Y_{N-1} - \\frac{2}{3}Y_{N}}{\\Delta x^2} \n",
    "\\end{aligned}\n",
    "$$\n",
    "\n",
    "Which therefore gives us the modified matrix A: \n",
    "\n",
    "$$ \n",
    "    A =  \\begin{bmatrix}\n",
    "     \\ddots & \\ddots & \\ddots &    &    \\\\\n",
    "            & \\frac{1}{\\Delta x^2} &     \\frac{-2}{\\Delta x^2}&  \\frac{1}{\\Delta x^2} &    \\\\\n",
    "            &        &      \\frac{1}{\\Delta x^2} & \\frac{-2}{\\Delta x^2} &  \\frac{1}{\\Delta x^2} \\\\\n",
    "            &        &       &  \\frac{2}{3 \\Delta x} &  \\frac{-2}{3 \\Delta x} \\\\\n",
    "    \\end{bmatrix}\n",
    "$$\n",
    "\n",
    "So that our final system of equations is given by: \n",
    "\n",
    "$$ \n",
    "    \\begin{bmatrix}\n",
    "        \\frac{-2}{\\Delta x^2} &  \\frac{1}{\\Delta x^2}  &    &    &        \\\\\n",
    "        \\frac{1}{\\Delta x^2} & \\frac{-2}{\\Delta x^2} &  \\frac{1}{\\Delta x^2} &    &        \\\\\n",
    "        \\ddots & \\ddots & \\ddots &    &   \\\\\n",
    "               &        &      \\frac{1}{\\Delta x^2} & \\frac{-2}{\\Delta x^2} &  \\frac{1}{\\Delta x^2} \\\\\n",
    "               &        &       &  \\frac{2}{3 \\Delta x} &  \\frac{-2}{3 \\Delta x} \\\\\n",
    "    \\end{bmatrix} \\begin{bmatrix}\n",
    "        Y_1 \\\\\n",
    "        \\\\\n",
    "        \\vdots \\\\\n",
    "        \\\\\n",
    "        Y_N\\\\\n",
    "    \\end{bmatrix} = \\lambda \\begin{bmatrix}\n",
    "        Y_1 \\\\\n",
    "        \\\\\n",
    "        \\vdots \\\\\n",
    "        \\\\\n",
    "        Y_N\\\\\n",
    "    \\end{bmatrix}\n",
    "$$\n",
    "\n",
    "Since this system is in the form $A\\overrightarrow x = \\lambda \\overrightarrow x$ which therefore makes it an eigenvalue problem, and we can identify $\\\\lambda$: \n",
    "from $y'' = -\\frac{\\rho}{E} \\omega^2 y$, $\\lambda = -\\frac{\\rho}{E} \\omega^2$ where $\\omega = \\sqrt{\\frac{-\\lambda E}{\\rho}}$"
   ]
  },
  {
   "cell_type": "markdown",
   "id": "360ce122",
   "metadata": {
    "deletable": false,
    "editable": false,
    "nbgrader": {
     "cell_type": "markdown",
     "checksum": "d278f3fb7c108ecfdb21efaa73ceaa35",
     "grade": false,
     "grade_id": "Q3-c",
     "locked": true,
     "schema_version": 3,
     "solution": false
    }
   },
   "source": [
    "**(c)** [10] Write a function that returns the eigenpairs $(\\omega, Y)$ for this problem using the built-in eigenvalue and eigenvector functions.  The function should take as arguments the density $\\rho$, elastic modulus $E$, the length of the beam $L$, and the number of points to use $N$.  You may use `eig` and any of the matrix constructors for this question."
   ]
  },
  {
   "cell_type": "code",
   "execution_count": 2,
   "id": "8d864b22",
   "metadata": {
    "deletable": false,
    "nbgrader": {
     "cell_type": "code",
     "checksum": "8a3b9ed328fd73a6e40374ff44662910",
     "grade": false,
     "grade_id": "A3-c",
     "locked": false,
     "schema_version": 3,
     "solution": true
    }
   },
   "outputs": [],
   "source": [
    "# reference: from Lecture 16 (ghost cell code example)\n",
    "\n",
    "def compute_eigenmodes(rho, E, L, N):\n",
    "    # YOUR CODE HERE\n",
    "\n",
    "    # Problem setup\n",
    "    a, b= 0, L \n",
    "    y_a = 0 \n",
    "    y_x_b = 0 \n",
    "    \n",
    "    # Discretization\n",
    "    delta_x = (b - a) / (N + 1)\n",
    "    \n",
    "    # Construct matrix A \n",
    "    A = numpy.zeros((N, N))\n",
    "    diagonal = numpy.ones(N) / delta_x**2\n",
    "    A += numpy.diag(diagonal* -2.0, 0)\n",
    "    A += numpy.diag(diagonal[:-1], 1)\n",
    "    A += numpy.diag(diagonal[:-1], -1)\n",
    "\n",
    "    # Boundary conditions \n",
    "    A[-1, -1] = -2 / (3 * delta_x**2)\n",
    "    A[-1, -2] = 2 / (3 * delta_x**2)\n",
    "    \n",
    "    eigenvalues, Y = numpy.linalg.eig(A) \n",
    "    omega = numpy.sqrt(-eigenvalues * E / rho)\n",
    "    \n",
    "    return omega, Y\n",
    "    "
   ]
  },
  {
   "cell_type": "code",
   "execution_count": 3,
   "id": "368ab350",
   "metadata": {
    "deletable": false,
    "editable": false,
    "nbgrader": {
     "cell_type": "code",
     "checksum": "71bbe6ae91eb4351d55ba250011f86f0",
     "grade": true,
     "grade_id": "T3-c",
     "locked": true,
     "points": 10,
     "schema_version": 3,
     "solution": false
    }
   },
   "outputs": [
    {
     "name": "stdout",
     "output_type": "stream",
     "text": [
      "Success!\n"
     ]
    }
   ],
   "source": [
    "N = 10\n",
    "rho = 1.0\n",
    "E = 1.0\n",
    "L = 1.0\n",
    "omega_answer = numpy.array([ 21.7422434193110306,  20.9759113663403376,  19.7217145081384828,\n",
    "        18.0138315129354325,  15.8993899776360887,  13.4376295762645821,\n",
    "        10.698333532279177 ,   7.758368660679511 ,   1.5701818274404042,\n",
    "         4.694243846733956 ])\n",
    "Y_answer = numpy.array([[ 0.1332689129905852,  0.2540791980578427, -0.3512146978900766,\n",
    "        -0.4158216209584249, -0.4422917108772219, -0.428807280200836 ,\n",
    "        -0.3774561201562736, -0.2938302966873742, -0.0636582029192295,\n",
    "        -0.1860806780250697],\n",
    "       [-0.2541197503644902, -0.415742563435836 ,  0.4265256456483109,\n",
    "         0.2835083007139269,  0.0394429228927148, -0.2176998262766576,\n",
    "        -0.3978751225413991, -0.4414926863762517, -0.126019319463437 ,\n",
    "        -0.338273257543059 ],\n",
    "       [ 0.3512915600874334,  0.4261885309549457, -0.1667708177748941,\n",
    "         0.2225248982232336,  0.4387742491476432,  0.318283936617001 ,\n",
    "        -0.0419425984862865, -0.3695314952081135, -0.1858126924212769,\n",
    "        -0.4288611739891219],\n",
    "       [-0.4157298158346302, -0.2816176050492052, -0.2239941708721702,\n",
    "        -0.4352263754412539, -0.0785721637326903,  0.3792884020949566,\n",
    "         0.3536635821230666, -0.1137443138900772, -0.2418199843935823,\n",
    "        -0.4413470012540209],\n",
    "       [ 0.4414301230738589,  0.0346143443956072,  0.4387960460089696,\n",
    "         0.0742136163418109, -0.4317672993916197, -0.1257241946132033,\n",
    "         0.4147380932775409,  0.1986257606208348, -0.2929000023841996,\n",
    "        -0.3734568818433289],\n",
    "       [-0.4259977120759547,  0.2249791380645753, -0.3088928864071885,\n",
    "         0.3846273320091045,  0.1170765351208004, -0.4431169250464518,\n",
    "         0.0835103326012969,  0.4121880810191007, -0.3380119505124224,\n",
    "        -0.2375546306284489],\n",
    "       [ 0.3708705839652536, -0.4027413075374583, -0.0636672754806005,\n",
    "        -0.3364535668636131,  0.4213265865458899, -0.0992404504778922,\n",
    "        -0.3267101556103557,  0.4207045985456792, -0.3762366370545694,\n",
    "        -0.0583900976496051],\n",
    "       [-0.2811855169299086,  0.4340150057968353,  0.3862123321597986,\n",
    "        -0.1552323842649612, -0.15464981912565  ,  0.3927338512830212,\n",
    "        -0.4278943185999124,  0.2199387128369916, -0.4067952037044107,\n",
    "         0.1314081529295223],\n",
    "       [ 0.1652994182121241, -0.3074250990745305, -0.405360545169875 ,\n",
    "         0.442291424398037 , -0.4075351436109837,  0.2986262705069571,\n",
    "        -0.1243316883454994, -0.0902372020135543, -0.4290649954289095,\n",
    "         0.2972749965599433],\n",
    "       [-0.0340106225810974,  0.0690159378251743,  0.1060696517309941,\n",
    "        -0.1463230997005245,  0.1909932025764467, -0.241125214460059 ,\n",
    "         0.2968367384081698, -0.3555239985518547, -0.4425922475583805,\n",
    "         0.4090035789048046]])\n",
    "omega, Y = compute_eigenmodes(rho, E, L, N)\n",
    "numpy.testing.assert_allclose(Y_answer, Y)\n",
    "numpy.testing.assert_allclose(omega_answer, omega)\n",
    "print(\"Success!\")"
   ]
  },
  {
   "cell_type": "markdown",
   "id": "8ebe8295",
   "metadata": {
    "deletable": false,
    "editable": false,
    "nbgrader": {
     "cell_type": "markdown",
     "checksum": "43ab2c50966035ab38cd3c6673396f55",
     "grade": false,
     "grade_id": "Q3-d",
     "locked": true,
     "schema_version": 3,
     "solution": false
    }
   },
   "source": [
    "**(d)** [5] Make a plot of the convergence vs. the number of points used to the first eigenmode (the mode corresponding to the smallest eigenvalue).  The analytical solution is\n",
    "$$\n",
    "    \\omega_1 = \\frac{\\pi}{2 L} \\sqrt{\\frac{E}{\\rho}}.\n",
    "$$\n",
    "Use values of $E$ and $\\rho$ for titanium taking care that your units are correct and take $L$ to be 1 meter.  Also make sure to make an estimate of the convergence rate and justify why this makes sense."
   ]
  },
  {
   "cell_type": "code",
   "execution_count": 51,
   "id": "b325ffb6",
   "metadata": {
    "deletable": false,
    "nbgrader": {
     "cell_type": "code",
     "checksum": "2180383c9f4734eaf2a613d516984941",
     "grade": true,
     "grade_id": "A3-d1",
     "locked": false,
     "points": 5,
     "schema_version": 3,
     "solution": true
    }
   },
   "outputs": [
    {
     "ename": "NotImplementedError",
     "evalue": "",
     "output_type": "error",
     "traceback": [
      "\u001b[0;31m---------------------------------------------------------------------------\u001b[0m",
      "\u001b[0;31mNotImplementedError\u001b[0m                       Traceback (most recent call last)",
      "\u001b[0;32m<ipython-input-51-2fcdb0117653>\u001b[0m in \u001b[0;36m<module>\u001b[0;34m\u001b[0m\n\u001b[1;32m      4\u001b[0m \u001b[0;31m# YOUR CODE HERE\u001b[0m\u001b[0;34m\u001b[0m\u001b[0;34m\u001b[0m\u001b[0;34m\u001b[0m\u001b[0m\n\u001b[1;32m      5\u001b[0m \u001b[0;34m\u001b[0m\u001b[0m\n\u001b[0;32m----> 6\u001b[0;31m \u001b[0;32mraise\u001b[0m \u001b[0mNotImplementedError\u001b[0m\u001b[0;34m(\u001b[0m\u001b[0;34m)\u001b[0m\u001b[0;34m\u001b[0m\u001b[0;34m\u001b[0m\u001b[0m\n\u001b[0m",
      "\u001b[0;31mNotImplementedError\u001b[0m: "
     ]
    }
   ],
   "source": [
    "# Need to have units consistent!\n",
    "# rho = 4.506 g / cm^3 = 4.506 * (kg / 1000 g) * (100 cm / m)**3 = 4,506 kg / m^3\n",
    "# E = 116 GPa = 116e9 Pa\n",
    "# YOUR CODE HERE\n",
    "\n",
    "raise NotImplementedError()"
   ]
  },
  {
   "cell_type": "markdown",
   "id": "796b6cb1",
   "metadata": {
    "deletable": false,
    "nbgrader": {
     "cell_type": "markdown",
     "checksum": "b3ac13f6d8596db5cbadf049de70acdd",
     "grade": true,
     "grade_id": "A3-d2",
     "locked": false,
     "points": 0,
     "schema_version": 3,
     "solution": true
    }
   },
   "source": [
    "YOUR ANSWER HERE"
   ]
  },
  {
   "cell_type": "markdown",
   "id": "ec508c8c",
   "metadata": {
    "deletable": false,
    "editable": false,
    "nbgrader": {
     "cell_type": "markdown",
     "checksum": "6a68b3f02ea747ec207b28f9d1ae1f28",
     "grade": false,
     "grade_id": "Q-1",
     "locked": true,
     "schema_version": 3,
     "solution": false
    }
   },
   "source": [
    "## Question 3\n",
    "\n",
    "Consider the BVP\n",
    "$$\n",
    "    u_{xx} = -\\sin x\n",
    "$$\n",
    "with $u(0) = 0$ and $u(1) = 3$."
   ]
  },
  {
   "cell_type": "markdown",
   "id": "3ec2cf72",
   "metadata": {
    "deletable": false,
    "editable": false,
    "nbgrader": {
     "cell_type": "markdown",
     "checksum": "dd7b3b4a203e0fec800cb6fa1af049ee",
     "grade": false,
     "grade_id": "Q-1a",
     "locked": true,
     "schema_version": 3,
     "solution": false
    }
   },
   "source": [
    "**(a)** [10] Discretize the Poisson problem above using a second-order, centered difference method with $N = [32, 64, 128, 256]$ points and solve the resulting system of equations using the SOR method.  Compute the convergence to the true solution in the $\\ell_2$ norm of the ODE and the $\\ell_2$ norm of the difference between subsequent steps of the iteration count.  Plot both convergences vs. the iteration count on the same plot for $\\omega = [1.8, \\omega_{\\text{opt}}, 1.9]$ where $\\omega_{\\text{opt}}$ is the optimal value presented in class for each of the values of $N$ (please organize your plots so they are easy to read (for instance in a properly sized $3 \\times 4$ grid).  Instead of computing using the expected number of iterations always take 300 iterations instead.  Note that you will need the true solution to do this problem so find that first."
   ]
  },
  {
   "cell_type": "markdown",
   "id": "4e4fc3e1",
   "metadata": {
    "deletable": false,
    "nbgrader": {
     "cell_type": "markdown",
     "checksum": "2313d16fd191d76612bc16bbaa35cee3",
     "grade": true,
     "grade_id": "cell-2332a4567b0d1332",
     "locked": false,
     "points": 1,
     "schema_version": 3,
     "solution": true,
     "task": false
    }
   },
   "source": [
    "YOUR ANSWER HERE\n",
    "\n",
    "From lecture note 16_ODE_BVP (Boundary Conditions example) and 14_LA_iterative (Successive Overrelxation (SOR) example)\n",
    "\n",
    "Given the BVP $u_{xx} = -\\sin x$, \n",
    "\n",
    "$$\n",
    "    u_{xx} = -\\sin x \\\\\n",
    "    u_x = \\cos x + A  \\\\\n",
    "    u = Ax + B + \\sin x \\\\    \n",
    "$$\n",
    "\n",
    "Using the initial values to solve for $A$ and $B$, \n",
    "\n",
    "$$\n",
    "    u(0) = A(0)+ B + \\sin(0) = 0 \\\\\n",
    "    B = 0 \\\\\n",
    "$$\n",
    "\n",
    "and \n",
    "\n",
    "$$\n",
    "    u(1) = A + \\sin(1) = 3 \\\\\n",
    "    A = 3 - \\sin(1) \n",
    "$$\n",
    "\n",
    "Thus, $u = (3- \\sin(1))x + \\sin x$. \n",
    "\n",
    "Also, $\\omega_{opt}$ is given by $\\frac{2}{1 + \\sin(\\pi \\Delta x)}$. "
   ]
  },
  {
   "cell_type": "code",
   "execution_count": 2,
   "id": "91700c06",
   "metadata": {
    "deletable": false,
    "nbgrader": {
     "cell_type": "code",
     "checksum": "a32d71adec488816b58e4cbe5f2e3d6b",
     "grade": true,
     "grade_id": "A-1a",
     "locked": false,
     "points": 9,
     "schema_version": 3,
     "solution": true
    }
   },
   "outputs": [
    {
     "data": {
      "image/png": "[encoded data removed]",
      "text/plain": [
       "<Figure size 1296x288 with 3 Axes>"
      ]
     },
     "metadata": {
      "needs_background": "light"
     },
     "output_type": "display_data"
    },
    {
     "data": {
      "image/png": "[encoded data removed]",
      "text/plain": [
       "<Figure size 1296x288 with 3 Axes>"
      ]
     },
     "metadata": {
      "needs_background": "light"
     },
     "output_type": "display_data"
    },
    {
     "data": {
      "image/png": "[encoded data removed]",
      "text/plain": [
       "<Figure size 1296x288 with 3 Axes>"
      ]
     },
     "metadata": {
      "needs_background": "light"
     },
     "output_type": "display_data"
    },
    {
     "data": {
      "image/png": "[encoded data removed]",
      "text/plain": [
       "<Figure size 1296x288 with 3 Axes>"
      ]
     },
     "metadata": {
      "needs_background": "light"
     },
     "output_type": "display_data"
    }
   ],
   "source": [
    "# YOUR CODE HERE\n",
    "\n",
    "# Problem setup\n",
    "a = 0.0 \n",
    "b = 1.0 \n",
    "u_a = 0.0 \n",
    "u_b = 3.0 \n",
    "f = lambda x: -1 * numpy.sin(x) \n",
    "u_true = lambda x: (3 - numpy.sin(1))*x + numpy.sin(x)\n",
    "\n",
    "# Descretization\n",
    "N = [32, 64, 128, 256]\n",
    "for (j, n) in enumerate(N):\n",
    "    x_bc = numpy.linspace(a, b, n + 2)\n",
    "    x = x_bc[1:-1]\n",
    "    delta_x = (b - a) / (n + 1)\n",
    "    \n",
    "    # SOR parameters \n",
    "    omega_opt = 2.0 / (1.0 + numpy.sin(numpy.pi * delta_x))\n",
    "    omega = [1.8, omega_opt, 1.9]\n",
    "    \n",
    "    # expected iterations \n",
    "    iterations_SOR = 300 \n",
    "    \n",
    "    # solve system \n",
    "    # initial guess for iterations \n",
    "    fig = plt.figure()\n",
    "    fig.set_figwidth(fig.get_figwidth()*3)\n",
    "    \n",
    "    for x in range(3):\n",
    "        U = numpy.zeros(n + 2)\n",
    "        U[0] = u_a\n",
    "        U[-1] = u_b\n",
    "        \n",
    "        convergence_SOR_ode = numpy.zeros(iterations_SOR)\n",
    "        convergence_SOR_diff = numpy.zeros(iterations_SOR)\n",
    "        for k in range(iterations_SOR):\n",
    "            for i in range(1, n + 1):\n",
    "                U_gs = 0.5 * (U[i-1] + U[i+1] - delta_x**2 * f(x_bc[i]))\n",
    "                U[i] += omega[x] * (U_gs - U[i])\n",
    "\n",
    "            convergence_SOR_ode[k] = numpy.linalg.norm(u_true(x_bc) - U, ord=2)\n",
    "            if k != 0:\n",
    "                convergence_SOR_diff[k-1] = numpy.linalg.norm(U - U_prev, ord = 2)\n",
    "            U_prev = U.copy()\n",
    "\n",
    "    \n",
    "        # Plot result\n",
    "        axes = fig.add_subplot(1, 3, x + 1)\n",
    "        axes.semilogy(range(iterations_SOR), convergence_SOR_ode, 'o', label=\"Convergence of SOR (ODE)\")\n",
    "        axes.semilogy(range(iterations_SOR), convergence_SOR_diff, 'o', label=\"Convergence of SOR (difference)\")\n",
    "        axes.legend(loc=3)\n",
    "        axes.set_title(f\"Convergence of SOR Iterations for Poisson Problem \\n($\\omega$: {omega[x]}, N:{n})\")\n",
    "        axes.set_xlabel(\"Iteration\")\n",
    "        axes.set_ylabel(\"$||U^{(k)} - U^{(k-1)}||_2$\")\n",
    "        \n",
    "    plt.show()\n",
    "    "
   ]
  },
  {
   "cell_type": "markdown",
   "id": "2e6ceb11",
   "metadata": {
    "deletable": false,
    "editable": false,
    "nbgrader": {
     "cell_type": "markdown",
     "checksum": "b58b5eb745637fe7ec2892bc66e166de",
     "grade": false,
     "grade_id": "Q-1b",
     "locked": true,
     "schema_version": 3,
     "solution": false
    }
   },
   "source": [
    "**(b)** [5] Describe what you observe from part (a).  Please comment on the following\n",
    "1. Comment on the convergence rates, how steady are they (are the slopes constant).\n",
    "2. Compare the optimal value of $\\omega$ vs. the others.\n",
    "3. Why do you suppose those kinks in some of the convergence rates are happening?\n",
    "4. Describe and explain the different behavior between the convergences we plotted in each plot.\n",
    "5. For the $N = 32$ case why does the error convergence stall?"
   ]
  },
  {
   "cell_type": "markdown",
   "id": "ea2a6127",
   "metadata": {
    "deletable": false,
    "nbgrader": {
     "cell_type": "markdown",
     "checksum": "49d4865e4a3275093dc8c3795e51d545",
     "grade": true,
     "grade_id": "A-1b",
     "locked": false,
     "points": 5,
     "schema_version": 3,
     "solution": true
    }
   },
   "source": [
    "YOUR ANSWER HERE\n",
    "\n",
    "1. Convergence rates: \n",
    "> The slopes for the convergence rates were for the most part not constant, and therefore not steady. For the convergence rates in the norm of the ODE, except for when $\\omega = 1.8, \\text{with} N = 128, 256, \\text{and} \\omega = 1.9, N = 256$, the convergence rates were not steady. For the convergence rates of the norm of the difference between the subsequent steps of the iteration count, the only approximately steady convergence rate was when $\\omega = 1.8, N = 32$. We can clearly see that the convergence rate for the latter converge more quickly to the true solution than that of the ODE, and that as the number of iterations $N$ increases, the convergence rates tend to decrease (i.e. converges more slowly). \n",
    "\n",
    "2. Comparison of optimal values of $\\omega$: \n",
    "> The convergence rates with the optimal $\\omega$ tend to converge more quickly compared to other convergences with the same $N$. \n",
    "\n",
    "\n",
    "3. Why do you suppose those kinks in some of the convergence rates are happening? \n",
    "> The \"kinks\" i.e. the discontinuities/breaks occur because the convergence rates for nonlinear problems can  change as the iterations increase. In other words, as $N$ increases, if a better solution and therefore lower difference is found, we experience jumps in the convergence rates. \n",
    "\n",
    "4. Different behaviors between the convergences:\n",
    "> For the convergence rates of the norm of the ODE, as $\\omega$ approaches its optimal value, the convergence rates increase. Furthermoe, an increase in the number of iterations results in slower convergence rates. \n",
    "\n",
    "5. Error convergence stalling for $N = 32$: \n",
    "> For $N = 32$, the error conergence stalls because the minimum norm reaches $10^{-15}$, which is approximately equal to machine error, and because it cannot reach better accuracy. "
   ]
  },
  {
   "cell_type": "markdown",
   "id": "f20206c3",
   "metadata": {
    "deletable": false,
    "editable": false,
    "nbgrader": {
     "cell_type": "markdown",
     "checksum": "44d7d74c1e3108bb7734d9c4425d1c81",
     "grade": false,
     "grade_id": "Q-1c",
     "locked": true,
     "schema_version": 3,
     "solution": false
    }
   },
   "source": [
    "**(c)** [5] Let $g(\\omega) = \\rho(G(\\omega))$ be the spectral radius of the iteration matrix $G$ for a given value of $\\omega$.  Write a function that computes $g(\\omega)$ for a given value of $\\omega$ and $N$."
   ]
  },
  {
   "cell_type": "code",
   "execution_count": 3,
   "id": "69e5c762",
   "metadata": {
    "deletable": false,
    "nbgrader": {
     "cell_type": "code",
     "checksum": "46e21d11fae9993735402b6058754462",
     "grade": false,
     "grade_id": "A-1c",
     "locked": false,
     "schema_version": 3,
     "solution": true
    }
   },
   "outputs": [],
   "source": [
    "# spectral radius = largest absolute value of eigenvalues for iteration matrix G\n",
    "# from Lecture note 14 : LA iterative\n",
    "\n",
    "def g(omega, N):\n",
    "    \n",
    "    A = numpy.zeros((N, N))\n",
    "    for i in range(N):\n",
    "        for j in range(N):\n",
    "            if i == j:\n",
    "                A[i,j] = 2\n",
    "            if (i == (j+1)) or (i == (j-1)):\n",
    "                A[i,j] = -1\n",
    "                \n",
    "    L, U = numpy.zeros((N, N)), numpy.zeros((N, N))\n",
    "    D = numpy.zeros((N, N))\n",
    "    for i in range(N):\n",
    "        for j in range(N):\n",
    "            if i == j:\n",
    "                D[i,j] = A[i,j]\n",
    "            if i > j:\n",
    "                L[i,j] = A[i,j]\n",
    "            if i < j:\n",
    "                U[i,j] = A[i,j]\n",
    "    \n",
    "    M, matrixN = numpy.zeros((N, N)), numpy.zeros((N, N))\n",
    "    M = (1/omega)*(D - omega * L)\n",
    "    matrixN = (1/omega)*((1 - omega) * D + (omega * U))\n",
    "    \n",
    "    G = numpy.zeros((N, N))\n",
    "    G = numpy.dot(numpy.linalg.inv(M), matrixN)\n",
    "    \n",
    "    eigenvalues = numpy.linalg.eigvals(G)\n",
    "    p = max(numpy.abs(eigenvalues))\n",
    "    spec_radius = p\n",
    "        \n",
    "    return spec_radius"
   ]
  },
  {
   "cell_type": "code",
   "execution_count": 4,
   "id": "d2f8e77d",
   "metadata": {
    "deletable": false,
    "editable": false,
    "nbgrader": {
     "cell_type": "code",
     "checksum": "a4b487a8b225125853692741601be73a",
     "grade": true,
     "grade_id": "T-1c",
     "locked": true,
     "points": 5,
     "schema_version": 3,
     "solution": false
    }
   },
   "outputs": [
    {
     "name": "stdout",
     "output_type": "stream",
     "text": [
      "Success!\n"
     ]
    }
   ],
   "source": [
    "numpy.testing.assert_allclose(0.93967633319, g(1.93967633319, 100), atol=1e-8)\n",
    "print(\"Success!\")"
   ]
  },
  {
   "cell_type": "markdown",
   "id": "081c6780",
   "metadata": {
    "deletable": false,
    "editable": false,
    "nbgrader": {
     "cell_type": "markdown",
     "checksum": "fe558e0b32cb866a27f36e7bbc2dace7",
     "grade": false,
     "grade_id": "Q-1d",
     "locked": true,
     "schema_version": 3,
     "solution": false
    }
   },
   "source": [
    "**(d)** [5] Plot the function $g(\\omega)$ for $N = [8, 16, 32, 64]$ for $\\omega \\in [0, 3.5]$ (you may not be able to go all the way to 0).  Also find the optimal $\\omega$ using an appropriate numerical method from class to within $10^{-8}$ of the **known optimal value** and plot the minimum on your plots.  Also plot lines on your figures representing the values of $g(\\omega)$ that will diverge and our theoretical range of valid $\\omega$s."
   ]
  },
  {
   "cell_type": "code",
   "execution_count": 10,
   "id": "f4684470",
   "metadata": {
    "deletable": false,
    "nbgrader": {
     "cell_type": "code",
     "checksum": "651e32054bab8b9aac4376570f824861",
     "grade": true,
     "grade_id": "A-1d",
     "locked": false,
     "points": 5,
     "schema_version": 3,
     "solution": true
    }
   },
   "outputs": [
    {
     "data": {
      "image/png": "[encoded data removed]",
      "text/plain": [
       "<Figure size 3024x288 with 1 Axes>"
      ]
     },
     "metadata": {
      "needs_background": "light"
     },
     "output_type": "display_data"
    }
   ],
   "source": [
    "# YOUR CODE HERE\n",
    "\n",
    "tol = 1e-8\n",
    "MAX_STEPS = 100\n",
    "\n",
    "fig = plt.figure()\n",
    "fig.set_figwidth(fig.get_figwidth()*7)\n",
    "axes = fig.add_subplot(1, 2, 1)\n",
    "\n",
    "# finding omega_opt using the golden search bracket (from Lecture 5 Notes)\n",
    "N = [8, 16, 32, 64]\n",
    "phi = (numpy.sqrt(5.0) - 1.) / 2.0\n",
    "for (j, n) in enumerate(N): \n",
    "    t = numpy.linspace(0.1, 3.5, 100)\n",
    "    delta_x = 1 / (n + 1)\n",
    "    omega_opt = 2 / (1 + numpy.sin(numpy.pi + delta_x))\n",
    "    \n",
    "    # using golden search bracekt \n",
    "    x = [0.2, None, None, 3.2]\n",
    "    deltx = x[3] - x[0]\n",
    "    x[1] = x[3] - phi * deltx\n",
    "    x[2] = x[0] + phi * deltx\n",
    "    \n",
    "    for k in range(1, MAX_STEPS + 1):\n",
    "        g_1 = g(x[1], n)\n",
    "        g_2 = g(x[2], n)\n",
    "            \n",
    "        if g_1 < g_2:\n",
    "            # Pick the left bracket\n",
    "            x_new = [x[0], None, x[1], x[2]]\n",
    "            deltx = x_new[3] - x_new[0]\n",
    "            x_new[1] = x_new[3] - phi * deltx\n",
    "        else:\n",
    "            # Pick the right bracket\n",
    "            x_new = [x[1], x[2], None, x[3]]\n",
    "            deltx = x_new[3] - x_new[0]\n",
    "            x_new[2] = x_new[0] + phi * deltx\n",
    "        x = x_new\n",
    "        \n",
    "        if numpy.abs(x[0] - omega_opt) < tol:\n",
    "            break\n",
    "            \n",
    "    axes.plot(x[0],g(x[0],n),'ro', label=\"min\")        \n",
    "    omega = numpy.linspace(0.1,3.5,100)\n",
    "    gg = numpy.zeros(100)\n",
    "    for i in range(100):\n",
    "        gg[i] = g(omega[i], n)\n",
    "    axes.plot(omega, gg, '-', label=f\"N:{n}\")\n",
    "\n",
    "axes.set_title(\"g($\\omega$)\")\n",
    "axes.set_xlabel(\"$\\omega$\")\n",
    "axes.set_ylabel(\"rho\")\n",
    "axes.legend(loc=3)\n",
    "\n",
    "plt.grid()\n",
    "plt.show()"
   ]
  },
  {
   "cell_type": "markdown",
   "id": "bb2b1464",
   "metadata": {
    "deletable": false,
    "editable": false,
    "nbgrader": {
     "cell_type": "markdown",
     "checksum": "09d3bbd28e6f60717a7b635a24141cf2",
     "grade": false,
     "grade_id": "Q-1e",
     "locked": true,
     "schema_version": 3,
     "solution": false
    }
   },
   "source": [
    "**(e)** [5] Comment on what you observe and interpret the changes in the function $g(\\omega)$, especially for $\\omega > 2$."
   ]
  },
  {
   "cell_type": "markdown",
   "id": "874b5d05",
   "metadata": {
    "deletable": false,
    "nbgrader": {
     "cell_type": "markdown",
     "checksum": "8effbbf4eeb22149a4de00d1fd0f74be",
     "grade": true,
     "grade_id": "A-1e",
     "locked": false,
     "points": 5,
     "schema_version": 3,
     "solution": true
    }
   },
   "source": [
    "YOUR ANSWER HERE\n",
    "\n",
    "By the properties of the spectral radius $g(\\omega)$, determined by the maximum of the absolute values of the eigenvalues, we know that if $\\omega > 1$, then $g$ diverges. We can see this in the graph above, the $g(\\omega)$ for each $N$ start to diverge as $\\omega$ approaches 2. "
   ]
  },
  {
   "cell_type": "markdown",
   "id": "3a082de6",
   "metadata": {
    "deletable": false,
    "editable": false,
    "nbgrader": {
     "cell_type": "markdown",
     "checksum": "9dcf4b3c87f11037bd3e29b2feaf6975",
     "grade": false,
     "grade_id": "Q-3",
     "locked": true,
     "schema_version": 3,
     "solution": false
    }
   },
   "source": [
    "## Question 4\n",
    "\n",
    "Determine the coefficients $\\beta_0,~\\beta_1,~\\beta_2$ for the third\n",
    "order, 2-step Adams-Moulton method.  We will do this two different ways:"
   ]
  },
  {
   "cell_type": "markdown",
   "id": "25db00ac",
   "metadata": {
    "deletable": false,
    "editable": false,
    "nbgrader": {
     "cell_type": "markdown",
     "checksum": "ec666a82100bd1ebd6b90bcc2fc7a054",
     "grade": false,
     "grade_id": "Q-3a",
     "locked": true,
     "schema_version": 3,
     "solution": false
    }
   },
   "source": [
    "**(a)** [15] Using the general expression for the local truncation error for multi-step methods\n",
    "$$\n",
    "    \\tau^{n + r} = \\frac{1}{\\Delta t} \\left (\\sum^r_{j=0} \\alpha_j u(t_{n+j}) - \\Delta t \\sum^r_{j=0} \\beta_j f(u(t_{n+j})) \\right ).\n",
    "$$\n",
    "Note that $\\alpha_0 = 0$, $\\alpha_1 = -1$, and $\\alpha_2 = 1$."
   ]
  },
  {
   "cell_type": "markdown",
   "id": "b60ff18e",
   "metadata": {
    "deletable": false,
    "nbgrader": {
     "cell_type": "markdown",
     "checksum": "e9219f68e2137de4c168c4db10fdb66a",
     "grade": true,
     "grade_id": "A-3a",
     "locked": false,
     "points": 15,
     "schema_version": 3,
     "solution": true
    }
   },
   "source": [
    "YOUR ANSWER HERE\n",
    "\n",
    "Reference: lecture number 9: ODE ivp part 1\n",
    "\n",
    "From lecture notes, we know that using the general expansion and evalutation of the Taylor series about $t_n$, we end up with \n",
    "\n",
    "$$\n",
    "\\begin{aligned}\n",
    "    T(t, u; \\Delta t) &= \\frac{1}{\\Delta t}\\left( \\sum^r_{j=0} \\alpha_j\\right) u(t_n) + \\left(\\sum^r_{j=0} (j\\alpha_j - \\beta_j)\\right) u'(t_n) + \\Delta t \\left(\\sum^r_{j=0} \\left (\\frac{1}{2}j^2 \\alpha_j - j \\beta_j \\right) \\right) u''(t_n) \\\\\n",
    "& \\quad \\quad + \\cdots + \\Delta t^{q - 1} \\left (\\sum^r_{j=0} \\left(\\frac{1}{q!} j^q \\alpha_j - \\frac{1}{(q-1)!} j^{q-1} \\beta_j \\right) \\right) u^{(q)}(t_n) + \\cdots\n",
    "\\end{aligned}\n",
    "$$"
   ]
  },
  {
   "cell_type": "markdown",
   "id": "811d8e88",
   "metadata": {},
   "source": [
    "Since we are using the 2-step Adams-Moulton method, we set $r = 2$. We want the first 2 terms to = 0, so that the method is consistent. \n",
    "\n",
    "$\\textbf{1st term: }$ We verify that the summation = 0\n",
    "\n",
    "$$ \n",
    "    \\sum^2_{j=0} \\alpha_j = \\alpha_0 + \\alpha_1 + \\alpha_2 = 0 - 1 + 1 = 0 \n",
    "$$\n",
    "\n",
    "$\\textbf{2nd term: }$ \n",
    "\n",
    "$$ \\begin{aligned}\n",
    "    \\sum^2_{j=0} (j \\alpha_j - \\beta_j) &= (0(\\alpha_0) - \\beta_0) + (\\alpha_1 - \\beta_1) + (2\\alpha_2 - \\beta_2) = 0\\\\\n",
    "    &= -\\beta_0 - 1 - \\beta_1 + 2 - \\beta_2 \\\\\n",
    "    \\rightarrow& \\beta_0 + \\beta_1 + \\beta_2 = -1 + 2 = 1 \\\\\n",
    "\\end{aligned}\n",
    "$$\n",
    "\n",
    "We verify that $\\sum^r_{j=0} j \\alpha_j = \\sum^r_{j=0} \\beta_j$ (which is true). So we get $\\beta_0 + \\beta_1 + \\beta_2 = 1 $. \n",
    "\n",
    "$\\textbf{3rd term: }$ \n",
    "\n",
    "$$ \\begin{aligned}\n",
    "    \\sum^2_{j=0} (\\frac{1}{2}j^2 \\alpha_j - j \\beta_j) &= 1 \\\\\n",
    "    &= \\frac{1}{2}(0)^2\\alpha_j - (0)\\beta_j) + (\\frac{1}{2}\\alpha_1 - \\beta_1) + (\\frac{1}{2}(4)\\alpha_2 - 2\\beta_2) \\\\\n",
    "    &= -\\frac{1}{2} - \\beta_1 + 2 - 2\\beta_2 = 1 \\\\ \n",
    "    -\\beta_1 - 2\\beta_2 = 1-2+\\frac{1}{2}\n",
    "\\end{aligned}\n",
    "$$\n",
    "\n",
    "So we get $\\beta_1 + 2\\beta_2 = \\frac{1}{2}$. \n",
    "\n",
    "$\\textbf{4th term: }$ $q = 3$ so \n",
    "\n",
    "\n",
    "$$ \\begin{aligned}\n",
    "    \\sum^2_{j=0} &(\\frac{1}{3!}j^3 \\alpha_j - \\frac{1}{2!} j^2 \\beta_j) = 1 \\\\\n",
    "    &= (\\frac{1}{6}(0)\\alpha_0 - \\frac{1}{2}(0)\\beta_0) + (\\frac{1}{6}\\alpha_1 - \\frac{1}{2}\\beta_1) + (\\frac{1}{6}8 \\alpha_2 - \\frac{1}{2}4\\beta_2) \\\\\n",
    "    &= -\\frac{1}{6} - \\frac{1}{2}\\beta_1 + \\frac{8}{6} - 2 \\beta_2 = 1 \\\\ \n",
    "    -\\frac{1}{2}\\beta_1 - 2\\beta_2 &= 1 - \\frac{7}{6}\n",
    "\\end{aligned}\n",
    "$$\n",
    "\n",
    "So $\\frac{1}{2}\\beta_1 + 2\\beta_2 = \\frac{1}{6}$.\n",
    "\n",
    "So then we obtain a system of equations from which we can solve for $\\beta_0, \\beta_1, \\beta_2$:\n",
    "\n",
    "$$ \n",
    "    \\beta_0 + \\beta_1 + \\beta_2 = 1  \\\\\n",
    "    \\beta_1 + 2\\beta_2 = \\frac{1}{2} \\\\\n",
    "    \\frac{1}{2}\\beta_1 + 2\\beta_2 = \\frac{1}{6}\n",
    "$$\n",
    "\n",
    "> Subtraction eq 3 from eq 2: $\\beta_1 = \\frac{2}{3}$\n",
    "\n",
    "> Plugging that value into eq 2 gives us: $\\beta_2 = -\\frac{1}{12}$\n",
    "\n",
    "> Plugging these values into eq 1: $\\beta_0 = \\frac{5}{12}$\n",
    "\n",
    "So finally: $\\beta_0 = \\frac{5}{12}, \\beta_1 = \\frac{2}{3}, \\beta_2 = -\\frac{1}{12}$ derived using the 2-step Adams-Moulton method."
   ]
  },
  {
   "cell_type": "markdown",
   "id": "dcd36b2d",
   "metadata": {
    "deletable": false,
    "editable": false,
    "nbgrader": {
     "cell_type": "markdown",
     "checksum": "a848011467f7ba9bfc685e30d6340e80",
     "grade": false,
     "grade_id": "Q-3b",
     "locked": true,
     "schema_version": 3,
     "solution": false
    }
   },
   "source": [
    "**(b)** [15] Using the relation\n",
    "$$\n",
    "    u(t_{n+2}) = u(t_{n+1}) + \\int_{t_{n+1}}^{t_{n+2}}\\,f(u(s))\\,ds.\n",
    "$$\n",
    "Interpolate  a quadratic polynomial $p(t)$ through the three values $f(U^n),~f(U^{n+1})$ and $f(U^{n+2})$ and then integrate this polynomial exactly to obtain the formula.  The coefficients of the polynomial will depend on the three values $f(U^{n+j})$.   It's easiest to use the \"Newton form\" of the interpolating polynomial and consider the three\n",
    "times $t_n=-\\Delta t$, $t_{n+1}=0$, and $t_{n+2}=\\Delta t$ so that $p(t)$ has the form\n",
    "$$\n",
    "    p(t) = A + B(t+\\Delta t) + C(t+\\Delta t)t\n",
    "$$\n",
    "where $A,~B$, and $C$ are the appropriate divided differences based on the data.  Then integrate from $0$ to $\\Delta t$.   (The method has the same coefficients at any time, so this is valid.)"
   ]
  },
  {
   "cell_type": "markdown",
   "id": "45661322",
   "metadata": {
    "deletable": false,
    "nbgrader": {
     "cell_type": "markdown",
     "checksum": "884f27b2cec1a458e87015d0d8598145",
     "grade": true,
     "grade_id": "A-3b",
     "locked": false,
     "points": 15,
     "schema_version": 3,
     "solution": true
    }
   },
   "source": [
    "YOUR ANSWER HERE\n",
    "\n",
    "Given the interpolating quadratic polynomial of the form $p(t) = A + B(t + \\Delta t) + C(t + \\Delta t)t$, we take the integral from $0$ to $\\Delta t$. \n",
    "\n",
    "$$ \\begin{aligned}\n",
    "    p(t) &= A + B(t + \\Delta t) + C(t + \\Delta t)t \\\\\n",
    "    &= A + Bt + B\\Delta t + Ct^2 + Ct \\Delta t \\\\\n",
    "    \\int_{t_{n+1}}^{t_{n+2}}\\,p(t)\\,dt &= \\int_0^{\\Delta t} (A + Bt + B\\Delta t + Ct^2 + Ct \\Delta t)\\,dt \\\\\n",
    "    &= At + \\frac{1}{2}Bt^2 + Bt \\Delta t + \\frac{1}{3}Ct^3 + \\frac{1}{2}Ct^2 \\Delta t \\, \\bigg\\rvert_0^{\\Delta t} \\\\\n",
    "    &= A \\Delta t + B(\\frac{1}{2}\\Delta t^2 + \\Delta t^2) + C(\\frac{1}{3}\\Delta t^3 + \\frac{1}{2}\\Delta t^3) \\\\\n",
    "    &= A \\Delta t + \\frac{3}{2}B \\Delta t^2 + \\frac{5}{6}C \\Delta t^3\n",
    "\\end{aligned}\n",
    "$$\n",
    "\n",
    "From the relation $u(t_{n+2}) = u(t_{n+1}) + \\int_{t_{n+1}}^{t_{n+2}}\\,f(u(s))\\,ds$, i.e. $u(t_{n+2}) - u(t_{n+1}) = \\int_{t_{n+1}}^{t_{n+2}}\\,f(u(s))\\,ds$, and we can find $A, B, C$ in terms of $f(u_n), f(u_{n+1}), f(u_{n+2})$: \n",
    "\n",
    "$$ \\begin{aligned}\n",
    "    A &= f(u_n) \\\\ \n",
    "    A + B\\Delta t = f(u_{n+1}) \\Longrightarrow B &= \\frac{f(u_{n+1}) - f(u_n)}{\\Delta t} \\\\ \n",
    "    A + 2\\Delta t B + 2\\Delta t^2 C = f(u_{n+2}) \\Longrightarrow C &= \\frac{f(u_{n+2}) - A - 2\\Delta t B}{2 \\Delta t^2} \\\\ \n",
    "    &= \\frac{f(u_{n+2}) - 2 (f(u_{n+1}) - f(u_n)) - f(u_n)}{2 \\Delta t^2} \\\\\n",
    "    &= \\frac{f(u_{n+2}) - 2f(u_{n+1}) + f(u_n)}{2 \\Delta t^2}\n",
    "\\end{aligned}\n",
    "$$\n",
    "\n",
    "Plugging $A, B, C$ in terms of $f(u_n), f(u_{n+1}), f(u_{n+2})$ into the integral of $p(t)$:\n",
    "\n",
    "$$ \\begin{aligned}\n",
    "    A \\Delta t + \\frac{3}{2}B &\\Delta t^2 + \\frac{5}{6}C \\Delta t^3  \\\\ \n",
    "    &=f\\left( u_{n}\\right) \\Delta t+\\dfrac{3}{2}\\Delta t^{2}\\left( \\dfrac{f\\left( u_{n+1}\\right) -f\\left( u_{n}\\right) }{\\Delta t}\\right) +\\dfrac{5}{6}\\Delta t^{3}\\left( \\dfrac{f\\left( u_{n+2}\\right) -2f\\left( u_{n+1}\\right) +f\\left( u_{n}\\right) }{2\\Delta t^{2}}\\right) \\\\\n",
    "    &= f\\left( u_{n}\\right) \\Delta t+\\dfrac{3}{2}\\Delta t\\left( f\\left( u_{n+1}\\right) -f\\left( u_{n}\\right) \\right) +\\dfrac{5}{12}\\Delta t( f\\left( u_{n+2}\\right) -2f\\left( u_{n+1}\\right) +f\\left( u_{n}\\right) \\\\\n",
    "    &= \\Delta t\\left( f\\left( u_{n}\\right) +\\dfrac{3}{2}f\\left( u_{n+1}\\right) -\\dfrac{3}{2}f\\left( u_{n}\\right) +\\dfrac{5}{12}f\\left( u_{n+2}\\right) -\\dfrac{5}{6}f\\left( u_{n+1}\\right) +\\dfrac{5}{12}f\\left( u_{n}\\right) \\right) \\\\\n",
    "    &= \\Delta t\\left( -\\dfrac{1}{12}f\\left( u_{n}\\right) +\\dfrac{2}{3}f\\left( u_{n+1}\\right) +\\dfrac{5}{12}f\\left( u_{n+2}\\right) \\right) \n",
    "\\end{aligned}\n",
    "$$\n",
    "\n",
    "So finally, $= \\frac{\\Delta t}{12} \\left( -f\\left( u_{n}\\right) +8f\\left( u_{n+1}\\right) + 5f\\left( u_{n+2}\\right) \\right)$"
   ]
  }
 ],
 "metadata": {
  "kernelspec": {
   "display_name": "Python 3",
   "language": "python",
   "name": "python3"
  },
  "language_info": {
   "codemirror_mode": {
    "name": "ipython",
    "version": 3
   },
   "file_extension": ".py",
   "mimetype": "text/x-python",
   "name": "python",
   "nbconvert_exporter": "python",
   "pygments_lexer": "ipython3",
   "version": "3.8.8"
  },
  "latex_envs": {
   "bibliofile": "biblio.bib",
   "cite_by": "apalike",
   "current_citInitial": 1,
   "eqLabelWithNumbers": true,
   "eqNumInitial": 0
  }
 },
 "nbformat": 4,
 "nbformat_minor": 5
}
